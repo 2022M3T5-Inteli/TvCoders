{
  "nbformat": 4,
  "nbformat_minor": 0,
  "metadata": {
    "colab": {
      "provenance": []
    },
    "kernelspec": {
      "name": "python3",
      "display_name": "Python 3"
    },
    "language_info": {
      "name": "python"
    }
  },
  "cells": [
    {
      "cell_type": "code",
      "source": [
        "Ano = 2020 #Insira a informação de ano\n",
        "Mês = 7 #Insira a informação de mês\n",
        "Dia = 22 #Insira a informação de dia\n",
        "Dia_da_Semana = 2 #Insira a informação do dia da semana (Segunda = 0; Terça = 1; Quarta = 2; Quinta = 3; Sexta = 4; Sábado = 5; Domingo = 6)\n",
        "Hora = 18 #Insira a informação de minuto\n",
        "Minuto = 30 #Insira a informação de minuto\n",
        "Feriado = False #Insira a informação se é feriado(True) ou se não é(False)"
      ],
      "metadata": {
        "id": "JNy1qrFPMMIw"
      },
      "execution_count": null,
      "outputs": []
    },
    {
      "cell_type": "markdown",
      "source": [
        "# Aplicação do modelo"
      ],
      "metadata": {
        "id": "FJpv0NvsQHDY"
      }
    },
    {
      "cell_type": "code",
      "source": [
        "import pandas as pd\n",
        "import sklearn\n",
        "from google.colab import drive\n",
        "import numpy as np\n",
        "from sklearn.model_selection import train_test_split\n",
        "from sklearn.neighbors import KNeighborsRegressor\n",
        "drive.mount('/content/drive')"
      ],
      "metadata": {
        "colab": {
          "base_uri": "https://localhost:8080/"
        },
        "id": "C1AwmzxrHv00",
        "outputId": "f7942396-8d10-4435-eb9f-1d18d91a722a"
      },
      "execution_count": null,
      "outputs": [
        {
          "output_type": "stream",
          "name": "stdout",
          "text": [
            "Drive already mounted at /content/drive; to attempt to forcibly remount, call drive.mount(\"/content/drive\", force_remount=True).\n"
          ]
        }
      ]
    },
    {
      "cell_type": "code",
      "execution_count": null,
      "metadata": {
        "id": "go5djfakFW4k"
      },
      "outputs": [],
      "source": [
        "df_teste = pd.read_csv('drive/MyDrive/Colab Notebooks/Entrega Final/pred_data.csv')\n",
        "del df_teste['Unnamed: 0']"
      ]
    },
    {
      "cell_type": "code",
      "source": [
        "df_both = pd.DataFrame(data=df_teste)\n",
        "y = df_both[['Total de Domicílios','Masculino','Feminino','AB','C1','C2','DE','4-11 anos','12-17 anos','18-24 anos','25-34 anos','35-49 anos','50-59 anos','60+ anos']]"
      ],
      "metadata": {
        "id": "VG-EIFe7Fzu_"
      },
      "execution_count": null,
      "outputs": []
    },
    {
      "cell_type": "code",
      "source": [
        "df_both.drop(['Total de Domicílios'], axis=1, inplace=True)\n",
        "df_both.drop(['Masculino'], axis=1, inplace=True)\n",
        "df_both.drop(['Feminino'], axis=1, inplace=True)\n",
        "df_both.drop(['AB'], axis=1, inplace=True)\n",
        "df_both.drop(['C1'], axis=1, inplace=True)\n",
        "df_both.drop(['C2'], axis=1, inplace=True)\n",
        "df_both.drop(['DE'], axis=1, inplace=True)\n",
        "df_both.drop(['4-11 anos'], axis=1, inplace=True)\n",
        "df_both.drop(['12-17 anos'], axis=1, inplace=True)\n",
        "df_both.drop(['18-24 anos'], axis=1, inplace=True)\n",
        "df_both.drop(['25-34 anos'], axis=1, inplace=True)\n",
        "df_both.drop(['35-49 anos'], axis=1, inplace=True)\n",
        "df_both.drop(['50-59 anos'], axis=1, inplace=True)\n",
        "df_both.drop(['60+ anos'], axis=1, inplace=True)\n",
        "df_both.drop(['Total de Indivíduos'], axis=1, inplace=True)\n",
        "df_both.drop(['Masculino FID'], axis=1, inplace=True)\n",
        "df_both.drop(['Feminino FID'], axis=1, inplace=True)\n",
        "df_both.drop(['AB FID'], axis=1, inplace=True)\n",
        "df_both.drop(['C1 FID'], axis=1, inplace=True)\n",
        "df_both.drop(['C2 FID'], axis=1, inplace=True)\n",
        "df_both.drop(['DE FID'], axis=1, inplace=True)\n",
        "df_both.drop(['4-11 anos FID'], axis=1, inplace=True)\n",
        "df_both.drop(['12-17 anos FID'], axis=1, inplace=True)\n",
        "df_both.drop(['18-24 anos FID'], axis=1, inplace=True)\n",
        "df_both.drop(['25-34 anos FID'], axis=1, inplace=True)\n",
        "df_both.drop(['35-49 anos FID'], axis=1, inplace=True)\n",
        "df_both.drop(['50-59 anos FID'], axis=1, inplace=True)\n",
        "df_both.drop(['60+ anos FID'], axis=1, inplace=True)\n",
        "df_both.drop(['Total de Domicílios SHR'], axis=1, inplace=True)\n",
        "df_both.drop(['Masculino SHR'], axis=1, inplace=True)\n",
        "df_both.drop(['Feminino SHR'], axis=1, inplace=True)\n",
        "df_both.drop(['AB SHR'], axis=1, inplace=True)\n",
        "df_both.drop(['C1 SHR'], axis=1, inplace=True)\n",
        "df_both.drop(['C2 SHR'], axis=1, inplace=True)\n",
        "df_both.drop(['DE SHR'], axis=1, inplace=True)\n",
        "df_both.drop(['4-11 anos SHR'], axis=1, inplace=True)\n",
        "df_both.drop(['12-17 anos SHR'], axis=1, inplace=True)\n",
        "df_both.drop(['18-24 anos SHR'], axis=1, inplace=True)\n",
        "df_both.drop(['25-34 anos SHR'], axis=1, inplace=True)\n",
        "df_both.drop(['35-49 anos SHR'], axis=1, inplace=True)\n",
        "df_both.drop(['50-59 anos SHR'], axis=1, inplace=True)\n",
        "df_both.drop(['60+ anos SHR'], axis=1, inplace=True)"
      ],
      "metadata": {
        "id": "sHfJUZmWF0nf"
      },
      "execution_count": null,
      "outputs": []
    },
    {
      "cell_type": "code",
      "source": [
        "X_train, X_test, y_train, y_test = train_test_split(df_both, y, test_size=0.00000001, shuffle=True)"
      ],
      "metadata": {
        "id": "K4J6HAy1F1uq"
      },
      "execution_count": null,
      "outputs": []
    },
    {
      "cell_type": "code",
      "source": [
        "clf = KNeighborsRegressor(n_neighbors=2, p=2)\n",
        "clf.fit(X_train, y_train)"
      ],
      "metadata": {
        "id": "68uRMD4kF_lx",
        "colab": {
          "base_uri": "https://localhost:8080/"
        },
        "outputId": "c4478e47-bfe6-499f-ab2c-295f783a9271"
      },
      "execution_count": null,
      "outputs": [
        {
          "output_type": "execute_result",
          "data": {
            "text/plain": [
              "KNeighborsRegressor(n_neighbors=2)"
            ]
          },
          "metadata": {},
          "execution_count": 24
        }
      ]
    },
    {
      "cell_type": "code",
      "source": [
        "hora_minuto = Hora + Minuto/60\n",
        "data = [[Ano, Mês, Dia, Dia_da_Semana, Feriado, hora_minuto]]\n",
        "infos = pd.DataFrame(data=data, columns=['Ano', 'Mês', 'Dia', 'Dia da Semana', 'Feriado', 'Hora e Minuto'])"
      ],
      "metadata": {
        "id": "MGZ27IzZHBNN"
      },
      "execution_count": null,
      "outputs": []
    },
    {
      "cell_type": "code",
      "source": [
        "test_pred = clf.predict(infos)"
      ],
      "metadata": {
        "id": "xr0RMz0KGBgA"
      },
      "execution_count": null,
      "outputs": []
    },
    {
      "cell_type": "code",
      "source": [
        "df_both2 = pd.DataFrame(data=df_teste)\n",
        "y2 = df_both2[['Total de Indivíduos','Masculino FID','Feminino FID','AB FID','C1 FID','C2 FID','DE FID','4-11 anos FID','12-17 anos FID','18-24 anos FID','25-34 anos FID','35-49 anos FID','50-59 anos FID','60+ anos FID','Total de Domicílios SHR','Masculino SHR','Feminino SHR','AB SHR','C1 SHR','C2 SHR','DE SHR','4-11 anos SHR','12-17 anos SHR','18-24 anos SHR','25-34 anos SHR','35-49 anos SHR','50-59 anos SHR','60+ anos SHR']]"
      ],
      "metadata": {
        "id": "LvxtpF4cGc2y"
      },
      "execution_count": null,
      "outputs": []
    },
    {
      "cell_type": "code",
      "source": [
        "df_both2.drop(['Total de Indivíduos'], axis=1, inplace=True)\n",
        "df_both2.drop(['Masculino FID'], axis=1, inplace=True)\n",
        "df_both2.drop(['Feminino FID'], axis=1, inplace=True)\n",
        "df_both2.drop(['AB FID'], axis=1, inplace=True)\n",
        "df_both2.drop(['C1 FID'], axis=1, inplace=True)\n",
        "df_both2.drop(['C2 FID'], axis=1, inplace=True)\n",
        "df_both2.drop(['DE FID'], axis=1, inplace=True)\n",
        "df_both2.drop(['4-11 anos FID'], axis=1, inplace=True)\n",
        "df_both2.drop(['12-17 anos FID'], axis=1, inplace=True)\n",
        "df_both2.drop(['18-24 anos FID'], axis=1, inplace=True)\n",
        "df_both2.drop(['25-34 anos FID'], axis=1, inplace=True)\n",
        "df_both2.drop(['35-49 anos FID'], axis=1, inplace=True)\n",
        "df_both2.drop(['50-59 anos FID'], axis=1, inplace=True)\n",
        "df_both2.drop(['60+ anos FID'], axis=1, inplace=True)\n",
        "df_both2.drop(['Total de Domicílios SHR'], axis=1, inplace=True)\n",
        "df_both2.drop(['Masculino SHR'], axis=1, inplace=True)\n",
        "df_both2.drop(['Feminino SHR'], axis=1, inplace=True)\n",
        "df_both2.drop(['AB SHR'], axis=1, inplace=True)\n",
        "df_both2.drop(['C1 SHR'], axis=1, inplace=True)\n",
        "df_both2.drop(['C2 SHR'], axis=1, inplace=True)\n",
        "df_both2.drop(['DE SHR'], axis=1, inplace=True)\n",
        "df_both2.drop(['4-11 anos SHR'], axis=1, inplace=True)\n",
        "df_both2.drop(['12-17 anos SHR'], axis=1, inplace=True)\n",
        "df_both2.drop(['18-24 anos SHR'], axis=1, inplace=True)\n",
        "df_both2.drop(['25-34 anos SHR'], axis=1, inplace=True)\n",
        "df_both2.drop(['35-49 anos SHR'], axis=1, inplace=True)\n",
        "df_both2.drop(['50-59 anos SHR'], axis=1, inplace=True)\n",
        "df_both2.drop(['60+ anos SHR'], axis=1, inplace=True)"
      ],
      "metadata": {
        "id": "dkkcQCx2Gv72"
      },
      "execution_count": null,
      "outputs": []
    },
    {
      "cell_type": "code",
      "source": [
        "X_train2, X_test2, y_train2, y_test2 = train_test_split(df_both2, y2, test_size=0.0000001, shuffle=True)"
      ],
      "metadata": {
        "id": "Wzwr7ElbG156"
      },
      "execution_count": null,
      "outputs": []
    },
    {
      "cell_type": "code",
      "source": [
        "clf = KNeighborsRegressor(n_neighbors=2, p=2)\n",
        "clf.fit(X_train2, y_train2)"
      ],
      "metadata": {
        "id": "zNlXBuB6G7DW",
        "colab": {
          "base_uri": "https://localhost:8080/"
        },
        "outputId": "05769098-56ac-43c1-c924-648c88f73a84"
      },
      "execution_count": null,
      "outputs": [
        {
          "output_type": "execute_result",
          "data": {
            "text/plain": [
              "KNeighborsRegressor(n_neighbors=2)"
            ]
          },
          "metadata": {},
          "execution_count": 30
        }
      ]
    },
    {
      "cell_type": "code",
      "source": [
        "data2 = [[Ano, Mês, Dia, Dia_da_Semana, test_pred[0][0], test_pred[0][1], test_pred[0][2], test_pred[0][3], test_pred[0][4], test_pred[0][5], test_pred[0][6], test_pred[0][7], test_pred[0][8], test_pred[0][9], test_pred[0][10], test_pred[0][11], test_pred[0][12], test_pred[0][13], Feriado, hora_minuto]]\n",
        "infos2 = pd.DataFrame(data=data2, columns=['Ano', 'Mês', 'Dia', 'Dia da Semana', 'Total de Domicílios', 'Masculino', 'Feminino', 'AB', 'C1', 'C2', 'DE', '4-11 anos','12-17 anos', '18-24 anos', '25-34 anos', '35-49 anos', '50-59 anos','60+ anos', 'Feriado', 'Hora e Minuto'])"
      ],
      "metadata": {
        "id": "yVE220EiHACG"
      },
      "execution_count": null,
      "outputs": []
    },
    {
      "cell_type": "code",
      "source": [
        "test_pred2 = clf.predict(infos2)"
      ],
      "metadata": {
        "id": "UCtqBzcaG8rv"
      },
      "execution_count": null,
      "outputs": []
    },
    {
      "cell_type": "code",
      "source": [
        "results = [[test_pred[0][0], test_pred[0][1], test_pred[0][2], test_pred[0][3], test_pred[0][4], test_pred[0][5], test_pred[0][6], test_pred[0][7], test_pred[0][8], test_pred[0][9], test_pred[0][10], test_pred[0][11], test_pred[0][12], test_pred[0][13], test_pred2[0][0],test_pred2[0][1],test_pred2[0][2],test_pred2[0][3],test_pred2[0][4],test_pred2[0][5],test_pred2[0][6],test_pred2[0][7],test_pred2[0][8],test_pred2[0][9],test_pred2[0][10],test_pred2[0][11],test_pred2[0][12],test_pred2[0][13],test_pred2[0][14],test_pred2[0][15],test_pred2[0][16],test_pred2[0][17],test_pred2[0][18],test_pred2[0][19],test_pred2[0][20],test_pred2[0][21],test_pred2[0][22],test_pred2[0][23],test_pred2[0][24],test_pred2[0][25],test_pred2[0][26],test_pred2[0][27]]]\n",
        "result = pd.DataFrame(data=results, columns=['Total de Domicílios', 'Masculino', 'Feminino', 'AB', 'C1', 'C2', 'DE', '4-11 anos', '12-17 anos', '18-24 anos', '25-34 anos', '35-49 anos', '50-59 anos', '60+ anos', 'Total de Indivíduos','Masculino FID','Feminino FID','AB FID','C1 FID','C2 FID','DE FID','4-11 anos FID','12-17 anos FID','18-24 anos FID','25-34 anos FID','35-49 anos FID','50-59 anos FID','60+ anos FID','Total de Domicílios SHR','Masculino SHR','Feminino SHR','AB SHR','C1 SHR','C2 SHR','DE SHR','4-11 anos SHR','12-17 anos SHR','18-24 anos SHR','25-34 anos SHR','35-49 anos SHR','50-59 anos SHR','60+ anos SHR'])"
      ],
      "metadata": {
        "id": "aFa-cVUOPX_q"
      },
      "execution_count": null,
      "outputs": []
    },
    {
      "cell_type": "markdown",
      "source": [
        "# Resultados da predição"
      ],
      "metadata": {
        "id": "LhF2n5ePQCNy"
      }
    },
    {
      "cell_type": "code",
      "source": [
        "result[['Total de Domicílios', 'Masculino', 'Feminino', 'AB', 'C1', 'C2', 'DE', '4-11 anos', '12-17 anos', '18-24 anos', '25-34 anos', '35-49 anos', '50-59 anos', '60+ anos']]"
      ],
      "metadata": {
        "colab": {
          "base_uri": "https://localhost:8080/",
          "height": 81
        },
        "id": "k8Dxy5SWPdWW",
        "outputId": "75159455-002a-4c1c-e8ce-b8a387e5ebc8"
      },
      "execution_count": null,
      "outputs": [
        {
          "output_type": "execute_result",
          "data": {
            "text/plain": [
              "   Total de Domicílios  Masculino  Feminino    AB   C1     C2     DE  \\\n",
              "0               21.975       6.93     12.81  7.32  8.4  13.16  12.49   \n",
              "\n",
              "   4-11 anos  12-17 anos  18-24 anos  25-34 anos  35-49 anos  50-59 anos  \\\n",
              "0        9.5        5.33        7.68       11.26       4.565       11.97   \n",
              "\n",
              "   60+ anos  \n",
              "0    20.415  "
            ],
            "text/html": [
              "\n",
              "  <div id=\"df-fc64274a-a3fc-4270-ae47-c7297b157c56\">\n",
              "    <div class=\"colab-df-container\">\n",
              "      <div>\n",
              "<style scoped>\n",
              "    .dataframe tbody tr th:only-of-type {\n",
              "        vertical-align: middle;\n",
              "    }\n",
              "\n",
              "    .dataframe tbody tr th {\n",
              "        vertical-align: top;\n",
              "    }\n",
              "\n",
              "    .dataframe thead th {\n",
              "        text-align: right;\n",
              "    }\n",
              "</style>\n",
              "<table border=\"1\" class=\"dataframe\">\n",
              "  <thead>\n",
              "    <tr style=\"text-align: right;\">\n",
              "      <th></th>\n",
              "      <th>Total de Domicílios</th>\n",
              "      <th>Masculino</th>\n",
              "      <th>Feminino</th>\n",
              "      <th>AB</th>\n",
              "      <th>C1</th>\n",
              "      <th>C2</th>\n",
              "      <th>DE</th>\n",
              "      <th>4-11 anos</th>\n",
              "      <th>12-17 anos</th>\n",
              "      <th>18-24 anos</th>\n",
              "      <th>25-34 anos</th>\n",
              "      <th>35-49 anos</th>\n",
              "      <th>50-59 anos</th>\n",
              "      <th>60+ anos</th>\n",
              "    </tr>\n",
              "  </thead>\n",
              "  <tbody>\n",
              "    <tr>\n",
              "      <th>0</th>\n",
              "      <td>21.975</td>\n",
              "      <td>6.93</td>\n",
              "      <td>12.81</td>\n",
              "      <td>7.32</td>\n",
              "      <td>8.4</td>\n",
              "      <td>13.16</td>\n",
              "      <td>12.49</td>\n",
              "      <td>9.5</td>\n",
              "      <td>5.33</td>\n",
              "      <td>7.68</td>\n",
              "      <td>11.26</td>\n",
              "      <td>4.565</td>\n",
              "      <td>11.97</td>\n",
              "      <td>20.415</td>\n",
              "    </tr>\n",
              "  </tbody>\n",
              "</table>\n",
              "</div>\n",
              "      <button class=\"colab-df-convert\" onclick=\"convertToInteractive('df-fc64274a-a3fc-4270-ae47-c7297b157c56')\"\n",
              "              title=\"Convert this dataframe to an interactive table.\"\n",
              "              style=\"display:none;\">\n",
              "        \n",
              "  <svg xmlns=\"http://www.w3.org/2000/svg\" height=\"24px\"viewBox=\"0 0 24 24\"\n",
              "       width=\"24px\">\n",
              "    <path d=\"M0 0h24v24H0V0z\" fill=\"none\"/>\n",
              "    <path d=\"M18.56 5.44l.94 2.06.94-2.06 2.06-.94-2.06-.94-.94-2.06-.94 2.06-2.06.94zm-11 1L8.5 8.5l.94-2.06 2.06-.94-2.06-.94L8.5 2.5l-.94 2.06-2.06.94zm10 10l.94 2.06.94-2.06 2.06-.94-2.06-.94-.94-2.06-.94 2.06-2.06.94z\"/><path d=\"M17.41 7.96l-1.37-1.37c-.4-.4-.92-.59-1.43-.59-.52 0-1.04.2-1.43.59L10.3 9.45l-7.72 7.72c-.78.78-.78 2.05 0 2.83L4 21.41c.39.39.9.59 1.41.59.51 0 1.02-.2 1.41-.59l7.78-7.78 2.81-2.81c.8-.78.8-2.07 0-2.86zM5.41 20L4 18.59l7.72-7.72 1.47 1.35L5.41 20z\"/>\n",
              "  </svg>\n",
              "      </button>\n",
              "      \n",
              "  <style>\n",
              "    .colab-df-container {\n",
              "      display:flex;\n",
              "      flex-wrap:wrap;\n",
              "      gap: 12px;\n",
              "    }\n",
              "\n",
              "    .colab-df-convert {\n",
              "      background-color: #E8F0FE;\n",
              "      border: none;\n",
              "      border-radius: 50%;\n",
              "      cursor: pointer;\n",
              "      display: none;\n",
              "      fill: #1967D2;\n",
              "      height: 32px;\n",
              "      padding: 0 0 0 0;\n",
              "      width: 32px;\n",
              "    }\n",
              "\n",
              "    .colab-df-convert:hover {\n",
              "      background-color: #E2EBFA;\n",
              "      box-shadow: 0px 1px 2px rgba(60, 64, 67, 0.3), 0px 1px 3px 1px rgba(60, 64, 67, 0.15);\n",
              "      fill: #174EA6;\n",
              "    }\n",
              "\n",
              "    [theme=dark] .colab-df-convert {\n",
              "      background-color: #3B4455;\n",
              "      fill: #D2E3FC;\n",
              "    }\n",
              "\n",
              "    [theme=dark] .colab-df-convert:hover {\n",
              "      background-color: #434B5C;\n",
              "      box-shadow: 0px 1px 3px 1px rgba(0, 0, 0, 0.15);\n",
              "      filter: drop-shadow(0px 1px 2px rgba(0, 0, 0, 0.3));\n",
              "      fill: #FFFFFF;\n",
              "    }\n",
              "  </style>\n",
              "\n",
              "      <script>\n",
              "        const buttonEl =\n",
              "          document.querySelector('#df-fc64274a-a3fc-4270-ae47-c7297b157c56 button.colab-df-convert');\n",
              "        buttonEl.style.display =\n",
              "          google.colab.kernel.accessAllowed ? 'block' : 'none';\n",
              "\n",
              "        async function convertToInteractive(key) {\n",
              "          const element = document.querySelector('#df-fc64274a-a3fc-4270-ae47-c7297b157c56');\n",
              "          const dataTable =\n",
              "            await google.colab.kernel.invokeFunction('convertToInteractive',\n",
              "                                                     [key], {});\n",
              "          if (!dataTable) return;\n",
              "\n",
              "          const docLinkHtml = 'Like what you see? Visit the ' +\n",
              "            '<a target=\"_blank\" href=https://colab.research.google.com/notebooks/data_table.ipynb>data table notebook</a>'\n",
              "            + ' to learn more about interactive tables.';\n",
              "          element.innerHTML = '';\n",
              "          dataTable['output_type'] = 'display_data';\n",
              "          await google.colab.output.renderOutput(dataTable, element);\n",
              "          const docLink = document.createElement('div');\n",
              "          docLink.innerHTML = docLinkHtml;\n",
              "          element.appendChild(docLink);\n",
              "        }\n",
              "      </script>\n",
              "    </div>\n",
              "  </div>\n",
              "  "
            ]
          },
          "metadata": {},
          "execution_count": 43
        }
      ]
    },
    {
      "cell_type": "code",
      "source": [
        "result[['Total de Indivíduos','Masculino FID','Feminino FID','AB FID','C1 FID','C2 FID','DE FID','4-11 anos FID','12-17 anos FID','18-24 anos FID','25-34 anos FID','35-49 anos FID','50-59 anos FID','60+ anos FID']]"
      ],
      "metadata": {
        "colab": {
          "base_uri": "https://localhost:8080/",
          "height": 81
        },
        "id": "9U6WivpRPeO-",
        "outputId": "08577317-24e4-4f6f-ad41-9f403029dbac"
      },
      "execution_count": null,
      "outputs": [
        {
          "output_type": "execute_result",
          "data": {
            "text/plain": [
              "   Total de Indivíduos  Masculino FID  Feminino FID  AB FID  C1 FID  C2 FID  \\\n",
              "0               94.985          92.96        95.985  95.935   100.0    91.1   \n",
              "\n",
              "   DE FID  4-11 anos FID  12-17 anos FID  18-24 anos FID  25-34 anos FID  \\\n",
              "0  96.745          100.0           84.08          95.535          95.785   \n",
              "\n",
              "   35-49 anos FID  50-59 anos FID  60+ anos FID  \n",
              "0          88.495           98.12          96.2  "
            ],
            "text/html": [
              "\n",
              "  <div id=\"df-9af59339-b3bb-465d-832b-89a81af1a707\">\n",
              "    <div class=\"colab-df-container\">\n",
              "      <div>\n",
              "<style scoped>\n",
              "    .dataframe tbody tr th:only-of-type {\n",
              "        vertical-align: middle;\n",
              "    }\n",
              "\n",
              "    .dataframe tbody tr th {\n",
              "        vertical-align: top;\n",
              "    }\n",
              "\n",
              "    .dataframe thead th {\n",
              "        text-align: right;\n",
              "    }\n",
              "</style>\n",
              "<table border=\"1\" class=\"dataframe\">\n",
              "  <thead>\n",
              "    <tr style=\"text-align: right;\">\n",
              "      <th></th>\n",
              "      <th>Total de Indivíduos</th>\n",
              "      <th>Masculino FID</th>\n",
              "      <th>Feminino FID</th>\n",
              "      <th>AB FID</th>\n",
              "      <th>C1 FID</th>\n",
              "      <th>C2 FID</th>\n",
              "      <th>DE FID</th>\n",
              "      <th>4-11 anos FID</th>\n",
              "      <th>12-17 anos FID</th>\n",
              "      <th>18-24 anos FID</th>\n",
              "      <th>25-34 anos FID</th>\n",
              "      <th>35-49 anos FID</th>\n",
              "      <th>50-59 anos FID</th>\n",
              "      <th>60+ anos FID</th>\n",
              "    </tr>\n",
              "  </thead>\n",
              "  <tbody>\n",
              "    <tr>\n",
              "      <th>0</th>\n",
              "      <td>94.985</td>\n",
              "      <td>92.96</td>\n",
              "      <td>95.985</td>\n",
              "      <td>95.935</td>\n",
              "      <td>100.0</td>\n",
              "      <td>91.1</td>\n",
              "      <td>96.745</td>\n",
              "      <td>100.0</td>\n",
              "      <td>84.08</td>\n",
              "      <td>95.535</td>\n",
              "      <td>95.785</td>\n",
              "      <td>88.495</td>\n",
              "      <td>98.12</td>\n",
              "      <td>96.2</td>\n",
              "    </tr>\n",
              "  </tbody>\n",
              "</table>\n",
              "</div>\n",
              "      <button class=\"colab-df-convert\" onclick=\"convertToInteractive('df-9af59339-b3bb-465d-832b-89a81af1a707')\"\n",
              "              title=\"Convert this dataframe to an interactive table.\"\n",
              "              style=\"display:none;\">\n",
              "        \n",
              "  <svg xmlns=\"http://www.w3.org/2000/svg\" height=\"24px\"viewBox=\"0 0 24 24\"\n",
              "       width=\"24px\">\n",
              "    <path d=\"M0 0h24v24H0V0z\" fill=\"none\"/>\n",
              "    <path d=\"M18.56 5.44l.94 2.06.94-2.06 2.06-.94-2.06-.94-.94-2.06-.94 2.06-2.06.94zm-11 1L8.5 8.5l.94-2.06 2.06-.94-2.06-.94L8.5 2.5l-.94 2.06-2.06.94zm10 10l.94 2.06.94-2.06 2.06-.94-2.06-.94-.94-2.06-.94 2.06-2.06.94z\"/><path d=\"M17.41 7.96l-1.37-1.37c-.4-.4-.92-.59-1.43-.59-.52 0-1.04.2-1.43.59L10.3 9.45l-7.72 7.72c-.78.78-.78 2.05 0 2.83L4 21.41c.39.39.9.59 1.41.59.51 0 1.02-.2 1.41-.59l7.78-7.78 2.81-2.81c.8-.78.8-2.07 0-2.86zM5.41 20L4 18.59l7.72-7.72 1.47 1.35L5.41 20z\"/>\n",
              "  </svg>\n",
              "      </button>\n",
              "      \n",
              "  <style>\n",
              "    .colab-df-container {\n",
              "      display:flex;\n",
              "      flex-wrap:wrap;\n",
              "      gap: 12px;\n",
              "    }\n",
              "\n",
              "    .colab-df-convert {\n",
              "      background-color: #E8F0FE;\n",
              "      border: none;\n",
              "      border-radius: 50%;\n",
              "      cursor: pointer;\n",
              "      display: none;\n",
              "      fill: #1967D2;\n",
              "      height: 32px;\n",
              "      padding: 0 0 0 0;\n",
              "      width: 32px;\n",
              "    }\n",
              "\n",
              "    .colab-df-convert:hover {\n",
              "      background-color: #E2EBFA;\n",
              "      box-shadow: 0px 1px 2px rgba(60, 64, 67, 0.3), 0px 1px 3px 1px rgba(60, 64, 67, 0.15);\n",
              "      fill: #174EA6;\n",
              "    }\n",
              "\n",
              "    [theme=dark] .colab-df-convert {\n",
              "      background-color: #3B4455;\n",
              "      fill: #D2E3FC;\n",
              "    }\n",
              "\n",
              "    [theme=dark] .colab-df-convert:hover {\n",
              "      background-color: #434B5C;\n",
              "      box-shadow: 0px 1px 3px 1px rgba(0, 0, 0, 0.15);\n",
              "      filter: drop-shadow(0px 1px 2px rgba(0, 0, 0, 0.3));\n",
              "      fill: #FFFFFF;\n",
              "    }\n",
              "  </style>\n",
              "\n",
              "      <script>\n",
              "        const buttonEl =\n",
              "          document.querySelector('#df-9af59339-b3bb-465d-832b-89a81af1a707 button.colab-df-convert');\n",
              "        buttonEl.style.display =\n",
              "          google.colab.kernel.accessAllowed ? 'block' : 'none';\n",
              "\n",
              "        async function convertToInteractive(key) {\n",
              "          const element = document.querySelector('#df-9af59339-b3bb-465d-832b-89a81af1a707');\n",
              "          const dataTable =\n",
              "            await google.colab.kernel.invokeFunction('convertToInteractive',\n",
              "                                                     [key], {});\n",
              "          if (!dataTable) return;\n",
              "\n",
              "          const docLinkHtml = 'Like what you see? Visit the ' +\n",
              "            '<a target=\"_blank\" href=https://colab.research.google.com/notebooks/data_table.ipynb>data table notebook</a>'\n",
              "            + ' to learn more about interactive tables.';\n",
              "          element.innerHTML = '';\n",
              "          dataTable['output_type'] = 'display_data';\n",
              "          await google.colab.output.renderOutput(dataTable, element);\n",
              "          const docLink = document.createElement('div');\n",
              "          docLink.innerHTML = docLinkHtml;\n",
              "          element.appendChild(docLink);\n",
              "        }\n",
              "      </script>\n",
              "    </div>\n",
              "  </div>\n",
              "  "
            ]
          },
          "metadata": {},
          "execution_count": 45
        }
      ]
    },
    {
      "cell_type": "code",
      "source": [
        "result[['Total de Domicílios SHR','Masculino SHR','Feminino SHR','AB SHR','C1 SHR','C2 SHR','DE SHR','4-11 anos SHR','12-17 anos SHR','18-24 anos SHR','25-34 anos SHR','35-49 anos SHR','50-59 anos SHR','60+ anos SHR']]"
      ],
      "metadata": {
        "colab": {
          "base_uri": "https://localhost:8080/",
          "height": 81
        },
        "id": "qc-OXztCP7Qm",
        "outputId": "a4c04905-d988-41c0-d26f-11be28c9f6c6"
      },
      "execution_count": null,
      "outputs": [
        {
          "output_type": "execute_result",
          "data": {
            "text/plain": [
              "   Total de Domicílios SHR  Masculino SHR  Feminino SHR  AB SHR  C1 SHR  \\\n",
              "0                    39.42          31.18         45.47  37.505  36.365   \n",
              "\n",
              "   C2 SHR  DE SHR  4-11 anos SHR  12-17 anos SHR  18-24 anos SHR  \\\n",
              "0  45.755  36.555          52.83           24.68           72.08   \n",
              "\n",
              "   25-34 anos SHR  35-49 anos SHR  50-59 anos SHR  60+ anos SHR  \n",
              "0           42.95          22.715          37.335        44.855  "
            ],
            "text/html": [
              "\n",
              "  <div id=\"df-3bf4732b-0899-4114-8fb1-4a2cb9d54355\">\n",
              "    <div class=\"colab-df-container\">\n",
              "      <div>\n",
              "<style scoped>\n",
              "    .dataframe tbody tr th:only-of-type {\n",
              "        vertical-align: middle;\n",
              "    }\n",
              "\n",
              "    .dataframe tbody tr th {\n",
              "        vertical-align: top;\n",
              "    }\n",
              "\n",
              "    .dataframe thead th {\n",
              "        text-align: right;\n",
              "    }\n",
              "</style>\n",
              "<table border=\"1\" class=\"dataframe\">\n",
              "  <thead>\n",
              "    <tr style=\"text-align: right;\">\n",
              "      <th></th>\n",
              "      <th>Total de Domicílios SHR</th>\n",
              "      <th>Masculino SHR</th>\n",
              "      <th>Feminino SHR</th>\n",
              "      <th>AB SHR</th>\n",
              "      <th>C1 SHR</th>\n",
              "      <th>C2 SHR</th>\n",
              "      <th>DE SHR</th>\n",
              "      <th>4-11 anos SHR</th>\n",
              "      <th>12-17 anos SHR</th>\n",
              "      <th>18-24 anos SHR</th>\n",
              "      <th>25-34 anos SHR</th>\n",
              "      <th>35-49 anos SHR</th>\n",
              "      <th>50-59 anos SHR</th>\n",
              "      <th>60+ anos SHR</th>\n",
              "    </tr>\n",
              "  </thead>\n",
              "  <tbody>\n",
              "    <tr>\n",
              "      <th>0</th>\n",
              "      <td>39.42</td>\n",
              "      <td>31.18</td>\n",
              "      <td>45.47</td>\n",
              "      <td>37.505</td>\n",
              "      <td>36.365</td>\n",
              "      <td>45.755</td>\n",
              "      <td>36.555</td>\n",
              "      <td>52.83</td>\n",
              "      <td>24.68</td>\n",
              "      <td>72.08</td>\n",
              "      <td>42.95</td>\n",
              "      <td>22.715</td>\n",
              "      <td>37.335</td>\n",
              "      <td>44.855</td>\n",
              "    </tr>\n",
              "  </tbody>\n",
              "</table>\n",
              "</div>\n",
              "      <button class=\"colab-df-convert\" onclick=\"convertToInteractive('df-3bf4732b-0899-4114-8fb1-4a2cb9d54355')\"\n",
              "              title=\"Convert this dataframe to an interactive table.\"\n",
              "              style=\"display:none;\">\n",
              "        \n",
              "  <svg xmlns=\"http://www.w3.org/2000/svg\" height=\"24px\"viewBox=\"0 0 24 24\"\n",
              "       width=\"24px\">\n",
              "    <path d=\"M0 0h24v24H0V0z\" fill=\"none\"/>\n",
              "    <path d=\"M18.56 5.44l.94 2.06.94-2.06 2.06-.94-2.06-.94-.94-2.06-.94 2.06-2.06.94zm-11 1L8.5 8.5l.94-2.06 2.06-.94-2.06-.94L8.5 2.5l-.94 2.06-2.06.94zm10 10l.94 2.06.94-2.06 2.06-.94-2.06-.94-.94-2.06-.94 2.06-2.06.94z\"/><path d=\"M17.41 7.96l-1.37-1.37c-.4-.4-.92-.59-1.43-.59-.52 0-1.04.2-1.43.59L10.3 9.45l-7.72 7.72c-.78.78-.78 2.05 0 2.83L4 21.41c.39.39.9.59 1.41.59.51 0 1.02-.2 1.41-.59l7.78-7.78 2.81-2.81c.8-.78.8-2.07 0-2.86zM5.41 20L4 18.59l7.72-7.72 1.47 1.35L5.41 20z\"/>\n",
              "  </svg>\n",
              "      </button>\n",
              "      \n",
              "  <style>\n",
              "    .colab-df-container {\n",
              "      display:flex;\n",
              "      flex-wrap:wrap;\n",
              "      gap: 12px;\n",
              "    }\n",
              "\n",
              "    .colab-df-convert {\n",
              "      background-color: #E8F0FE;\n",
              "      border: none;\n",
              "      border-radius: 50%;\n",
              "      cursor: pointer;\n",
              "      display: none;\n",
              "      fill: #1967D2;\n",
              "      height: 32px;\n",
              "      padding: 0 0 0 0;\n",
              "      width: 32px;\n",
              "    }\n",
              "\n",
              "    .colab-df-convert:hover {\n",
              "      background-color: #E2EBFA;\n",
              "      box-shadow: 0px 1px 2px rgba(60, 64, 67, 0.3), 0px 1px 3px 1px rgba(60, 64, 67, 0.15);\n",
              "      fill: #174EA6;\n",
              "    }\n",
              "\n",
              "    [theme=dark] .colab-df-convert {\n",
              "      background-color: #3B4455;\n",
              "      fill: #D2E3FC;\n",
              "    }\n",
              "\n",
              "    [theme=dark] .colab-df-convert:hover {\n",
              "      background-color: #434B5C;\n",
              "      box-shadow: 0px 1px 3px 1px rgba(0, 0, 0, 0.15);\n",
              "      filter: drop-shadow(0px 1px 2px rgba(0, 0, 0, 0.3));\n",
              "      fill: #FFFFFF;\n",
              "    }\n",
              "  </style>\n",
              "\n",
              "      <script>\n",
              "        const buttonEl =\n",
              "          document.querySelector('#df-3bf4732b-0899-4114-8fb1-4a2cb9d54355 button.colab-df-convert');\n",
              "        buttonEl.style.display =\n",
              "          google.colab.kernel.accessAllowed ? 'block' : 'none';\n",
              "\n",
              "        async function convertToInteractive(key) {\n",
              "          const element = document.querySelector('#df-3bf4732b-0899-4114-8fb1-4a2cb9d54355');\n",
              "          const dataTable =\n",
              "            await google.colab.kernel.invokeFunction('convertToInteractive',\n",
              "                                                     [key], {});\n",
              "          if (!dataTable) return;\n",
              "\n",
              "          const docLinkHtml = 'Like what you see? Visit the ' +\n",
              "            '<a target=\"_blank\" href=https://colab.research.google.com/notebooks/data_table.ipynb>data table notebook</a>'\n",
              "            + ' to learn more about interactive tables.';\n",
              "          element.innerHTML = '';\n",
              "          dataTable['output_type'] = 'display_data';\n",
              "          await google.colab.output.renderOutput(dataTable, element);\n",
              "          const docLink = document.createElement('div');\n",
              "          docLink.innerHTML = docLinkHtml;\n",
              "          element.appendChild(docLink);\n",
              "        }\n",
              "      </script>\n",
              "    </div>\n",
              "  </div>\n",
              "  "
            ]
          },
          "metadata": {},
          "execution_count": 46
        }
      ]
    },
    {
      "cell_type": "code",
      "source": [],
      "metadata": {
        "id": "4jrCSkWCP-kJ"
      },
      "execution_count": null,
      "outputs": []
    }
  ]
}