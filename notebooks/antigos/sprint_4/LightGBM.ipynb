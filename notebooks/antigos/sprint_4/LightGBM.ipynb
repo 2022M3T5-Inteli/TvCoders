{
  "cells": [
    {
      "cell_type": "markdown",
      "metadata": {
        "id": "8TL-yNJe-Uvr"
      },
      "source": [
        "# Modelando o CSV\n",
        "Modificações iniciais no dataset para adequá-lo mais ao modelo.\n"
      ]
    },
    {
      "cell_type": "markdown",
      "metadata": {
        "id": "C8wARtTM-aQ1"
      },
      "source": [
        "\n",
        "**Importação de bibliotecas do Python:**\n",
        "\n",
        "* Drive: Para acessar o Google Drive onde o CSV está localizado\n",
        "* Pandas: Para a manipulação e análise dos dados\n",
        "* Matplotlib: Para a criação de gráficos\n",
        "* Numpy: Para a manipulação de arrays\n",
        "\n",
        "\n"
      ]
    },
    {
      "cell_type": "code",
      "execution_count": null,
      "metadata": {
        "colab": {
          "base_uri": "https://localhost:8080/"
        },
        "id": "9bItLUzj-F17",
        "outputId": "090b2767-3c13-4188-ac6e-2ac27e6c0a66"
      },
      "outputs": [
        {
          "output_type": "stream",
          "name": "stdout",
          "text": [
            "Drive already mounted at /content/drive; to attempt to forcibly remount, call drive.mount(\"/content/drive\", force_remount=True).\n"
          ]
        }
      ],
      "source": [
        "import pandas as pd\n",
        "import matplotlib.pyplot as plt\n",
        "import numpy as np\n",
        "\n",
        "from google.colab import drive\n",
        "drive.mount('/content/drive')\n",
        "pd.set_option('display.max_columns', None)"
      ]
    },
    {
      "cell_type": "markdown",
      "metadata": {
        "id": "L8mvY5aA_g14"
      },
      "source": [
        "**Leitura do CSV**\n"
      ]
    },
    {
      "cell_type": "code",
      "execution_count": null,
      "metadata": {
        "id": "Ak29lEjt_-3n"
      },
      "outputs": [],
      "source": [
        "df_teste = pd.read_csv('drive/MyDrive/Colab Notebooks/df_dados_cliente_totais.csv')\n",
        "del df_teste['Unnamed: 0']"
      ]
    },
    {
      "cell_type": "markdown",
      "metadata": {
        "id": "BJOpji6hMzAJ"
      },
      "source": [
        "**Criação Hora/Minuto**\n",
        "- Criamos uma coluna com informação de hora e minuto em formato decimal"
      ]
    },
    {
      "cell_type": "code",
      "execution_count": null,
      "metadata": {
        "id": "8LJ2JsSCBKOa"
      },
      "outputs": [],
      "source": [
        "df_teste[\"Hora e Minuto\"] = df_teste['Hora'] + df_teste[\"Minuto\"]/60"
      ]
    },
    {
      "cell_type": "markdown",
      "metadata": {
        "id": "JbXPwtfuNf3C"
      },
      "source": [
        "**Deleção das colunas do \"Programa\", \"Hora\" e \"Minuto\"**\n",
        "\n"
      ]
    },
    {
      "cell_type": "code",
      "execution_count": null,
      "metadata": {
        "id": "sca__5sWBv4W"
      },
      "outputs": [],
      "source": [
        "df_teste.drop(['Programa'], axis=1, inplace=True)\n",
        "df_teste.drop(['Gênero'], axis=1, inplace=True)\n",
        "df_teste.drop(['Hora'], axis=1, inplace=True)\n",
        "df_teste.drop(['Minuto'], axis=1, inplace=True)"
      ]
    },
    {
      "cell_type": "markdown",
      "metadata": {
        "id": "grOcku1iOVzW"
      },
      "source": [
        "**Aplicação do label encoding na coluna \"Dia da Semana\"**"
      ]
    },
    {
      "cell_type": "code",
      "execution_count": null,
      "metadata": {
        "id": "tZZVCM66ELbP"
      },
      "outputs": [],
      "source": [
        "df_teste['Dia da Semana'].mask(df_teste['Dia da Semana'] == 'Domingo', 1, inplace=True)\n",
        "df_teste['Dia da Semana'].mask(df_teste['Dia da Semana'] == 'Segunda', 2, inplace=True)\n",
        "df_teste['Dia da Semana'].mask(df_teste['Dia da Semana'] == 'Terça', 3, inplace=True)\n",
        "df_teste['Dia da Semana'].mask(df_teste['Dia da Semana'] == 'Quarta', 4, inplace=True)\n",
        "df_teste['Dia da Semana'].mask(df_teste['Dia da Semana'] == 'Quinta', 5, inplace=True)\n",
        "df_teste['Dia da Semana'].mask(df_teste['Dia da Semana'] == 'Sexta', 6, inplace=True)\n",
        "df_teste['Dia da Semana'].mask(df_teste['Dia da Semana'] == 'Sábado', 7, inplace=True)\n",
        "df_teste['Dia da Semana'] = pd.to_numeric(df_teste['Dia da Semana'], errors='coerce')"
      ]
    },
    {
      "cell_type": "code",
      "execution_count": null,
      "metadata": {
        "colab": {
          "base_uri": "https://localhost:8080/"
        },
        "id": "s8aFT6AMERb4",
        "outputId": "652a85d0-a5af-4f0f-a9b9-2db10fcf349e"
      },
      "outputs": [
        {
          "output_type": "execute_result",
          "data": {
            "text/plain": [
              "         Ano  Mês  Dia  Dia da Semana  Total de Domicílios  Masculino  \\\n",
              "0       2020    6    1              2                 4.27       1.65   \n",
              "1       2020    6    1              2                 4.89       1.89   \n",
              "2       2020    6    1              2                 5.74       1.97   \n",
              "3       2020    6    1              2                 6.55       1.92   \n",
              "4       2020    6    1              2                 7.27       2.23   \n",
              "...      ...  ...  ...            ...                  ...        ...   \n",
              "218875  2022    7    1              6                 1.67       0.17   \n",
              "218876  2022    7    1              6                 1.97       0.17   \n",
              "218877  2022    7    1              6                 2.22       0.17   \n",
              "218878  2022    7    1              6                 2.71       0.37   \n",
              "218879  2022    7    1              6                 3.60       0.51   \n",
              "\n",
              "        Feminino    AB    C1    C2    DE  4-11 anos  12-17 anos  18-24 anos  \\\n",
              "0           2.35  2.40  0.31  0.82  5.23        0.0        0.00        0.00   \n",
              "1           2.75  3.02  0.51  1.08  5.23        0.0        0.00        0.00   \n",
              "2           3.24  3.13  1.53  1.22  5.23        0.0        1.22        0.00   \n",
              "3           3.92  3.06  1.86  1.48  6.46        0.0        1.52        0.00   \n",
              "4           4.05  3.49  2.18  1.48  6.46        0.0        1.52        0.00   \n",
              "...          ...   ...   ...   ...   ...        ...         ...         ...   \n",
              "218875      0.92  0.30  0.41  1.03  0.53        0.0        0.96        0.25   \n",
              "218876      1.07  0.30  0.41  1.45  0.35        0.0        0.96        1.25   \n",
              "218877      1.26  0.30  0.41  1.45  0.88        0.0        0.96        1.25   \n",
              "218878      1.42  0.54  0.41  1.81  0.88        0.0        0.96        1.25   \n",
              "218879      1.89  0.90  0.41  2.50  0.88        0.0        0.96        1.25   \n",
              "\n",
              "        25-34 anos  35-49 anos  50-59 anos  60+ anos  Total de Indivíduos  \\\n",
              "0             3.19        1.98        5.81      1.61                88.88   \n",
              "1             3.19        2.86        5.81      2.38                95.64   \n",
              "2             3.19        3.52        5.81      2.62                91.26   \n",
              "3             3.19        4.05        6.65      3.10                92.27   \n",
              "4             3.19        4.82        6.90      3.10                96.22   \n",
              "...            ...         ...         ...       ...                  ...   \n",
              "218875        0.00        1.41        0.00      0.71                76.00   \n",
              "218876        0.00        1.41        0.00      0.47                86.88   \n",
              "218877        0.00        1.41        0.00      1.18               100.00   \n",
              "218878        0.00        1.74        0.00      1.88                82.97   \n",
              "218879        0.00        2.24        1.06      2.34                97.60   \n",
              "\n",
              "        Masculino FID  Feminino FID  AB FID  C1 FID  C2 FID  DE FID  \\\n",
              "0               87.40         89.84   79.54   60.00  100.00   100.0   \n",
              "1              100.00         93.16  100.00  100.00   73.14   100.0   \n",
              "2               85.65         94.63   87.15   92.76   82.09   100.0   \n",
              "3               83.40         96.76   85.14   85.40  100.00   100.0   \n",
              "4               89.34        100.00   90.38  100.00  100.00   100.0   \n",
              "...               ...           ...     ...     ...     ...     ...   \n",
              "218875         100.00         72.93  100.00  100.00   70.95    60.0   \n",
              "218876         100.00         85.20  100.00  100.00  100.00    40.0   \n",
              "218877         100.00        100.00  100.00  100.00  100.00   100.0   \n",
              "218878          73.76         85.57   60.25  100.00   88.33   100.0   \n",
              "218879         100.00         97.02  100.00  100.00   95.68   100.0   \n",
              "\n",
              "        4-11 anos FID  12-17 anos FID  18-24 anos FID  25-34 anos FID  \\\n",
              "0                 0.0             0.0             0.0           100.0   \n",
              "1                 0.0             0.0             0.0           100.0   \n",
              "2                 0.0            80.0             0.0           100.0   \n",
              "3                 0.0           100.0             0.0           100.0   \n",
              "4                 0.0           100.0             0.0           100.0   \n",
              "...               ...             ...             ...             ...   \n",
              "218875            0.0           100.0            20.0             0.0   \n",
              "218876            0.0           100.0           100.0             0.0   \n",
              "218877            0.0           100.0           100.0             0.0   \n",
              "218878            0.0           100.0           100.0             0.0   \n",
              "218879            0.0           100.0           100.0             0.0   \n",
              "\n",
              "        35-49 anos FID  50-59 anos FID  60+ anos FID  Total de Domicílios SHR  \\\n",
              "0                69.20          100.00         84.31                    35.31   \n",
              "1               100.00          100.00         76.90                    38.04   \n",
              "2                84.24          100.00         84.60                    43.26   \n",
              "3                86.67           89.87        100.00                    45.79   \n",
              "4                95.22           93.24        100.00                    48.94   \n",
              "...                ...             ...           ...                      ...   \n",
              "218875          100.00            0.00         60.00                    24.30   \n",
              "218876          100.00            0.00         40.00                    27.12   \n",
              "218877          100.00            0.00        100.00                    29.25   \n",
              "218878           77.78            0.00         80.11                    32.82   \n",
              "218879          100.00           80.00        100.00                    40.52   \n",
              "\n",
              "        Masculino SHR  Feminino SHR  AB SHR  C1 SHR  C2 SHR  DE SHR  \\\n",
              "0               28.24         43.49   37.29   19.28   36.22   37.15   \n",
              "1               31.96         46.10   46.88   23.81   34.36   37.67   \n",
              "2               32.90         52.97   47.82   51.80   40.03   38.73   \n",
              "3               29.55         61.14   42.62   56.66   49.11   45.58   \n",
              "4               33.43         64.02   43.69   60.49   46.20   53.18   \n",
              "...               ...           ...     ...     ...     ...     ...   \n",
              "218875           5.70         17.88   12.09   27.88   18.67    6.49   \n",
              "218876           5.70         20.04   12.09   27.88   24.45    4.33   \n",
              "218877           5.78         21.89    9.77   27.88   24.45   10.97   \n",
              "218878          11.08         24.66   16.59   27.88   28.75   10.82   \n",
              "218879          14.78         30.94   28.47   27.88   35.79   10.37   \n",
              "\n",
              "        4-11 anos SHR  12-17 anos SHR  18-24 anos SHR  25-34 anos SHR  \\\n",
              "0                 0.0            0.00            0.00           63.78   \n",
              "1                 0.0            0.00            0.00           61.54   \n",
              "2                 0.0           76.96            0.00           61.54   \n",
              "3                 0.0           83.61            0.00           61.54   \n",
              "4                 0.0           62.97            0.00           61.54   \n",
              "...               ...             ...             ...             ...   \n",
              "218875            0.0           19.77           21.12            0.00   \n",
              "218876            0.0           19.77           57.25            0.00   \n",
              "218877            0.0           19.77           57.25            0.00   \n",
              "218878            0.0           17.46           57.25            0.00   \n",
              "218879            0.0           18.94           57.25            0.00   \n",
              "\n",
              "        35-49 anos SHR  50-59 anos SHR  60+ anos SHR  Feriado  Hora e Minuto  \n",
              "0                40.19           52.44         13.06    False       6.000000  \n",
              "1                55.82           52.44         17.56    False       6.083333  \n",
              "2                63.05           52.44         19.98    False       6.166667  \n",
              "3                60.59           52.47         24.91    False       6.250000  \n",
              "4                61.54           61.15         26.24    False       6.333333  \n",
              "...                ...             ...           ...      ...            ...  \n",
              "218875           43.45            0.00         13.73    False       5.583333  \n",
              "218876           43.45            0.00          9.15    False       5.666667  \n",
              "218877           34.61            0.00         22.88    False       5.750000  \n",
              "218878           42.75            0.00         32.10    False       5.833333  \n",
              "218879           54.96           17.01         34.53    False       5.916667  \n",
              "\n",
              "[218880 rows x 48 columns]"
            ],
            "text/html": [
              "\n",
              "  <div id=\"df-fc809b2d-ea4c-48d7-a4fc-e928affcf5ca\">\n",
              "    <div class=\"colab-df-container\">\n",
              "      <div>\n",
              "<style scoped>\n",
              "    .dataframe tbody tr th:only-of-type {\n",
              "        vertical-align: middle;\n",
              "    }\n",
              "\n",
              "    .dataframe tbody tr th {\n",
              "        vertical-align: top;\n",
              "    }\n",
              "\n",
              "    .dataframe thead th {\n",
              "        text-align: right;\n",
              "    }\n",
              "</style>\n",
              "<table border=\"1\" class=\"dataframe\">\n",
              "  <thead>\n",
              "    <tr style=\"text-align: right;\">\n",
              "      <th></th>\n",
              "      <th>Ano</th>\n",
              "      <th>Mês</th>\n",
              "      <th>Dia</th>\n",
              "      <th>Dia da Semana</th>\n",
              "      <th>Total de Domicílios</th>\n",
              "      <th>Masculino</th>\n",
              "      <th>Feminino</th>\n",
              "      <th>AB</th>\n",
              "      <th>C1</th>\n",
              "      <th>C2</th>\n",
              "      <th>DE</th>\n",
              "      <th>4-11 anos</th>\n",
              "      <th>12-17 anos</th>\n",
              "      <th>18-24 anos</th>\n",
              "      <th>25-34 anos</th>\n",
              "      <th>35-49 anos</th>\n",
              "      <th>50-59 anos</th>\n",
              "      <th>60+ anos</th>\n",
              "      <th>Total de Indivíduos</th>\n",
              "      <th>Masculino FID</th>\n",
              "      <th>Feminino FID</th>\n",
              "      <th>AB FID</th>\n",
              "      <th>C1 FID</th>\n",
              "      <th>C2 FID</th>\n",
              "      <th>DE FID</th>\n",
              "      <th>4-11 anos FID</th>\n",
              "      <th>12-17 anos FID</th>\n",
              "      <th>18-24 anos FID</th>\n",
              "      <th>25-34 anos FID</th>\n",
              "      <th>35-49 anos FID</th>\n",
              "      <th>50-59 anos FID</th>\n",
              "      <th>60+ anos FID</th>\n",
              "      <th>Total de Domicílios SHR</th>\n",
              "      <th>Masculino SHR</th>\n",
              "      <th>Feminino SHR</th>\n",
              "      <th>AB SHR</th>\n",
              "      <th>C1 SHR</th>\n",
              "      <th>C2 SHR</th>\n",
              "      <th>DE SHR</th>\n",
              "      <th>4-11 anos SHR</th>\n",
              "      <th>12-17 anos SHR</th>\n",
              "      <th>18-24 anos SHR</th>\n",
              "      <th>25-34 anos SHR</th>\n",
              "      <th>35-49 anos SHR</th>\n",
              "      <th>50-59 anos SHR</th>\n",
              "      <th>60+ anos SHR</th>\n",
              "      <th>Feriado</th>\n",
              "      <th>Hora e Minuto</th>\n",
              "    </tr>\n",
              "  </thead>\n",
              "  <tbody>\n",
              "    <tr>\n",
              "      <th>0</th>\n",
              "      <td>2020</td>\n",
              "      <td>6</td>\n",
              "      <td>1</td>\n",
              "      <td>2</td>\n",
              "      <td>4.27</td>\n",
              "      <td>1.65</td>\n",
              "      <td>2.35</td>\n",
              "      <td>2.40</td>\n",
              "      <td>0.31</td>\n",
              "      <td>0.82</td>\n",
              "      <td>5.23</td>\n",
              "      <td>0.0</td>\n",
              "      <td>0.00</td>\n",
              "      <td>0.00</td>\n",
              "      <td>3.19</td>\n",
              "      <td>1.98</td>\n",
              "      <td>5.81</td>\n",
              "      <td>1.61</td>\n",
              "      <td>88.88</td>\n",
              "      <td>87.40</td>\n",
              "      <td>89.84</td>\n",
              "      <td>79.54</td>\n",
              "      <td>60.00</td>\n",
              "      <td>100.00</td>\n",
              "      <td>100.0</td>\n",
              "      <td>0.0</td>\n",
              "      <td>0.0</td>\n",
              "      <td>0.0</td>\n",
              "      <td>100.0</td>\n",
              "      <td>69.20</td>\n",
              "      <td>100.00</td>\n",
              "      <td>84.31</td>\n",
              "      <td>35.31</td>\n",
              "      <td>28.24</td>\n",
              "      <td>43.49</td>\n",
              "      <td>37.29</td>\n",
              "      <td>19.28</td>\n",
              "      <td>36.22</td>\n",
              "      <td>37.15</td>\n",
              "      <td>0.0</td>\n",
              "      <td>0.00</td>\n",
              "      <td>0.00</td>\n",
              "      <td>63.78</td>\n",
              "      <td>40.19</td>\n",
              "      <td>52.44</td>\n",
              "      <td>13.06</td>\n",
              "      <td>False</td>\n",
              "      <td>6.000000</td>\n",
              "    </tr>\n",
              "    <tr>\n",
              "      <th>1</th>\n",
              "      <td>2020</td>\n",
              "      <td>6</td>\n",
              "      <td>1</td>\n",
              "      <td>2</td>\n",
              "      <td>4.89</td>\n",
              "      <td>1.89</td>\n",
              "      <td>2.75</td>\n",
              "      <td>3.02</td>\n",
              "      <td>0.51</td>\n",
              "      <td>1.08</td>\n",
              "      <td>5.23</td>\n",
              "      <td>0.0</td>\n",
              "      <td>0.00</td>\n",
              "      <td>0.00</td>\n",
              "      <td>3.19</td>\n",
              "      <td>2.86</td>\n",
              "      <td>5.81</td>\n",
              "      <td>2.38</td>\n",
              "      <td>95.64</td>\n",
              "      <td>100.00</td>\n",
              "      <td>93.16</td>\n",
              "      <td>100.00</td>\n",
              "      <td>100.00</td>\n",
              "      <td>73.14</td>\n",
              "      <td>100.0</td>\n",
              "      <td>0.0</td>\n",
              "      <td>0.0</td>\n",
              "      <td>0.0</td>\n",
              "      <td>100.0</td>\n",
              "      <td>100.00</td>\n",
              "      <td>100.00</td>\n",
              "      <td>76.90</td>\n",
              "      <td>38.04</td>\n",
              "      <td>31.96</td>\n",
              "      <td>46.10</td>\n",
              "      <td>46.88</td>\n",
              "      <td>23.81</td>\n",
              "      <td>34.36</td>\n",
              "      <td>37.67</td>\n",
              "      <td>0.0</td>\n",
              "      <td>0.00</td>\n",
              "      <td>0.00</td>\n",
              "      <td>61.54</td>\n",
              "      <td>55.82</td>\n",
              "      <td>52.44</td>\n",
              "      <td>17.56</td>\n",
              "      <td>False</td>\n",
              "      <td>6.083333</td>\n",
              "    </tr>\n",
              "    <tr>\n",
              "      <th>2</th>\n",
              "      <td>2020</td>\n",
              "      <td>6</td>\n",
              "      <td>1</td>\n",
              "      <td>2</td>\n",
              "      <td>5.74</td>\n",
              "      <td>1.97</td>\n",
              "      <td>3.24</td>\n",
              "      <td>3.13</td>\n",
              "      <td>1.53</td>\n",
              "      <td>1.22</td>\n",
              "      <td>5.23</td>\n",
              "      <td>0.0</td>\n",
              "      <td>1.22</td>\n",
              "      <td>0.00</td>\n",
              "      <td>3.19</td>\n",
              "      <td>3.52</td>\n",
              "      <td>5.81</td>\n",
              "      <td>2.62</td>\n",
              "      <td>91.26</td>\n",
              "      <td>85.65</td>\n",
              "      <td>94.63</td>\n",
              "      <td>87.15</td>\n",
              "      <td>92.76</td>\n",
              "      <td>82.09</td>\n",
              "      <td>100.0</td>\n",
              "      <td>0.0</td>\n",
              "      <td>80.0</td>\n",
              "      <td>0.0</td>\n",
              "      <td>100.0</td>\n",
              "      <td>84.24</td>\n",
              "      <td>100.00</td>\n",
              "      <td>84.60</td>\n",
              "      <td>43.26</td>\n",
              "      <td>32.90</td>\n",
              "      <td>52.97</td>\n",
              "      <td>47.82</td>\n",
              "      <td>51.80</td>\n",
              "      <td>40.03</td>\n",
              "      <td>38.73</td>\n",
              "      <td>0.0</td>\n",
              "      <td>76.96</td>\n",
              "      <td>0.00</td>\n",
              "      <td>61.54</td>\n",
              "      <td>63.05</td>\n",
              "      <td>52.44</td>\n",
              "      <td>19.98</td>\n",
              "      <td>False</td>\n",
              "      <td>6.166667</td>\n",
              "    </tr>\n",
              "    <tr>\n",
              "      <th>3</th>\n",
              "      <td>2020</td>\n",
              "      <td>6</td>\n",
              "      <td>1</td>\n",
              "      <td>2</td>\n",
              "      <td>6.55</td>\n",
              "      <td>1.92</td>\n",
              "      <td>3.92</td>\n",
              "      <td>3.06</td>\n",
              "      <td>1.86</td>\n",
              "      <td>1.48</td>\n",
              "      <td>6.46</td>\n",
              "      <td>0.0</td>\n",
              "      <td>1.52</td>\n",
              "      <td>0.00</td>\n",
              "      <td>3.19</td>\n",
              "      <td>4.05</td>\n",
              "      <td>6.65</td>\n",
              "      <td>3.10</td>\n",
              "      <td>92.27</td>\n",
              "      <td>83.40</td>\n",
              "      <td>96.76</td>\n",
              "      <td>85.14</td>\n",
              "      <td>85.40</td>\n",
              "      <td>100.00</td>\n",
              "      <td>100.0</td>\n",
              "      <td>0.0</td>\n",
              "      <td>100.0</td>\n",
              "      <td>0.0</td>\n",
              "      <td>100.0</td>\n",
              "      <td>86.67</td>\n",
              "      <td>89.87</td>\n",
              "      <td>100.00</td>\n",
              "      <td>45.79</td>\n",
              "      <td>29.55</td>\n",
              "      <td>61.14</td>\n",
              "      <td>42.62</td>\n",
              "      <td>56.66</td>\n",
              "      <td>49.11</td>\n",
              "      <td>45.58</td>\n",
              "      <td>0.0</td>\n",
              "      <td>83.61</td>\n",
              "      <td>0.00</td>\n",
              "      <td>61.54</td>\n",
              "      <td>60.59</td>\n",
              "      <td>52.47</td>\n",
              "      <td>24.91</td>\n",
              "      <td>False</td>\n",
              "      <td>6.250000</td>\n",
              "    </tr>\n",
              "    <tr>\n",
              "      <th>4</th>\n",
              "      <td>2020</td>\n",
              "      <td>6</td>\n",
              "      <td>1</td>\n",
              "      <td>2</td>\n",
              "      <td>7.27</td>\n",
              "      <td>2.23</td>\n",
              "      <td>4.05</td>\n",
              "      <td>3.49</td>\n",
              "      <td>2.18</td>\n",
              "      <td>1.48</td>\n",
              "      <td>6.46</td>\n",
              "      <td>0.0</td>\n",
              "      <td>1.52</td>\n",
              "      <td>0.00</td>\n",
              "      <td>3.19</td>\n",
              "      <td>4.82</td>\n",
              "      <td>6.90</td>\n",
              "      <td>3.10</td>\n",
              "      <td>96.22</td>\n",
              "      <td>89.34</td>\n",
              "      <td>100.00</td>\n",
              "      <td>90.38</td>\n",
              "      <td>100.00</td>\n",
              "      <td>100.00</td>\n",
              "      <td>100.0</td>\n",
              "      <td>0.0</td>\n",
              "      <td>100.0</td>\n",
              "      <td>0.0</td>\n",
              "      <td>100.0</td>\n",
              "      <td>95.22</td>\n",
              "      <td>93.24</td>\n",
              "      <td>100.00</td>\n",
              "      <td>48.94</td>\n",
              "      <td>33.43</td>\n",
              "      <td>64.02</td>\n",
              "      <td>43.69</td>\n",
              "      <td>60.49</td>\n",
              "      <td>46.20</td>\n",
              "      <td>53.18</td>\n",
              "      <td>0.0</td>\n",
              "      <td>62.97</td>\n",
              "      <td>0.00</td>\n",
              "      <td>61.54</td>\n",
              "      <td>61.54</td>\n",
              "      <td>61.15</td>\n",
              "      <td>26.24</td>\n",
              "      <td>False</td>\n",
              "      <td>6.333333</td>\n",
              "    </tr>\n",
              "    <tr>\n",
              "      <th>...</th>\n",
              "      <td>...</td>\n",
              "      <td>...</td>\n",
              "      <td>...</td>\n",
              "      <td>...</td>\n",
              "      <td>...</td>\n",
              "      <td>...</td>\n",
              "      <td>...</td>\n",
              "      <td>...</td>\n",
              "      <td>...</td>\n",
              "      <td>...</td>\n",
              "      <td>...</td>\n",
              "      <td>...</td>\n",
              "      <td>...</td>\n",
              "      <td>...</td>\n",
              "      <td>...</td>\n",
              "      <td>...</td>\n",
              "      <td>...</td>\n",
              "      <td>...</td>\n",
              "      <td>...</td>\n",
              "      <td>...</td>\n",
              "      <td>...</td>\n",
              "      <td>...</td>\n",
              "      <td>...</td>\n",
              "      <td>...</td>\n",
              "      <td>...</td>\n",
              "      <td>...</td>\n",
              "      <td>...</td>\n",
              "      <td>...</td>\n",
              "      <td>...</td>\n",
              "      <td>...</td>\n",
              "      <td>...</td>\n",
              "      <td>...</td>\n",
              "      <td>...</td>\n",
              "      <td>...</td>\n",
              "      <td>...</td>\n",
              "      <td>...</td>\n",
              "      <td>...</td>\n",
              "      <td>...</td>\n",
              "      <td>...</td>\n",
              "      <td>...</td>\n",
              "      <td>...</td>\n",
              "      <td>...</td>\n",
              "      <td>...</td>\n",
              "      <td>...</td>\n",
              "      <td>...</td>\n",
              "      <td>...</td>\n",
              "      <td>...</td>\n",
              "      <td>...</td>\n",
              "    </tr>\n",
              "    <tr>\n",
              "      <th>218875</th>\n",
              "      <td>2022</td>\n",
              "      <td>7</td>\n",
              "      <td>1</td>\n",
              "      <td>6</td>\n",
              "      <td>1.67</td>\n",
              "      <td>0.17</td>\n",
              "      <td>0.92</td>\n",
              "      <td>0.30</td>\n",
              "      <td>0.41</td>\n",
              "      <td>1.03</td>\n",
              "      <td>0.53</td>\n",
              "      <td>0.0</td>\n",
              "      <td>0.96</td>\n",
              "      <td>0.25</td>\n",
              "      <td>0.00</td>\n",
              "      <td>1.41</td>\n",
              "      <td>0.00</td>\n",
              "      <td>0.71</td>\n",
              "      <td>76.00</td>\n",
              "      <td>100.00</td>\n",
              "      <td>72.93</td>\n",
              "      <td>100.00</td>\n",
              "      <td>100.00</td>\n",
              "      <td>70.95</td>\n",
              "      <td>60.0</td>\n",
              "      <td>0.0</td>\n",
              "      <td>100.0</td>\n",
              "      <td>20.0</td>\n",
              "      <td>0.0</td>\n",
              "      <td>100.00</td>\n",
              "      <td>0.00</td>\n",
              "      <td>60.00</td>\n",
              "      <td>24.30</td>\n",
              "      <td>5.70</td>\n",
              "      <td>17.88</td>\n",
              "      <td>12.09</td>\n",
              "      <td>27.88</td>\n",
              "      <td>18.67</td>\n",
              "      <td>6.49</td>\n",
              "      <td>0.0</td>\n",
              "      <td>19.77</td>\n",
              "      <td>21.12</td>\n",
              "      <td>0.00</td>\n",
              "      <td>43.45</td>\n",
              "      <td>0.00</td>\n",
              "      <td>13.73</td>\n",
              "      <td>False</td>\n",
              "      <td>5.583333</td>\n",
              "    </tr>\n",
              "    <tr>\n",
              "      <th>218876</th>\n",
              "      <td>2022</td>\n",
              "      <td>7</td>\n",
              "      <td>1</td>\n",
              "      <td>6</td>\n",
              "      <td>1.97</td>\n",
              "      <td>0.17</td>\n",
              "      <td>1.07</td>\n",
              "      <td>0.30</td>\n",
              "      <td>0.41</td>\n",
              "      <td>1.45</td>\n",
              "      <td>0.35</td>\n",
              "      <td>0.0</td>\n",
              "      <td>0.96</td>\n",
              "      <td>1.25</td>\n",
              "      <td>0.00</td>\n",
              "      <td>1.41</td>\n",
              "      <td>0.00</td>\n",
              "      <td>0.47</td>\n",
              "      <td>86.88</td>\n",
              "      <td>100.00</td>\n",
              "      <td>85.20</td>\n",
              "      <td>100.00</td>\n",
              "      <td>100.00</td>\n",
              "      <td>100.00</td>\n",
              "      <td>40.0</td>\n",
              "      <td>0.0</td>\n",
              "      <td>100.0</td>\n",
              "      <td>100.0</td>\n",
              "      <td>0.0</td>\n",
              "      <td>100.00</td>\n",
              "      <td>0.00</td>\n",
              "      <td>40.00</td>\n",
              "      <td>27.12</td>\n",
              "      <td>5.70</td>\n",
              "      <td>20.04</td>\n",
              "      <td>12.09</td>\n",
              "      <td>27.88</td>\n",
              "      <td>24.45</td>\n",
              "      <td>4.33</td>\n",
              "      <td>0.0</td>\n",
              "      <td>19.77</td>\n",
              "      <td>57.25</td>\n",
              "      <td>0.00</td>\n",
              "      <td>43.45</td>\n",
              "      <td>0.00</td>\n",
              "      <td>9.15</td>\n",
              "      <td>False</td>\n",
              "      <td>5.666667</td>\n",
              "    </tr>\n",
              "    <tr>\n",
              "      <th>218877</th>\n",
              "      <td>2022</td>\n",
              "      <td>7</td>\n",
              "      <td>1</td>\n",
              "      <td>6</td>\n",
              "      <td>2.22</td>\n",
              "      <td>0.17</td>\n",
              "      <td>1.26</td>\n",
              "      <td>0.30</td>\n",
              "      <td>0.41</td>\n",
              "      <td>1.45</td>\n",
              "      <td>0.88</td>\n",
              "      <td>0.0</td>\n",
              "      <td>0.96</td>\n",
              "      <td>1.25</td>\n",
              "      <td>0.00</td>\n",
              "      <td>1.41</td>\n",
              "      <td>0.00</td>\n",
              "      <td>1.18</td>\n",
              "      <td>100.00</td>\n",
              "      <td>100.00</td>\n",
              "      <td>100.00</td>\n",
              "      <td>100.00</td>\n",
              "      <td>100.00</td>\n",
              "      <td>100.00</td>\n",
              "      <td>100.0</td>\n",
              "      <td>0.0</td>\n",
              "      <td>100.0</td>\n",
              "      <td>100.0</td>\n",
              "      <td>0.0</td>\n",
              "      <td>100.00</td>\n",
              "      <td>0.00</td>\n",
              "      <td>100.00</td>\n",
              "      <td>29.25</td>\n",
              "      <td>5.78</td>\n",
              "      <td>21.89</td>\n",
              "      <td>9.77</td>\n",
              "      <td>27.88</td>\n",
              "      <td>24.45</td>\n",
              "      <td>10.97</td>\n",
              "      <td>0.0</td>\n",
              "      <td>19.77</td>\n",
              "      <td>57.25</td>\n",
              "      <td>0.00</td>\n",
              "      <td>34.61</td>\n",
              "      <td>0.00</td>\n",
              "      <td>22.88</td>\n",
              "      <td>False</td>\n",
              "      <td>5.750000</td>\n",
              "    </tr>\n",
              "    <tr>\n",
              "      <th>218878</th>\n",
              "      <td>2022</td>\n",
              "      <td>7</td>\n",
              "      <td>1</td>\n",
              "      <td>6</td>\n",
              "      <td>2.71</td>\n",
              "      <td>0.37</td>\n",
              "      <td>1.42</td>\n",
              "      <td>0.54</td>\n",
              "      <td>0.41</td>\n",
              "      <td>1.81</td>\n",
              "      <td>0.88</td>\n",
              "      <td>0.0</td>\n",
              "      <td>0.96</td>\n",
              "      <td>1.25</td>\n",
              "      <td>0.00</td>\n",
              "      <td>1.74</td>\n",
              "      <td>0.00</td>\n",
              "      <td>1.88</td>\n",
              "      <td>82.97</td>\n",
              "      <td>73.76</td>\n",
              "      <td>85.57</td>\n",
              "      <td>60.25</td>\n",
              "      <td>100.00</td>\n",
              "      <td>88.33</td>\n",
              "      <td>100.0</td>\n",
              "      <td>0.0</td>\n",
              "      <td>100.0</td>\n",
              "      <td>100.0</td>\n",
              "      <td>0.0</td>\n",
              "      <td>77.78</td>\n",
              "      <td>0.00</td>\n",
              "      <td>80.11</td>\n",
              "      <td>32.82</td>\n",
              "      <td>11.08</td>\n",
              "      <td>24.66</td>\n",
              "      <td>16.59</td>\n",
              "      <td>27.88</td>\n",
              "      <td>28.75</td>\n",
              "      <td>10.82</td>\n",
              "      <td>0.0</td>\n",
              "      <td>17.46</td>\n",
              "      <td>57.25</td>\n",
              "      <td>0.00</td>\n",
              "      <td>42.75</td>\n",
              "      <td>0.00</td>\n",
              "      <td>32.10</td>\n",
              "      <td>False</td>\n",
              "      <td>5.833333</td>\n",
              "    </tr>\n",
              "    <tr>\n",
              "      <th>218879</th>\n",
              "      <td>2022</td>\n",
              "      <td>7</td>\n",
              "      <td>1</td>\n",
              "      <td>6</td>\n",
              "      <td>3.60</td>\n",
              "      <td>0.51</td>\n",
              "      <td>1.89</td>\n",
              "      <td>0.90</td>\n",
              "      <td>0.41</td>\n",
              "      <td>2.50</td>\n",
              "      <td>0.88</td>\n",
              "      <td>0.0</td>\n",
              "      <td>0.96</td>\n",
              "      <td>1.25</td>\n",
              "      <td>0.00</td>\n",
              "      <td>2.24</td>\n",
              "      <td>1.06</td>\n",
              "      <td>2.34</td>\n",
              "      <td>97.60</td>\n",
              "      <td>100.00</td>\n",
              "      <td>97.02</td>\n",
              "      <td>100.00</td>\n",
              "      <td>100.00</td>\n",
              "      <td>95.68</td>\n",
              "      <td>100.0</td>\n",
              "      <td>0.0</td>\n",
              "      <td>100.0</td>\n",
              "      <td>100.0</td>\n",
              "      <td>0.0</td>\n",
              "      <td>100.00</td>\n",
              "      <td>80.00</td>\n",
              "      <td>100.00</td>\n",
              "      <td>40.52</td>\n",
              "      <td>14.78</td>\n",
              "      <td>30.94</td>\n",
              "      <td>28.47</td>\n",
              "      <td>27.88</td>\n",
              "      <td>35.79</td>\n",
              "      <td>10.37</td>\n",
              "      <td>0.0</td>\n",
              "      <td>18.94</td>\n",
              "      <td>57.25</td>\n",
              "      <td>0.00</td>\n",
              "      <td>54.96</td>\n",
              "      <td>17.01</td>\n",
              "      <td>34.53</td>\n",
              "      <td>False</td>\n",
              "      <td>5.916667</td>\n",
              "    </tr>\n",
              "  </tbody>\n",
              "</table>\n",
              "<p>218880 rows × 48 columns</p>\n",
              "</div>\n",
              "      <button class=\"colab-df-convert\" onclick=\"convertToInteractive('df-fc809b2d-ea4c-48d7-a4fc-e928affcf5ca')\"\n",
              "              title=\"Convert this dataframe to an interactive table.\"\n",
              "              style=\"display:none;\">\n",
              "        \n",
              "  <svg xmlns=\"http://www.w3.org/2000/svg\" height=\"24px\"viewBox=\"0 0 24 24\"\n",
              "       width=\"24px\">\n",
              "    <path d=\"M0 0h24v24H0V0z\" fill=\"none\"/>\n",
              "    <path d=\"M18.56 5.44l.94 2.06.94-2.06 2.06-.94-2.06-.94-.94-2.06-.94 2.06-2.06.94zm-11 1L8.5 8.5l.94-2.06 2.06-.94-2.06-.94L8.5 2.5l-.94 2.06-2.06.94zm10 10l.94 2.06.94-2.06 2.06-.94-2.06-.94-.94-2.06-.94 2.06-2.06.94z\"/><path d=\"M17.41 7.96l-1.37-1.37c-.4-.4-.92-.59-1.43-.59-.52 0-1.04.2-1.43.59L10.3 9.45l-7.72 7.72c-.78.78-.78 2.05 0 2.83L4 21.41c.39.39.9.59 1.41.59.51 0 1.02-.2 1.41-.59l7.78-7.78 2.81-2.81c.8-.78.8-2.07 0-2.86zM5.41 20L4 18.59l7.72-7.72 1.47 1.35L5.41 20z\"/>\n",
              "  </svg>\n",
              "      </button>\n",
              "      \n",
              "  <style>\n",
              "    .colab-df-container {\n",
              "      display:flex;\n",
              "      flex-wrap:wrap;\n",
              "      gap: 12px;\n",
              "    }\n",
              "\n",
              "    .colab-df-convert {\n",
              "      background-color: #E8F0FE;\n",
              "      border: none;\n",
              "      border-radius: 50%;\n",
              "      cursor: pointer;\n",
              "      display: none;\n",
              "      fill: #1967D2;\n",
              "      height: 32px;\n",
              "      padding: 0 0 0 0;\n",
              "      width: 32px;\n",
              "    }\n",
              "\n",
              "    .colab-df-convert:hover {\n",
              "      background-color: #E2EBFA;\n",
              "      box-shadow: 0px 1px 2px rgba(60, 64, 67, 0.3), 0px 1px 3px 1px rgba(60, 64, 67, 0.15);\n",
              "      fill: #174EA6;\n",
              "    }\n",
              "\n",
              "    [theme=dark] .colab-df-convert {\n",
              "      background-color: #3B4455;\n",
              "      fill: #D2E3FC;\n",
              "    }\n",
              "\n",
              "    [theme=dark] .colab-df-convert:hover {\n",
              "      background-color: #434B5C;\n",
              "      box-shadow: 0px 1px 3px 1px rgba(0, 0, 0, 0.15);\n",
              "      filter: drop-shadow(0px 1px 2px rgba(0, 0, 0, 0.3));\n",
              "      fill: #FFFFFF;\n",
              "    }\n",
              "  </style>\n",
              "\n",
              "      <script>\n",
              "        const buttonEl =\n",
              "          document.querySelector('#df-fc809b2d-ea4c-48d7-a4fc-e928affcf5ca button.colab-df-convert');\n",
              "        buttonEl.style.display =\n",
              "          google.colab.kernel.accessAllowed ? 'block' : 'none';\n",
              "\n",
              "        async function convertToInteractive(key) {\n",
              "          const element = document.querySelector('#df-fc809b2d-ea4c-48d7-a4fc-e928affcf5ca');\n",
              "          const dataTable =\n",
              "            await google.colab.kernel.invokeFunction('convertToInteractive',\n",
              "                                                     [key], {});\n",
              "          if (!dataTable) return;\n",
              "\n",
              "          const docLinkHtml = 'Like what you see? Visit the ' +\n",
              "            '<a target=\"_blank\" href=https://colab.research.google.com/notebooks/data_table.ipynb>data table notebook</a>'\n",
              "            + ' to learn more about interactive tables.';\n",
              "          element.innerHTML = '';\n",
              "          dataTable['output_type'] = 'display_data';\n",
              "          await google.colab.output.renderOutput(dataTable, element);\n",
              "          const docLink = document.createElement('div');\n",
              "          docLink.innerHTML = docLinkHtml;\n",
              "          element.appendChild(docLink);\n",
              "        }\n",
              "      </script>\n",
              "    </div>\n",
              "  </div>\n",
              "  "
            ]
          },
          "metadata": {},
          "execution_count": 6
        }
      ],
      "source": [
        "df_teste"
      ]
    },
    {
      "cell_type": "markdown",
      "metadata": {
        "id": "gnx79kFrEVjh"
      },
      "source": [
        "#LightGBM"
      ]
    },
    {
      "cell_type": "markdown",
      "metadata": {
        "id": "FXO2s80_HTkb"
      },
      "source": [
        "**Criação de dataframes para o modelo**"
      ]
    },
    {
      "cell_type": "code",
      "execution_count": null,
      "metadata": {
        "id": "CKRIZOfFEwe1"
      },
      "outputs": [],
      "source": [
        "df_both = df_teste\n",
        "#y = df_both[['Total de Domicílios','Masculino','Feminino','AB','C1','C2','DE','4-11 anos','12-17 anos','18-24 anos','25-34 anos','35-49 anos','50-59 anos','60+ anos','Total de Indivíduos','Masculino FID','Feminino FID','AB FID','C1 FID','C2 FID','DE FID','4-11 anos FID','12-17 anos FID','18-24 anos FID','25-34 anos FID','35-49 anos FID','50-59 anos FID','60+ anos FID','Total de Domicílios SHR','Masculino SHR','Feminino SHR','AB SHR','C1 SHR','C2 SHR','DE SHR','4-11 anos SHR','12-17 anos SHR','18-24 anos SHR','25-34 anos SHR','35-49 anos SHR','50-59 anos SHR','60+ anos SHR']]\n",
        "#y = df_both[['Total de Domicílios', 'Total de Domicílios SHR', 'Total de Indivíduos']]\n",
        "#y = df_both[['Total de Domicílios','Masculino','Feminino','AB','C1','C2','DE','4-11 anos','12-17 anos','18-24 anos','25-34 anos','35-49 anos','50-59 anos','60+ anos']]\n",
        "y = df_both['Total de Domicílios']"
      ]
    },
    {
      "cell_type": "markdown",
      "metadata": {
        "id": "kJVJZTW5HZr6"
      },
      "source": [
        "**Remoção do Output desejado**\n"
      ]
    },
    {
      "cell_type": "code",
      "execution_count": null,
      "metadata": {
        "id": "HS4gu166E2j-"
      },
      "outputs": [],
      "source": [
        "df_both.drop(['Total de Domicílios'], axis=1, inplace=True)\n",
        "df_both.drop(['Masculino'], axis=1, inplace=True)\n",
        "df_both.drop(['Feminino'], axis=1, inplace=True)\n",
        "df_both.drop(['AB'], axis=1, inplace=True)\n",
        "df_both.drop(['C1'], axis=1, inplace=True)\n",
        "df_both.drop(['C2'], axis=1, inplace=True)\n",
        "df_both.drop(['DE'], axis=1, inplace=True)\n",
        "df_both.drop(['4-11 anos'], axis=1, inplace=True)\n",
        "df_both.drop(['12-17 anos'], axis=1, inplace=True)\n",
        "df_both.drop(['18-24 anos'], axis=1, inplace=True)\n",
        "df_both.drop(['25-34 anos'], axis=1, inplace=True)\n",
        "df_both.drop(['35-49 anos'], axis=1, inplace=True)\n",
        "df_both.drop(['50-59 anos'], axis=1, inplace=True)\n",
        "df_both.drop(['60+ anos'], axis=1, inplace=True)\n",
        "df_both.drop(['Total de Indivíduos'], axis=1, inplace=True)\n",
        "df_both.drop(['Masculino FID'], axis=1, inplace=True)\n",
        "df_both.drop(['Feminino FID'], axis=1, inplace=True)\n",
        "df_both.drop(['AB FID'], axis=1, inplace=True)\n",
        "df_both.drop(['C1 FID'], axis=1, inplace=True)\n",
        "df_both.drop(['C2 FID'], axis=1, inplace=True)\n",
        "df_both.drop(['DE FID'], axis=1, inplace=True)\n",
        "df_both.drop(['4-11 anos FID'], axis=1, inplace=True)\n",
        "df_both.drop(['12-17 anos FID'], axis=1, inplace=True)\n",
        "df_both.drop(['18-24 anos FID'], axis=1, inplace=True)\n",
        "df_both.drop(['25-34 anos FID'], axis=1, inplace=True)\n",
        "df_both.drop(['35-49 anos FID'], axis=1, inplace=True)\n",
        "df_both.drop(['50-59 anos FID'], axis=1, inplace=True)\n",
        "df_both.drop(['60+ anos FID'], axis=1, inplace=True)\n",
        "df_both.drop(['Total de Domicílios SHR'], axis=1, inplace=True)\n",
        "df_both.drop(['Masculino SHR'], axis=1, inplace=True)\n",
        "df_both.drop(['Feminino SHR'], axis=1, inplace=True)\n",
        "df_both.drop(['AB SHR'], axis=1, inplace=True)\n",
        "df_both.drop(['C1 SHR'], axis=1, inplace=True)\n",
        "df_both.drop(['C2 SHR'], axis=1, inplace=True)\n",
        "df_both.drop(['DE SHR'], axis=1, inplace=True)\n",
        "df_both.drop(['4-11 anos SHR'], axis=1, inplace=True)\n",
        "df_both.drop(['12-17 anos SHR'], axis=1, inplace=True)\n",
        "df_both.drop(['18-24 anos SHR'], axis=1, inplace=True)\n",
        "df_both.drop(['25-34 anos SHR'], axis=1, inplace=True)\n",
        "df_both.drop(['35-49 anos SHR'], axis=1, inplace=True)\n",
        "df_both.drop(['50-59 anos SHR'], axis=1, inplace=True)\n",
        "df_both.drop(['60+ anos SHR'], axis=1, inplace=True)"
      ]
    },
    {
      "cell_type": "markdown",
      "metadata": {
        "id": "GMWySkcrHjxe"
      },
      "source": [
        "**Divisão entre dados de treinamento e dados de resultado**"
      ]
    },
    {
      "cell_type": "code",
      "execution_count": null,
      "metadata": {
        "id": "AZn7iImRFCv4"
      },
      "outputs": [],
      "source": [
        "from sklearn.model_selection import train_test_split\n",
        "X_train, X_test, y_train, y_test = train_test_split(df_both, y, test_size=0.15, shuffle=True)"
      ]
    },
    {
      "cell_type": "markdown",
      "metadata": {
        "id": "Ld4JV1UvH0xp"
      },
      "source": [
        "**Criação de dicionário para usar como parâmetros para o modelo**"
      ]
    },
    {
      "cell_type": "code",
      "execution_count": null,
      "metadata": {
        "id": "D5W28nt_FIQm"
      },
      "outputs": [],
      "source": [
        "hyper_params = {\n",
        "    'task': 'train', #função\n",
        "    'boosting_type': 'gbdt', #tipo da regressão (gbdt, rf, dart, goss)\n",
        "    'objective': 'regression', #tipo do modelo\n",
        "    'metric': ['l1','l2'], #erro médio quadrático e erro médio absoluto\n",
        "    'learning_rate': 0.1, #velocidade do aprendizado\n",
        "    'feature_fraction': 1, #porcentagem do dataframe a ser utilizado\n",
        "    'verbose': 0, #usado para retirar possíveis bugs existentes (debug)\n",
        "    \"max_depth\": 512, #limita o tamanho de cada árvore\n",
        "    \"num_leaves\": 2048, #limita o número de folhas que cada árvore pode ter\n",
        "    \"num_iterations\": 40_000, #quantidade de tentativas\n",
        "}"
      ]
    },
    {
      "cell_type": "markdown",
      "metadata": {
        "id": "8J4F6M8KIXi5"
      },
      "source": [
        "**Criação do modelo e inserção dos parâmetros**"
      ]
    },
    {
      "cell_type": "code",
      "execution_count": null,
      "metadata": {
        "id": "nNDmmnTyFLHo"
      },
      "outputs": [],
      "source": [
        "import lightgbm as lgb\n",
        "from sklearn.multioutput import MultiOutputRegressor\n",
        "gbm = lgb.LGBMRegressor(**hyper_params)\n",
        "#gbm = MultiOutputRegressor(lgb.LGBMRegressor(**hyper_params))"
      ]
    },
    {
      "cell_type": "markdown",
      "metadata": {
        "id": "adNN_0gMIZ1b"
      },
      "source": [
        "**Inserção dos dados para predição**"
      ]
    },
    {
      "cell_type": "code",
      "execution_count": null,
      "metadata": {
        "colab": {
          "base_uri": "https://localhost:8080/"
        },
        "id": "7TteTKVaKkpq",
        "outputId": "514c90bc-68ab-48c9-b3c5-d259839fa982"
      },
      "outputs": [
        {
          "output_type": "stream",
          "name": "stderr",
          "text": [
            "/usr/local/lib/python3.7/dist-packages/lightgbm/engine.py:118: UserWarning: Found `num_iterations` in params. Will use it instead of argument\n",
            "  warnings.warn(\"Found `{}` in params. Will use it instead of argument\".format(alias))\n"
          ]
        },
        {
          "output_type": "stream",
          "name": "stdout",
          "text": [
            "Training until validation scores don't improve for 100 rounds.\n",
            "[100]\tvalid_0's l1: 0.670167\tvalid_0's l2: 0.847732\n",
            "[200]\tvalid_0's l1: 0.585337\tvalid_0's l2: 0.663422\n",
            "[300]\tvalid_0's l1: 0.548034\tvalid_0's l2: 0.591918\n",
            "[400]\tvalid_0's l1: 0.528346\tvalid_0's l2: 0.554932\n",
            "[500]\tvalid_0's l1: 0.51597\tvalid_0's l2: 0.533189\n",
            "[600]\tvalid_0's l1: 0.508066\tvalid_0's l2: 0.518653\n",
            "[700]\tvalid_0's l1: 0.50218\tvalid_0's l2: 0.508979\n",
            "[800]\tvalid_0's l1: 0.4984\tvalid_0's l2: 0.502332\n",
            "[900]\tvalid_0's l1: 0.495283\tvalid_0's l2: 0.497494\n",
            "[1000]\tvalid_0's l1: 0.49299\tvalid_0's l2: 0.493617\n",
            "[1100]\tvalid_0's l1: 0.491319\tvalid_0's l2: 0.49098\n",
            "[1200]\tvalid_0's l1: 0.489908\tvalid_0's l2: 0.488689\n",
            "[1300]\tvalid_0's l1: 0.488762\tvalid_0's l2: 0.487157\n",
            "[1400]\tvalid_0's l1: 0.487866\tvalid_0's l2: 0.485922\n",
            "[1500]\tvalid_0's l1: 0.487305\tvalid_0's l2: 0.485255\n",
            "[1600]\tvalid_0's l1: 0.48689\tvalid_0's l2: 0.484793\n",
            "[1700]\tvalid_0's l1: 0.486461\tvalid_0's l2: 0.484372\n",
            "[1800]\tvalid_0's l1: 0.486217\tvalid_0's l2: 0.48421\n",
            "[1900]\tvalid_0's l1: 0.485961\tvalid_0's l2: 0.484025\n",
            "[2000]\tvalid_0's l1: 0.485808\tvalid_0's l2: 0.484117\n",
            "Early stopping, best iteration is:\n",
            "[1906]\tvalid_0's l1: 0.485939\tvalid_0's l2: 0.483987\n"
          ]
        },
        {
          "output_type": "execute_result",
          "data": {
            "text/plain": [
              "LGBMRegressor(feature_fraction=1, max_depth=512, metric=['l1', 'l2'],\n",
              "              num_iterations=40000, num_leaves=2048, objective='regression',\n",
              "              task='train', verbose=0)"
            ]
          },
          "metadata": {},
          "execution_count": 12
        }
      ],
      "source": [
        "gbm.fit(X_train, y_train,\n",
        "        eval_set=[(X_test, y_test)],\n",
        "        early_stopping_rounds=100,\n",
        "        verbose=100)\n",
        "#gbm.fit(X_train, y_train)"
      ]
    },
    {
      "cell_type": "markdown",
      "metadata": {
        "id": "pSCQakZLIlyn"
      },
      "source": [
        "**Predição com os valores separados para teste**\n"
      ]
    },
    {
      "cell_type": "code",
      "execution_count": null,
      "metadata": {
        "id": "CF_ZIWgkFRD-"
      },
      "outputs": [],
      "source": [
        "test_pred = gbm.predict(X_test)"
      ]
    },
    {
      "cell_type": "markdown",
      "metadata": {
        "id": "Pys0TOvvIrtO"
      },
      "source": [
        "**Métricas do teste**\n",
        "\n",
        "Importação da biblioteca com as métricas específicas e cálculo de seus resultados."
      ]
    },
    {
      "cell_type": "code",
      "execution_count": null,
      "metadata": {
        "colab": {
          "base_uri": "https://localhost:8080/"
        },
        "id": "kmX_om3oFUDP",
        "outputId": "943b7bb4-0c0f-4757-e641-9c9ad9efa039"
      },
      "outputs": [
        {
          "output_type": "stream",
          "name": "stdout",
          "text": [
            "0.9885019566785908\n",
            "0.4859391023785413\n",
            "0.4839867986842172\n"
          ]
        }
      ],
      "source": [
        "from sklearn.metrics import mean_absolute_error, mean_squared_error, r2_score\n",
        "print(r2_score(y_test, test_pred)) #R quadrado\n",
        "print(mean_absolute_error(y_test, test_pred)) #erro médio absoluto\n",
        "print(mean_squared_error(y_test, test_pred)) #erro médio quadrático"
      ]
    },
    {
      "cell_type": "markdown",
      "metadata": {
        "id": "hb7wB1IwLZLt"
      },
      "source": [
        "**Predição com os valores usados para treino**"
      ]
    },
    {
      "cell_type": "code",
      "execution_count": null,
      "metadata": {
        "id": "EAg2GjTjFYd_"
      },
      "outputs": [],
      "source": [
        "train_pred = gbm.predict(X_train, num_iteration=gbm.best_iteration_)"
      ]
    },
    {
      "cell_type": "markdown",
      "metadata": {
        "id": "C5OeNHwHKCit"
      },
      "source": [
        "**Métricas do treinamento**"
      ]
    },
    {
      "cell_type": "code",
      "execution_count": null,
      "metadata": {
        "id": "JAxFOTxgFagN",
        "colab": {
          "base_uri": "https://localhost:8080/"
        },
        "outputId": "eb00d47b-9a17-4daf-a178-2f4b9cf9c626"
      },
      "outputs": [
        {
          "output_type": "stream",
          "name": "stdout",
          "text": [
            "0.9990997114551734\n",
            "0.13740861197675863\n",
            "0.03823325435764992\n"
          ]
        }
      ],
      "source": [
        "from sklearn.metrics import mean_absolute_error, mean_squared_error, r2_score\n",
        "print(r2_score(y_train, train_pred)) #R quadrado\n",
        "print(mean_absolute_error(y_train, train_pred)) #erro médio absoluto\n",
        "print(mean_squared_error(y_train, train_pred)) #erro médio quadrático"
      ]
    },
    {
      "cell_type": "markdown",
      "source": [
        "# Gráficos e comparações"
      ],
      "metadata": {
        "id": "YzzdjWyR-5yn"
      }
    },
    {
      "cell_type": "markdown",
      "metadata": {
        "id": "0ABbjZD5KxQa"
      },
      "source": [
        "**Visualização gráfica do resultado do teste**\n"
      ]
    },
    {
      "cell_type": "code",
      "execution_count": null,
      "metadata": {
        "id": "Z9c9wsa_Fcfi",
        "colab": {
          "base_uri": "https://localhost:8080/",
          "height": 282
        },
        "outputId": "61d1f2d5-202a-4032-9dc0-82cba6df1348"
      },
      "outputs": [
        {
          "output_type": "execute_result",
          "data": {
            "text/plain": [
              "<matplotlib.collections.PathCollection at 0x7f8c01aeab10>"
            ]
          },
          "metadata": {},
          "execution_count": 17
        },
        {
          "output_type": "display_data",
          "data": {
            "text/plain": [
              "<Figure size 432x288 with 1 Axes>"
            ],
            "image/png": "[encoded data removed]"
          },
          "metadata": {
            "needs_background": "light"
          }
        }
      ],
      "source": [
        "plt.scatter(test_pred, y_test)"
      ]
    },
    {
      "cell_type": "markdown",
      "metadata": {
        "id": "JtKJJWBpJYkm"
      },
      "source": [
        "**Comparação em tabela do número real e a predição no treinamento**\n"
      ]
    },
    {
      "cell_type": "code",
      "execution_count": null,
      "metadata": {
        "id": "sWVncxQKFeqs",
        "colab": {
          "base_uri": "https://localhost:8080/",
          "height": 424
        },
        "outputId": "626c811b-d5c8-43a0-dc2a-b1dc7025f415"
      },
      "outputs": [
        {
          "output_type": "execute_result",
          "data": {
            "text/plain": [
              "        Real Value  Prediction\n",
              "160457        4.22    3.690518\n",
              "15619         4.17    4.790649\n",
              "121997       24.12   23.931175\n",
              "208763        3.70    3.018878\n",
              "202453        2.31    2.643467\n",
              "...            ...         ...\n",
              "3267          8.40    9.042089\n",
              "182764       17.39   17.532163\n",
              "115633       16.77   15.671466\n",
              "153765        2.24    2.239917\n",
              "112151        6.85    6.647039\n",
              "\n",
              "[100 rows x 2 columns]"
            ],
            "text/html": [
              "\n",
              "  <div id=\"df-1f7f2b18-2e9c-4993-adbe-fd3b46d3b171\">\n",
              "    <div class=\"colab-df-container\">\n",
              "      <div>\n",
              "<style scoped>\n",
              "    .dataframe tbody tr th:only-of-type {\n",
              "        vertical-align: middle;\n",
              "    }\n",
              "\n",
              "    .dataframe tbody tr th {\n",
              "        vertical-align: top;\n",
              "    }\n",
              "\n",
              "    .dataframe thead th {\n",
              "        text-align: right;\n",
              "    }\n",
              "</style>\n",
              "<table border=\"1\" class=\"dataframe\">\n",
              "  <thead>\n",
              "    <tr style=\"text-align: right;\">\n",
              "      <th></th>\n",
              "      <th>Real Value</th>\n",
              "      <th>Prediction</th>\n",
              "    </tr>\n",
              "  </thead>\n",
              "  <tbody>\n",
              "    <tr>\n",
              "      <th>160457</th>\n",
              "      <td>4.22</td>\n",
              "      <td>3.690518</td>\n",
              "    </tr>\n",
              "    <tr>\n",
              "      <th>15619</th>\n",
              "      <td>4.17</td>\n",
              "      <td>4.790649</td>\n",
              "    </tr>\n",
              "    <tr>\n",
              "      <th>121997</th>\n",
              "      <td>24.12</td>\n",
              "      <td>23.931175</td>\n",
              "    </tr>\n",
              "    <tr>\n",
              "      <th>208763</th>\n",
              "      <td>3.70</td>\n",
              "      <td>3.018878</td>\n",
              "    </tr>\n",
              "    <tr>\n",
              "      <th>202453</th>\n",
              "      <td>2.31</td>\n",
              "      <td>2.643467</td>\n",
              "    </tr>\n",
              "    <tr>\n",
              "      <th>...</th>\n",
              "      <td>...</td>\n",
              "      <td>...</td>\n",
              "    </tr>\n",
              "    <tr>\n",
              "      <th>3267</th>\n",
              "      <td>8.40</td>\n",
              "      <td>9.042089</td>\n",
              "    </tr>\n",
              "    <tr>\n",
              "      <th>182764</th>\n",
              "      <td>17.39</td>\n",
              "      <td>17.532163</td>\n",
              "    </tr>\n",
              "    <tr>\n",
              "      <th>115633</th>\n",
              "      <td>16.77</td>\n",
              "      <td>15.671466</td>\n",
              "    </tr>\n",
              "    <tr>\n",
              "      <th>153765</th>\n",
              "      <td>2.24</td>\n",
              "      <td>2.239917</td>\n",
              "    </tr>\n",
              "    <tr>\n",
              "      <th>112151</th>\n",
              "      <td>6.85</td>\n",
              "      <td>6.647039</td>\n",
              "    </tr>\n",
              "  </tbody>\n",
              "</table>\n",
              "<p>100 rows × 2 columns</p>\n",
              "</div>\n",
              "      <button class=\"colab-df-convert\" onclick=\"convertToInteractive('df-1f7f2b18-2e9c-4993-adbe-fd3b46d3b171')\"\n",
              "              title=\"Convert this dataframe to an interactive table.\"\n",
              "              style=\"display:none;\">\n",
              "        \n",
              "  <svg xmlns=\"http://www.w3.org/2000/svg\" height=\"24px\"viewBox=\"0 0 24 24\"\n",
              "       width=\"24px\">\n",
              "    <path d=\"M0 0h24v24H0V0z\" fill=\"none\"/>\n",
              "    <path d=\"M18.56 5.44l.94 2.06.94-2.06 2.06-.94-2.06-.94-.94-2.06-.94 2.06-2.06.94zm-11 1L8.5 8.5l.94-2.06 2.06-.94-2.06-.94L8.5 2.5l-.94 2.06-2.06.94zm10 10l.94 2.06.94-2.06 2.06-.94-2.06-.94-.94-2.06-.94 2.06-2.06.94z\"/><path d=\"M17.41 7.96l-1.37-1.37c-.4-.4-.92-.59-1.43-.59-.52 0-1.04.2-1.43.59L10.3 9.45l-7.72 7.72c-.78.78-.78 2.05 0 2.83L4 21.41c.39.39.9.59 1.41.59.51 0 1.02-.2 1.41-.59l7.78-7.78 2.81-2.81c.8-.78.8-2.07 0-2.86zM5.41 20L4 18.59l7.72-7.72 1.47 1.35L5.41 20z\"/>\n",
              "  </svg>\n",
              "      </button>\n",
              "      \n",
              "  <style>\n",
              "    .colab-df-container {\n",
              "      display:flex;\n",
              "      flex-wrap:wrap;\n",
              "      gap: 12px;\n",
              "    }\n",
              "\n",
              "    .colab-df-convert {\n",
              "      background-color: #E8F0FE;\n",
              "      border: none;\n",
              "      border-radius: 50%;\n",
              "      cursor: pointer;\n",
              "      display: none;\n",
              "      fill: #1967D2;\n",
              "      height: 32px;\n",
              "      padding: 0 0 0 0;\n",
              "      width: 32px;\n",
              "    }\n",
              "\n",
              "    .colab-df-convert:hover {\n",
              "      background-color: #E2EBFA;\n",
              "      box-shadow: 0px 1px 2px rgba(60, 64, 67, 0.3), 0px 1px 3px 1px rgba(60, 64, 67, 0.15);\n",
              "      fill: #174EA6;\n",
              "    }\n",
              "\n",
              "    [theme=dark] .colab-df-convert {\n",
              "      background-color: #3B4455;\n",
              "      fill: #D2E3FC;\n",
              "    }\n",
              "\n",
              "    [theme=dark] .colab-df-convert:hover {\n",
              "      background-color: #434B5C;\n",
              "      box-shadow: 0px 1px 3px 1px rgba(0, 0, 0, 0.15);\n",
              "      filter: drop-shadow(0px 1px 2px rgba(0, 0, 0, 0.3));\n",
              "      fill: #FFFFFF;\n",
              "    }\n",
              "  </style>\n",
              "\n",
              "      <script>\n",
              "        const buttonEl =\n",
              "          document.querySelector('#df-1f7f2b18-2e9c-4993-adbe-fd3b46d3b171 button.colab-df-convert');\n",
              "        buttonEl.style.display =\n",
              "          google.colab.kernel.accessAllowed ? 'block' : 'none';\n",
              "\n",
              "        async function convertToInteractive(key) {\n",
              "          const element = document.querySelector('#df-1f7f2b18-2e9c-4993-adbe-fd3b46d3b171');\n",
              "          const dataTable =\n",
              "            await google.colab.kernel.invokeFunction('convertToInteractive',\n",
              "                                                     [key], {});\n",
              "          if (!dataTable) return;\n",
              "\n",
              "          const docLinkHtml = 'Like what you see? Visit the ' +\n",
              "            '<a target=\"_blank\" href=https://colab.research.google.com/notebooks/data_table.ipynb>data table notebook</a>'\n",
              "            + ' to learn more about interactive tables.';\n",
              "          element.innerHTML = '';\n",
              "          dataTable['output_type'] = 'display_data';\n",
              "          await google.colab.output.renderOutput(dataTable, element);\n",
              "          const docLink = document.createElement('div');\n",
              "          docLink.innerHTML = docLinkHtml;\n",
              "          element.appendChild(docLink);\n",
              "        }\n",
              "      </script>\n",
              "    </div>\n",
              "  </div>\n",
              "  "
            ]
          },
          "metadata": {},
          "execution_count": 18
        }
      ],
      "source": [
        "results = {'Real Value': y_test, 'Prediction': test_pred}\n",
        "df_results = pd.DataFrame(data=results)\n",
        "df_results.head(100)"
      ]
    },
    {
      "cell_type": "markdown",
      "source": [
        "**Função de criação de gráficos de comparação**"
      ],
      "metadata": {
        "id": "xwVSHr1ofCqD"
      }
    },
    {
      "cell_type": "code",
      "source": [
        "def grafico_metricas(valores_x, valores_y, tipo_dado, nome_modelo):\n",
        "\n",
        "    import matplotlib.pyplot as plt\n",
        "    import numpy as np\n",
        "    from scipy.stats import linregress\n",
        "\n",
        "    fig, (ax1, ax2) = plt.subplots(1, 2, figsize=(25, 10))\n",
        "\n",
        "    ax1.set_title(\"Relação linear entre as séries de dados reais e preditos \\n para o conjunto de \" + tipo_dado + \\\n",
        "                  \" do modelo \" + nome_modelo, fontsize=20, weight='bold')\n",
        "    ax1.set_xlabel(\"Série de audiências reais para \" + tipo_dado, fontsize=20)\n",
        "    ax1.set_ylabel(\"Série de audiências preditas para\" + tipo_dado, fontsize=20)\n",
        "    ax1.tick_params(axis='x', labelsize=20)\n",
        "    ax1.tick_params(axis='y', labelsize=20)\n",
        "\n",
        "    slope, intercept, r_value, p_value, std_err = linregress(valores_x, valores_y)\n",
        "    xaxis_regression = np.linspace(min(valores_x), max(valores_x), num=100)\n",
        "\n",
        "    equation = (\"y = \" + \"{:.5f}\".format(slope) + \"x\" + \" + (\" + \"{:.5f}\".format(intercept) + \")\")\n",
        "\n",
        "    ax1.scatter(valores_x, valores_y, lw=3, color = \"#2D243F\", label = \"timestamps\")\n",
        "    ax1.plot(xaxis_regression, intercept + slope * xaxis_regression, ls = \"--\", color=\"#E44B4A\", lw=4, label = equation)\n",
        "\n",
        "    ax1.annotate(\"r²=\" + \"{:.2f}\".format(r_value**2), xy=(0.1, 0.79), xycoords='axes fraction', fontsize=20)\n",
        "    ax1.annotate(\"ρ=\" + \"{:.2f}\".format(p_value), xy=(0.1, 0.84), xycoords='axes fraction', fontsize=20)\n",
        "    ax1.grid()\n",
        "    ax1.legend(prop={\"size\": 15})\n",
        "\n",
        "    difference_results = valores_x - valores_y\n",
        "    \n",
        "    ax2.set_title(\"Distribuição das diferenças entre séries reais e preditas \\n para o conjunto de \" + tipo_dado + \\\n",
        "              \" do modelo \" + nome_modelo, fontsize=20, weight='bold')\n",
        "    \n",
        "    ax2.set_xlabel(\"Diferença entre audiências reais e preditas (\" + tipo_dado + \") \", fontsize=20)\n",
        "    ax2.set_ylabel(\"Distribuição das diferenças\", fontsize=20)\n",
        "    ax2.tick_params(axis='x', labelsize=20)\n",
        "    ax2.tick_params(axis='y', labelsize=20)\n",
        "\n",
        "    difference_results_std = difference_results.std()\n",
        "    difference_results_stde_mean = difference_results.sem()\n",
        "    difference_results_var = difference_results.var()\n",
        "\n",
        "    box_differences = ax2.boxplot(difference_results, medianprops=dict(color=\"#2D243F\", linewidth=5), patch_artist = True)\n",
        "    box_differences[\"boxes\"][0].set_facecolor(\"#E44B4A\")\n",
        "    ax2.annotate(\"std σ=\" + \"{:.2f}\".format(difference_results_std), xy=(0.7, 0.8), xycoords='axes fraction', fontsize=20)\n",
        "    ax2.annotate(\"SE=\" + \"{:.2f}\".format(difference_results_stde_mean), xy=(0.7, 0.75), xycoords='axes fraction', fontsize=20)\n",
        "    ax2.annotate(\"var σ²=\" + \"{:.2f}\".format(difference_results_var), xy=(0.7, 0.70), xycoords='axes fraction', fontsize=20)\n",
        "    ax2.grid()\n",
        "\n",
        "    plt.show()\n",
        "\n",
        "    return \"{:.2f}\".format(r_value**2), p_value, difference_results_std, difference_results_stde_mean, difference_results_var"
      ],
      "metadata": {
        "id": "PBlHrf165DGQ"
      },
      "execution_count": null,
      "outputs": []
    },
    {
      "cell_type": "code",
      "source": [
        "a, b, c, d, e = grafico_metricas(y_test, test_pred, \"teste\", \"LightGBM\")"
      ],
      "metadata": {
        "colab": {
          "base_uri": "https://localhost:8080/",
          "height": 669
        },
        "id": "DFNyPflq-z29",
        "outputId": "fe9c39b5-abc9-4d9b-b904-1bbda848cbff"
      },
      "execution_count": null,
      "outputs": [
        {
          "output_type": "display_data",
          "data": {
            "text/plain": [
              "<Figure size 1800x720 with 2 Axes>"
            ],
            "image/png": "[encoded data removed]"
          },
          "metadata": {
            "needs_background": "light"
          }
        }
      ]
    },
    {
      "cell_type": "code",
      "source": [
        "f, g, h, i, j = grafico_metricas(y_train, train_pred, \"treino\", \"LightGBM\")"
      ],
      "metadata": {
        "colab": {
          "base_uri": "https://localhost:8080/",
          "height": 669
        },
        "id": "uBol8jNs-1ha",
        "outputId": "8824556a-b39b-484f-e019-57f030e5a385"
      },
      "execution_count": null,
      "outputs": [
        {
          "output_type": "display_data",
          "data": {
            "text/plain": [
              "<Figure size 1800x720 with 2 Axes>"
            ],
            "image/png": "[encoded data removed]"
          },
          "metadata": {
            "needs_background": "light"
          }
        }
      ]
    },
    {
      "cell_type": "markdown",
      "source": [
        "**Criação de dataframe com as informações de métricas do modelo no teste e no treino**"
      ],
      "metadata": {
        "id": "klUkcSTUe4wT"
      }
    },
    {
      "cell_type": "code",
      "source": [
        "dic_results_teste = {'Modelo': 'LightGBM', 'Tipo_de_dado':['Teste','Treino'], 'r²':[a,f], 'ρ':[b,g] ,'std σ':[c,h],'SE':[d,i], 'var':[e,j]}\n",
        "results_teste_df = pd.DataFrame(data=dic_results_teste)\n",
        "results_teste_df"
      ],
      "metadata": {
        "colab": {
          "base_uri": "https://localhost:8080/",
          "height": 112
        },
        "id": "-i4egHYM-2nT",
        "outputId": "955e632c-252c-4cf8-eb12-c6c6594a6b79"
      },
      "execution_count": null,
      "outputs": [
        {
          "output_type": "execute_result",
          "data": {
            "text/plain": [
              "     Modelo Tipo_de_dado    r²    ρ     std σ        SE       var\n",
              "0  LightGBM        Teste  0.99  0.0  0.695701  0.003839  0.484001\n",
              "1  LightGBM       Treino  1.00  0.0  0.195534  0.000453  0.038233"
            ],
            "text/html": [
              "\n",
              "  <div id=\"df-a3069240-1ff1-43ac-ab0b-ceeadc8fc8eb\">\n",
              "    <div class=\"colab-df-container\">\n",
              "      <div>\n",
              "<style scoped>\n",
              "    .dataframe tbody tr th:only-of-type {\n",
              "        vertical-align: middle;\n",
              "    }\n",
              "\n",
              "    .dataframe tbody tr th {\n",
              "        vertical-align: top;\n",
              "    }\n",
              "\n",
              "    .dataframe thead th {\n",
              "        text-align: right;\n",
              "    }\n",
              "</style>\n",
              "<table border=\"1\" class=\"dataframe\">\n",
              "  <thead>\n",
              "    <tr style=\"text-align: right;\">\n",
              "      <th></th>\n",
              "      <th>Modelo</th>\n",
              "      <th>Tipo_de_dado</th>\n",
              "      <th>r²</th>\n",
              "      <th>ρ</th>\n",
              "      <th>std σ</th>\n",
              "      <th>SE</th>\n",
              "      <th>var</th>\n",
              "    </tr>\n",
              "  </thead>\n",
              "  <tbody>\n",
              "    <tr>\n",
              "      <th>0</th>\n",
              "      <td>LightGBM</td>\n",
              "      <td>Teste</td>\n",
              "      <td>0.99</td>\n",
              "      <td>0.0</td>\n",
              "      <td>0.695701</td>\n",
              "      <td>0.003839</td>\n",
              "      <td>0.484001</td>\n",
              "    </tr>\n",
              "    <tr>\n",
              "      <th>1</th>\n",
              "      <td>LightGBM</td>\n",
              "      <td>Treino</td>\n",
              "      <td>1.00</td>\n",
              "      <td>0.0</td>\n",
              "      <td>0.195534</td>\n",
              "      <td>0.000453</td>\n",
              "      <td>0.038233</td>\n",
              "    </tr>\n",
              "  </tbody>\n",
              "</table>\n",
              "</div>\n",
              "      <button class=\"colab-df-convert\" onclick=\"convertToInteractive('df-a3069240-1ff1-43ac-ab0b-ceeadc8fc8eb')\"\n",
              "              title=\"Convert this dataframe to an interactive table.\"\n",
              "              style=\"display:none;\">\n",
              "        \n",
              "  <svg xmlns=\"http://www.w3.org/2000/svg\" height=\"24px\"viewBox=\"0 0 24 24\"\n",
              "       width=\"24px\">\n",
              "    <path d=\"M0 0h24v24H0V0z\" fill=\"none\"/>\n",
              "    <path d=\"M18.56 5.44l.94 2.06.94-2.06 2.06-.94-2.06-.94-.94-2.06-.94 2.06-2.06.94zm-11 1L8.5 8.5l.94-2.06 2.06-.94-2.06-.94L8.5 2.5l-.94 2.06-2.06.94zm10 10l.94 2.06.94-2.06 2.06-.94-2.06-.94-.94-2.06-.94 2.06-2.06.94z\"/><path d=\"M17.41 7.96l-1.37-1.37c-.4-.4-.92-.59-1.43-.59-.52 0-1.04.2-1.43.59L10.3 9.45l-7.72 7.72c-.78.78-.78 2.05 0 2.83L4 21.41c.39.39.9.59 1.41.59.51 0 1.02-.2 1.41-.59l7.78-7.78 2.81-2.81c.8-.78.8-2.07 0-2.86zM5.41 20L4 18.59l7.72-7.72 1.47 1.35L5.41 20z\"/>\n",
              "  </svg>\n",
              "      </button>\n",
              "      \n",
              "  <style>\n",
              "    .colab-df-container {\n",
              "      display:flex;\n",
              "      flex-wrap:wrap;\n",
              "      gap: 12px;\n",
              "    }\n",
              "\n",
              "    .colab-df-convert {\n",
              "      background-color: #E8F0FE;\n",
              "      border: none;\n",
              "      border-radius: 50%;\n",
              "      cursor: pointer;\n",
              "      display: none;\n",
              "      fill: #1967D2;\n",
              "      height: 32px;\n",
              "      padding: 0 0 0 0;\n",
              "      width: 32px;\n",
              "    }\n",
              "\n",
              "    .colab-df-convert:hover {\n",
              "      background-color: #E2EBFA;\n",
              "      box-shadow: 0px 1px 2px rgba(60, 64, 67, 0.3), 0px 1px 3px 1px rgba(60, 64, 67, 0.15);\n",
              "      fill: #174EA6;\n",
              "    }\n",
              "\n",
              "    [theme=dark] .colab-df-convert {\n",
              "      background-color: #3B4455;\n",
              "      fill: #D2E3FC;\n",
              "    }\n",
              "\n",
              "    [theme=dark] .colab-df-convert:hover {\n",
              "      background-color: #434B5C;\n",
              "      box-shadow: 0px 1px 3px 1px rgba(0, 0, 0, 0.15);\n",
              "      filter: drop-shadow(0px 1px 2px rgba(0, 0, 0, 0.3));\n",
              "      fill: #FFFFFF;\n",
              "    }\n",
              "  </style>\n",
              "\n",
              "      <script>\n",
              "        const buttonEl =\n",
              "          document.querySelector('#df-a3069240-1ff1-43ac-ab0b-ceeadc8fc8eb button.colab-df-convert');\n",
              "        buttonEl.style.display =\n",
              "          google.colab.kernel.accessAllowed ? 'block' : 'none';\n",
              "\n",
              "        async function convertToInteractive(key) {\n",
              "          const element = document.querySelector('#df-a3069240-1ff1-43ac-ab0b-ceeadc8fc8eb');\n",
              "          const dataTable =\n",
              "            await google.colab.kernel.invokeFunction('convertToInteractive',\n",
              "                                                     [key], {});\n",
              "          if (!dataTable) return;\n",
              "\n",
              "          const docLinkHtml = 'Like what you see? Visit the ' +\n",
              "            '<a target=\"_blank\" href=https://colab.research.google.com/notebooks/data_table.ipynb>data table notebook</a>'\n",
              "            + ' to learn more about interactive tables.';\n",
              "          element.innerHTML = '';\n",
              "          dataTable['output_type'] = 'display_data';\n",
              "          await google.colab.output.renderOutput(dataTable, element);\n",
              "          const docLink = document.createElement('div');\n",
              "          docLink.innerHTML = docLinkHtml;\n",
              "          element.appendChild(docLink);\n",
              "        }\n",
              "      </script>\n",
              "    </div>\n",
              "  </div>\n",
              "  "
            ]
          },
          "metadata": {},
          "execution_count": 22
        }
      ]
    },
    {
      "cell_type": "markdown",
      "source": [
        "# Hiperparametrização"
      ],
      "metadata": {
        "id": "ibvBLrw-klQU"
      }
    },
    {
      "cell_type": "markdown",
      "source": [
        "**Função utilizando a biblioteca \"Optuna\"**\n",
        "\n",
        "Optuna é uma biblioteca utilizada para afinar os hiperparâmetros de modelos de árvore de decisão. Ele é mais comumente usado em modelos á base de gradient boosting, mais especificamente, no LightGBM."
      ],
      "metadata": {
        "id": "RszWw5wvfPjG"
      }
    },
    {
      "cell_type": "code",
      "source": [
        "!pip install optuna\n",
        "import optuna\n",
        "import lightgbm as lgb\n",
        "from sklearn.metrics import mean_squared_error\n",
        "def tuner(trial):\n",
        "    param = {\n",
        "      'task': 'train',\n",
        "      'boosting_type': 'gbdt',\n",
        "      'objective': 'regression',\n",
        "      'learning_rate': 0.05,\n",
        "      'feature_fraction': 1,\n",
        "      'verbose': 0,\n",
        "      \"max_depth\": trial.suggest_int(\"max_depth\", 16,128),\n",
        "      \"num_leaves\": trial.suggest_int(\"num_leaves\", 64,512),\n",
        "      \"num_iterations\": 1_000,\n",
        "  }\n",
        "    model = lgb.LGBMRegressor(**param, random_state = 21)\n",
        "    model.fit(\n",
        "        X_train, y_train,\n",
        "        eval_set=[(X_test, y_test)],\n",
        "        eval_metric='rmse',\n",
        "        verbose=1000,\n",
        "        early_stopping_rounds=400\n",
        "    )\n",
        "    preds = model.predict(X_test)\n",
        "    rmse = mean_squared_error(y_test, preds, squared=False)\n",
        "    return rmse\n",
        "\n",
        "study = optuna.create_study()\n",
        "study.optimize(tuner, n_trials = 120)"
      ],
      "metadata": {
        "colab": {
          "base_uri": "https://localhost:8080/",
          "height": 1000
        },
        "id": "mVjr5KVqih_e",
        "outputId": "2deea517-fc57-45dc-ffab-da87fa79411e"
      },
      "execution_count": null,
      "outputs": [
        {
          "output_type": "stream",
          "name": "stdout",
          "text": [
            "Looking in indexes: https://pypi.org/simple, https://us-python.pkg.dev/colab-wheels/public/simple/\n",
            "Requirement already satisfied: optuna in /usr/local/lib/python3.7/dist-packages (3.0.2)\n",
            "Requirement already satisfied: numpy in /usr/local/lib/python3.7/dist-packages (from optuna) (1.21.6)\n",
            "Requirement already satisfied: cmaes>=0.8.2 in /usr/local/lib/python3.7/dist-packages (from optuna) (0.8.2)\n",
            "Requirement already satisfied: cliff in /usr/local/lib/python3.7/dist-packages (from optuna) (3.10.1)\n",
            "Requirement already satisfied: packaging>=20.0 in /usr/local/lib/python3.7/dist-packages (from optuna) (21.3)\n",
            "Requirement already satisfied: scipy<1.9.0,>=1.7.0 in /usr/local/lib/python3.7/dist-packages (from optuna) (1.7.3)\n",
            "Requirement already satisfied: tqdm in /usr/local/lib/python3.7/dist-packages (from optuna) (4.64.1)\n",
            "Requirement already satisfied: sqlalchemy>=1.3.0 in /usr/local/lib/python3.7/dist-packages (from optuna) (1.4.41)\n",
            "Requirement already satisfied: PyYAML in /usr/local/lib/python3.7/dist-packages (from optuna) (6.0)\n",
            "Requirement already satisfied: colorlog in /usr/local/lib/python3.7/dist-packages (from optuna) (6.7.0)\n",
            "Requirement already satisfied: alembic>=1.5.0 in /usr/local/lib/python3.7/dist-packages (from optuna) (1.8.1)\n",
            "Requirement already satisfied: Mako in /usr/local/lib/python3.7/dist-packages (from alembic>=1.5.0->optuna) (1.2.3)\n",
            "Requirement already satisfied: importlib-metadata in /usr/local/lib/python3.7/dist-packages (from alembic>=1.5.0->optuna) (4.12.0)\n",
            "Requirement already satisfied: importlib-resources in /usr/local/lib/python3.7/dist-packages (from alembic>=1.5.0->optuna) (5.9.0)\n",
            "Requirement already satisfied: pyparsing!=3.0.5,>=2.0.2 in /usr/local/lib/python3.7/dist-packages (from packaging>=20.0->optuna) (3.0.9)\n",
            "Requirement already satisfied: greenlet!=0.4.17 in /usr/local/lib/python3.7/dist-packages (from sqlalchemy>=1.3.0->optuna) (1.1.3)\n",
            "Requirement already satisfied: cmd2>=1.0.0 in /usr/local/lib/python3.7/dist-packages (from cliff->optuna) (2.4.2)\n",
            "Requirement already satisfied: stevedore>=2.0.1 in /usr/local/lib/python3.7/dist-packages (from cliff->optuna) (3.5.0)\n",
            "Requirement already satisfied: pbr!=2.1.0,>=2.0.0 in /usr/local/lib/python3.7/dist-packages (from cliff->optuna) (5.10.0)\n",
            "Requirement already satisfied: PrettyTable>=0.7.2 in /usr/local/lib/python3.7/dist-packages (from cliff->optuna) (3.4.1)\n",
            "Requirement already satisfied: autopage>=0.4.0 in /usr/local/lib/python3.7/dist-packages (from cliff->optuna) (0.5.1)\n",
            "Requirement already satisfied: attrs>=16.3.0 in /usr/local/lib/python3.7/dist-packages (from cmd2>=1.0.0->cliff->optuna) (22.1.0)\n",
            "Requirement already satisfied: pyperclip>=1.6 in /usr/local/lib/python3.7/dist-packages (from cmd2>=1.0.0->cliff->optuna) (1.8.2)\n",
            "Requirement already satisfied: wcwidth>=0.1.7 in /usr/local/lib/python3.7/dist-packages (from cmd2>=1.0.0->cliff->optuna) (0.2.5)\n",
            "Requirement already satisfied: typing-extensions in /usr/local/lib/python3.7/dist-packages (from cmd2>=1.0.0->cliff->optuna) (4.1.1)\n",
            "Requirement already satisfied: zipp>=0.5 in /usr/local/lib/python3.7/dist-packages (from importlib-metadata->alembic>=1.5.0->optuna) (3.8.1)\n",
            "Requirement already satisfied: MarkupSafe>=0.9.2 in /usr/local/lib/python3.7/dist-packages (from Mako->alembic>=1.5.0->optuna) (2.0.1)\n"
          ]
        },
        {
          "output_type": "stream",
          "name": "stderr",
          "text": [
            "\u001b[32m[I 2022-09-27 01:15:34,850]\u001b[0m A new study created in memory with name: no-name-cb54e021-7c5a-4f72-bfe1-9cfdb0553c74\u001b[0m\n",
            "/usr/local/lib/python3.7/dist-packages/lightgbm/engine.py:118: UserWarning: Found `num_iterations` in params. Will use it instead of argument\n",
            "  warnings.warn(\"Found `{}` in params. Will use it instead of argument\".format(alias))\n"
          ]
        },
        {
          "output_type": "stream",
          "name": "stdout",
          "text": [
            "Training until validation scores don't improve for 400 rounds.\n",
            "[1000]\tvalid_0's rmse: 0.867414\tvalid_0's l2: 0.752406\n",
            "Did not meet early stopping. Best iteration is:\n",
            "[1000]\tvalid_0's rmse: 0.867414\tvalid_0's l2: 0.752406\n"
          ]
        },
        {
          "output_type": "stream",
          "name": "stderr",
          "text": [
            "\u001b[32m[I 2022-09-27 01:15:59,365]\u001b[0m Trial 0 finished with value: 0.867413682883998 and parameters: {'max_depth': 28, 'num_leaves': 508}. Best is trial 0 with value: 0.867413682883998.\u001b[0m\n",
            "/usr/local/lib/python3.7/dist-packages/lightgbm/engine.py:118: UserWarning: Found `num_iterations` in params. Will use it instead of argument\n",
            "  warnings.warn(\"Found `{}` in params. Will use it instead of argument\".format(alias))\n"
          ]
        },
        {
          "output_type": "stream",
          "name": "stdout",
          "text": [
            "Training until validation scores don't improve for 400 rounds.\n",
            "[1000]\tvalid_0's rmse: 1.04597\tvalid_0's l2: 1.09406\n",
            "Did not meet early stopping. Best iteration is:\n",
            "[1000]\tvalid_0's rmse: 1.04597\tvalid_0's l2: 1.09406\n"
          ]
        },
        {
          "output_type": "stream",
          "name": "stderr",
          "text": [
            "\u001b[32m[I 2022-09-27 01:16:14,860]\u001b[0m Trial 1 finished with value: 1.0459740607594439 and parameters: {'max_depth': 51, 'num_leaves': 229}. Best is trial 0 with value: 0.867413682883998.\u001b[0m\n",
            "/usr/local/lib/python3.7/dist-packages/lightgbm/engine.py:118: UserWarning: Found `num_iterations` in params. Will use it instead of argument\n",
            "  warnings.warn(\"Found `{}` in params. Will use it instead of argument\".format(alias))\n"
          ]
        },
        {
          "output_type": "stream",
          "name": "stdout",
          "text": [
            "Training until validation scores don't improve for 400 rounds.\n",
            "[1000]\tvalid_0's rmse: 0.925702\tvalid_0's l2: 0.856925\n",
            "Did not meet early stopping. Best iteration is:\n",
            "[1000]\tvalid_0's rmse: 0.925702\tvalid_0's l2: 0.856925\n"
          ]
        },
        {
          "output_type": "stream",
          "name": "stderr",
          "text": [
            "\u001b[32m[I 2022-09-27 01:16:35,318]\u001b[0m Trial 2 finished with value: 0.9257021766942504 and parameters: {'max_depth': 101, 'num_leaves': 388}. Best is trial 0 with value: 0.867413682883998.\u001b[0m\n",
            "/usr/local/lib/python3.7/dist-packages/lightgbm/engine.py:118: UserWarning: Found `num_iterations` in params. Will use it instead of argument\n",
            "  warnings.warn(\"Found `{}` in params. Will use it instead of argument\".format(alias))\n"
          ]
        },
        {
          "output_type": "stream",
          "name": "stdout",
          "text": [
            "Training until validation scores don't improve for 400 rounds.\n",
            "[1000]\tvalid_0's rmse: 0.935069\tvalid_0's l2: 0.874355\n",
            "Did not meet early stopping. Best iteration is:\n",
            "[1000]\tvalid_0's rmse: 0.935069\tvalid_0's l2: 0.874355\n"
          ]
        },
        {
          "output_type": "stream",
          "name": "stderr",
          "text": [
            "\u001b[32m[I 2022-09-27 01:16:55,177]\u001b[0m Trial 3 finished with value: 0.9350692834874577 and parameters: {'max_depth': 108, 'num_leaves': 371}. Best is trial 0 with value: 0.867413682883998.\u001b[0m\n",
            "/usr/local/lib/python3.7/dist-packages/lightgbm/engine.py:118: UserWarning: Found `num_iterations` in params. Will use it instead of argument\n",
            "  warnings.warn(\"Found `{}` in params. Will use it instead of argument\".format(alias))\n"
          ]
        },
        {
          "output_type": "stream",
          "name": "stdout",
          "text": [
            "Training until validation scores don't improve for 400 rounds.\n",
            "[1000]\tvalid_0's rmse: 1.03482\tvalid_0's l2: 1.07086\n",
            "Did not meet early stopping. Best iteration is:\n",
            "[1000]\tvalid_0's rmse: 1.03482\tvalid_0's l2: 1.07086\n"
          ]
        },
        {
          "output_type": "stream",
          "name": "stderr",
          "text": [
            "\u001b[32m[I 2022-09-27 01:17:11,034]\u001b[0m Trial 4 finished with value: 1.034822514738636 and parameters: {'max_depth': 60, 'num_leaves': 241}. Best is trial 0 with value: 0.867413682883998.\u001b[0m\n",
            "/usr/local/lib/python3.7/dist-packages/lightgbm/engine.py:118: UserWarning: Found `num_iterations` in params. Will use it instead of argument\n",
            "  warnings.warn(\"Found `{}` in params. Will use it instead of argument\".format(alias))\n"
          ]
        },
        {
          "output_type": "stream",
          "name": "stdout",
          "text": [
            "Training until validation scores don't improve for 400 rounds.\n",
            "[1000]\tvalid_0's rmse: 0.91058\tvalid_0's l2: 0.829157\n",
            "Did not meet early stopping. Best iteration is:\n",
            "[1000]\tvalid_0's rmse: 0.91058\tvalid_0's l2: 0.829157\n"
          ]
        },
        {
          "output_type": "stream",
          "name": "stderr",
          "text": [
            "\u001b[32m[I 2022-09-27 01:17:32,253]\u001b[0m Trial 5 finished with value: 0.9105803184789666 and parameters: {'max_depth': 76, 'num_leaves': 419}. Best is trial 0 with value: 0.867413682883998.\u001b[0m\n",
            "/usr/local/lib/python3.7/dist-packages/lightgbm/engine.py:118: UserWarning: Found `num_iterations` in params. Will use it instead of argument\n",
            "  warnings.warn(\"Found `{}` in params. Will use it instead of argument\".format(alias))\n"
          ]
        },
        {
          "output_type": "stream",
          "name": "stdout",
          "text": [
            "Training until validation scores don't improve for 400 rounds.\n",
            "[1000]\tvalid_0's rmse: 0.996746\tvalid_0's l2: 0.993503\n",
            "Did not meet early stopping. Best iteration is:\n",
            "[1000]\tvalid_0's rmse: 0.996746\tvalid_0's l2: 0.993503\n"
          ]
        },
        {
          "output_type": "stream",
          "name": "stderr",
          "text": [
            "\u001b[32m[I 2022-09-27 01:17:49,512]\u001b[0m Trial 6 finished with value: 0.9967463808897151 and parameters: {'max_depth': 54, 'num_leaves': 280}. Best is trial 0 with value: 0.867413682883998.\u001b[0m\n",
            "/usr/local/lib/python3.7/dist-packages/lightgbm/engine.py:118: UserWarning: Found `num_iterations` in params. Will use it instead of argument\n",
            "  warnings.warn(\"Found `{}` in params. Will use it instead of argument\".format(alias))\n"
          ]
        },
        {
          "output_type": "stream",
          "name": "stdout",
          "text": [
            "Training until validation scores don't improve for 400 rounds.\n",
            "[1000]\tvalid_0's rmse: 0.98286\tvalid_0's l2: 0.966014\n",
            "Did not meet early stopping. Best iteration is:\n",
            "[1000]\tvalid_0's rmse: 0.98286\tvalid_0's l2: 0.966014\n"
          ]
        },
        {
          "output_type": "stream",
          "name": "stderr",
          "text": [
            "\u001b[32m[I 2022-09-27 01:18:11,053]\u001b[0m Trial 7 finished with value: 0.9828599013896052 and parameters: {'max_depth': 52, 'num_leaves': 292}. Best is trial 0 with value: 0.867413682883998.\u001b[0m\n",
            "/usr/local/lib/python3.7/dist-packages/lightgbm/engine.py:118: UserWarning: Found `num_iterations` in params. Will use it instead of argument\n",
            "  warnings.warn(\"Found `{}` in params. Will use it instead of argument\".format(alias))\n"
          ]
        },
        {
          "output_type": "stream",
          "name": "stdout",
          "text": [
            "Training until validation scores don't improve for 400 rounds.\n",
            "[1000]\tvalid_0's rmse: 1.16355\tvalid_0's l2: 1.35384\n",
            "Did not meet early stopping. Best iteration is:\n",
            "[1000]\tvalid_0's rmse: 1.16355\tvalid_0's l2: 1.35384\n"
          ]
        },
        {
          "output_type": "stream",
          "name": "stderr",
          "text": [
            "\u001b[32m[I 2022-09-27 01:18:24,101]\u001b[0m Trial 8 finished with value: 1.1635460226165883 and parameters: {'max_depth': 79, 'num_leaves': 147}. Best is trial 0 with value: 0.867413682883998.\u001b[0m\n",
            "/usr/local/lib/python3.7/dist-packages/lightgbm/engine.py:118: UserWarning: Found `num_iterations` in params. Will use it instead of argument\n",
            "  warnings.warn(\"Found `{}` in params. Will use it instead of argument\".format(alias))\n"
          ]
        },
        {
          "output_type": "stream",
          "name": "stdout",
          "text": [
            "Training until validation scores don't improve for 400 rounds.\n",
            "[1000]\tvalid_0's rmse: 1.24267\tvalid_0's l2: 1.54423\n",
            "Did not meet early stopping. Best iteration is:\n",
            "[1000]\tvalid_0's rmse: 1.24267\tvalid_0's l2: 1.54423\n"
          ]
        },
        {
          "output_type": "stream",
          "name": "stderr",
          "text": [
            "\u001b[32m[I 2022-09-27 01:18:36,147]\u001b[0m Trial 9 finished with value: 1.2426685956020702 and parameters: {'max_depth': 47, 'num_leaves': 113}. Best is trial 0 with value: 0.867413682883998.\u001b[0m\n",
            "/usr/local/lib/python3.7/dist-packages/lightgbm/engine.py:118: UserWarning: Found `num_iterations` in params. Will use it instead of argument\n",
            "  warnings.warn(\"Found `{}` in params. Will use it instead of argument\".format(alias))\n"
          ]
        },
        {
          "output_type": "stream",
          "name": "stdout",
          "text": [
            "Training until validation scores don't improve for 400 rounds.\n",
            "[1000]\tvalid_0's rmse: 0.885263\tvalid_0's l2: 0.783691\n",
            "Did not meet early stopping. Best iteration is:\n",
            "[1000]\tvalid_0's rmse: 0.885263\tvalid_0's l2: 0.783691\n"
          ]
        },
        {
          "output_type": "stream",
          "name": "stderr",
          "text": [
            "\u001b[32m[I 2022-09-27 01:19:00,964]\u001b[0m Trial 10 finished with value: 0.885263056551018 and parameters: {'max_depth': 16, 'num_leaves': 496}. Best is trial 0 with value: 0.867413682883998.\u001b[0m\n",
            "/usr/local/lib/python3.7/dist-packages/lightgbm/engine.py:118: UserWarning: Found `num_iterations` in params. Will use it instead of argument\n",
            "  warnings.warn(\"Found `{}` in params. Will use it instead of argument\".format(alias))\n"
          ]
        },
        {
          "output_type": "stream",
          "name": "stdout",
          "text": [
            "Training until validation scores don't improve for 400 rounds.\n",
            "[1000]\tvalid_0's rmse: 0.887994\tvalid_0's l2: 0.788533\n",
            "Did not meet early stopping. Best iteration is:\n",
            "[1000]\tvalid_0's rmse: 0.887994\tvalid_0's l2: 0.788533\n"
          ]
        },
        {
          "output_type": "stream",
          "name": "stderr",
          "text": [
            "\u001b[32m[I 2022-09-27 01:19:25,106]\u001b[0m Trial 11 finished with value: 0.8879940342177098 and parameters: {'max_depth': 17, 'num_leaves': 484}. Best is trial 0 with value: 0.867413682883998.\u001b[0m\n",
            "/usr/local/lib/python3.7/dist-packages/lightgbm/engine.py:118: UserWarning: Found `num_iterations` in params. Will use it instead of argument\n",
            "  warnings.warn(\"Found `{}` in params. Will use it instead of argument\".format(alias))\n"
          ]
        },
        {
          "output_type": "stream",
          "name": "stdout",
          "text": [
            "Training until validation scores don't improve for 400 rounds.\n",
            "[1000]\tvalid_0's rmse: 0.889198\tvalid_0's l2: 0.790673\n",
            "Did not meet early stopping. Best iteration is:\n",
            "[1000]\tvalid_0's rmse: 0.889198\tvalid_0's l2: 0.790673\n"
          ]
        },
        {
          "output_type": "stream",
          "name": "stderr",
          "text": [
            "\u001b[32m[I 2022-09-27 01:19:49,627]\u001b[0m Trial 12 finished with value: 0.8891979162176723 and parameters: {'max_depth': 17, 'num_leaves': 501}. Best is trial 0 with value: 0.867413682883998.\u001b[0m\n",
            "/usr/local/lib/python3.7/dist-packages/lightgbm/engine.py:118: UserWarning: Found `num_iterations` in params. Will use it instead of argument\n",
            "  warnings.warn(\"Found `{}` in params. Will use it instead of argument\".format(alias))\n"
          ]
        },
        {
          "output_type": "stream",
          "name": "stdout",
          "text": [
            "Training until validation scores don't improve for 400 rounds.\n",
            "[1000]\tvalid_0's rmse: 0.899715\tvalid_0's l2: 0.809487\n",
            "Did not meet early stopping. Best iteration is:\n",
            "[1000]\tvalid_0's rmse: 0.899715\tvalid_0's l2: 0.809487\n"
          ]
        },
        {
          "output_type": "stream",
          "name": "stderr",
          "text": [
            "\u001b[32m[I 2022-09-27 01:20:15,349]\u001b[0m Trial 13 finished with value: 0.8997149918417591 and parameters: {'max_depth': 35, 'num_leaves': 437}. Best is trial 0 with value: 0.867413682883998.\u001b[0m\n",
            "/usr/local/lib/python3.7/dist-packages/lightgbm/engine.py:118: UserWarning: Found `num_iterations` in params. Will use it instead of argument\n",
            "  warnings.warn(\"Found `{}` in params. Will use it instead of argument\".format(alias))\n"
          ]
        },
        {
          "output_type": "stream",
          "name": "stdout",
          "text": [
            "Training until validation scores don't improve for 400 rounds.\n",
            "[1000]\tvalid_0's rmse: 0.874984\tvalid_0's l2: 0.765598\n",
            "Did not meet early stopping. Best iteration is:\n",
            "[1000]\tvalid_0's rmse: 0.874984\tvalid_0's l2: 0.765598\n"
          ]
        },
        {
          "output_type": "stream",
          "name": "stderr",
          "text": [
            "\u001b[32m[I 2022-09-27 01:20:43,504]\u001b[0m Trial 14 finished with value: 0.8749844981545444 and parameters: {'max_depth': 31, 'num_leaves': 498}. Best is trial 0 with value: 0.867413682883998.\u001b[0m\n",
            "/usr/local/lib/python3.7/dist-packages/lightgbm/engine.py:118: UserWarning: Found `num_iterations` in params. Will use it instead of argument\n",
            "  warnings.warn(\"Found `{}` in params. Will use it instead of argument\".format(alias))\n"
          ]
        },
        {
          "output_type": "stream",
          "name": "stdout",
          "text": [
            "Training until validation scores don't improve for 400 rounds.\n",
            "[1000]\tvalid_0's rmse: 0.944968\tvalid_0's l2: 0.892965\n",
            "Did not meet early stopping. Best iteration is:\n",
            "[1000]\tvalid_0's rmse: 0.944968\tvalid_0's l2: 0.892965\n"
          ]
        },
        {
          "output_type": "stream",
          "name": "stderr",
          "text": [
            "\u001b[32m[I 2022-09-27 01:21:03,226]\u001b[0m Trial 15 finished with value: 0.9449680479359988 and parameters: {'max_depth': 33, 'num_leaves': 357}. Best is trial 0 with value: 0.867413682883998.\u001b[0m\n",
            "/usr/local/lib/python3.7/dist-packages/lightgbm/engine.py:118: UserWarning: Found `num_iterations` in params. Will use it instead of argument\n",
            "  warnings.warn(\"Found `{}` in params. Will use it instead of argument\".format(alias))\n"
          ]
        },
        {
          "output_type": "stream",
          "name": "stdout",
          "text": [
            "Training until validation scores don't improve for 400 rounds.\n",
            "[1000]\tvalid_0's rmse: 0.898745\tvalid_0's l2: 0.807743\n",
            "Did not meet early stopping. Best iteration is:\n",
            "[1000]\tvalid_0's rmse: 0.898745\tvalid_0's l2: 0.807743\n"
          ]
        },
        {
          "output_type": "stream",
          "name": "stderr",
          "text": [
            "\u001b[32m[I 2022-09-27 01:21:25,326]\u001b[0m Trial 16 finished with value: 0.8987451038782515 and parameters: {'max_depth': 125, 'num_leaves': 443}. Best is trial 0 with value: 0.867413682883998.\u001b[0m\n",
            "/usr/local/lib/python3.7/dist-packages/lightgbm/engine.py:118: UserWarning: Found `num_iterations` in params. Will use it instead of argument\n",
            "  warnings.warn(\"Found `{}` in params. Will use it instead of argument\".format(alias))\n"
          ]
        },
        {
          "output_type": "stream",
          "name": "stdout",
          "text": [
            "Training until validation scores don't improve for 400 rounds.\n",
            "[1000]\tvalid_0's rmse: 0.954142\tvalid_0's l2: 0.910387\n",
            "Did not meet early stopping. Best iteration is:\n",
            "[1000]\tvalid_0's rmse: 0.954142\tvalid_0's l2: 0.910387\n"
          ]
        },
        {
          "output_type": "stream",
          "name": "stderr",
          "text": [
            "\u001b[32m[I 2022-09-27 01:21:43,951]\u001b[0m Trial 17 finished with value: 0.9541422511239429 and parameters: {'max_depth': 34, 'num_leaves': 327}. Best is trial 0 with value: 0.867413682883998.\u001b[0m\n",
            "/usr/local/lib/python3.7/dist-packages/lightgbm/engine.py:118: UserWarning: Found `num_iterations` in params. Will use it instead of argument\n",
            "  warnings.warn(\"Found `{}` in params. Will use it instead of argument\".format(alias))\n"
          ]
        },
        {
          "output_type": "stream",
          "name": "stdout",
          "text": [
            "Training until validation scores don't improve for 400 rounds.\n",
            "[1000]\tvalid_0's rmse: 0.894276\tvalid_0's l2: 0.799729\n",
            "Did not meet early stopping. Best iteration is:\n",
            "[1000]\tvalid_0's rmse: 0.894276\tvalid_0's l2: 0.799729\n"
          ]
        },
        {
          "output_type": "stream",
          "name": "stderr",
          "text": [
            "\u001b[32m[I 2022-09-27 01:22:06,781]\u001b[0m Trial 18 finished with value: 0.8942755729208973 and parameters: {'max_depth': 88, 'num_leaves': 454}. Best is trial 0 with value: 0.867413682883998.\u001b[0m\n",
            "/usr/local/lib/python3.7/dist-packages/lightgbm/engine.py:118: UserWarning: Found `num_iterations` in params. Will use it instead of argument\n",
            "  warnings.warn(\"Found `{}` in params. Will use it instead of argument\".format(alias))\n"
          ]
        },
        {
          "output_type": "stream",
          "name": "stdout",
          "text": [
            "Training until validation scores don't improve for 400 rounds.\n",
            "[1000]\tvalid_0's rmse: 0.917196\tvalid_0's l2: 0.841249\n",
            "Did not meet early stopping. Best iteration is:\n",
            "[1000]\tvalid_0's rmse: 0.917196\tvalid_0's l2: 0.841249\n"
          ]
        },
        {
          "output_type": "stream",
          "name": "stderr",
          "text": [
            "\u001b[32m[I 2022-09-27 01:22:27,768]\u001b[0m Trial 19 finished with value: 0.9171961418909234 and parameters: {'max_depth': 65, 'num_leaves': 403}. Best is trial 0 with value: 0.867413682883998.\u001b[0m\n",
            "/usr/local/lib/python3.7/dist-packages/lightgbm/engine.py:118: UserWarning: Found `num_iterations` in params. Will use it instead of argument\n",
            "  warnings.warn(\"Found `{}` in params. Will use it instead of argument\".format(alias))\n"
          ]
        },
        {
          "output_type": "stream",
          "name": "stdout",
          "text": [
            "Training until validation scores don't improve for 400 rounds.\n",
            "[1000]\tvalid_0's rmse: 0.864269\tvalid_0's l2: 0.746961\n",
            "Did not meet early stopping. Best iteration is:\n",
            "[1000]\tvalid_0's rmse: 0.864269\tvalid_0's l2: 0.746961\n"
          ]
        },
        {
          "output_type": "stream",
          "name": "stderr",
          "text": [
            "\u001b[32m[I 2022-09-27 01:22:52,279]\u001b[0m Trial 20 finished with value: 0.8642693081534666 and parameters: {'max_depth': 39, 'num_leaves': 512}. Best is trial 20 with value: 0.8642693081534666.\u001b[0m\n",
            "/usr/local/lib/python3.7/dist-packages/lightgbm/engine.py:118: UserWarning: Found `num_iterations` in params. Will use it instead of argument\n",
            "  warnings.warn(\"Found `{}` in params. Will use it instead of argument\".format(alias))\n"
          ]
        },
        {
          "output_type": "stream",
          "name": "stdout",
          "text": [
            "Training until validation scores don't improve for 400 rounds.\n",
            "[1000]\tvalid_0's rmse: 0.872112\tvalid_0's l2: 0.760579\n",
            "Did not meet early stopping. Best iteration is:\n",
            "[1000]\tvalid_0's rmse: 0.872112\tvalid_0's l2: 0.760579\n"
          ]
        },
        {
          "output_type": "stream",
          "name": "stderr",
          "text": [
            "\u001b[32m[I 2022-09-27 01:23:20,822]\u001b[0m Trial 21 finished with value: 0.8721117323384571 and parameters: {'max_depth': 30, 'num_leaves': 508}. Best is trial 20 with value: 0.8642693081534666.\u001b[0m\n",
            "/usr/local/lib/python3.7/dist-packages/lightgbm/engine.py:118: UserWarning: Found `num_iterations` in params. Will use it instead of argument\n",
            "  warnings.warn(\"Found `{}` in params. Will use it instead of argument\".format(alias))\n"
          ]
        },
        {
          "output_type": "stream",
          "name": "stdout",
          "text": [
            "Training until validation scores don't improve for 400 rounds.\n",
            "[1000]\tvalid_0's rmse: 0.888179\tvalid_0's l2: 0.788862\n",
            "Did not meet early stopping. Best iteration is:\n",
            "[1000]\tvalid_0's rmse: 0.888179\tvalid_0's l2: 0.788862\n"
          ]
        },
        {
          "output_type": "stream",
          "name": "stderr",
          "text": [
            "\u001b[32m[I 2022-09-27 01:23:43,450]\u001b[0m Trial 22 finished with value: 0.888178781814193 and parameters: {'max_depth': 42, 'num_leaves': 460}. Best is trial 20 with value: 0.8642693081534666.\u001b[0m\n",
            "/usr/local/lib/python3.7/dist-packages/lightgbm/engine.py:118: UserWarning: Found `num_iterations` in params. Will use it instead of argument\n",
            "  warnings.warn(\"Found `{}` in params. Will use it instead of argument\".format(alias))\n"
          ]
        },
        {
          "output_type": "stream",
          "name": "stdout",
          "text": [
            "Training until validation scores don't improve for 400 rounds.\n",
            "[1000]\tvalid_0's rmse: 0.875237\tvalid_0's l2: 0.76604\n",
            "Did not meet early stopping. Best iteration is:\n",
            "[1000]\tvalid_0's rmse: 0.875237\tvalid_0's l2: 0.76604\n"
          ]
        },
        {
          "output_type": "stream",
          "name": "stderr",
          "text": [
            "\u001b[32m[I 2022-09-27 01:24:07,410]\u001b[0m Trial 23 finished with value: 0.8752369080082815 and parameters: {'max_depth': 27, 'num_leaves': 501}. Best is trial 20 with value: 0.8642693081534666.\u001b[0m\n",
            "/usr/local/lib/python3.7/dist-packages/lightgbm/engine.py:118: UserWarning: Found `num_iterations` in params. Will use it instead of argument\n",
            "  warnings.warn(\"Found `{}` in params. Will use it instead of argument\".format(alias))\n"
          ]
        },
        {
          "output_type": "stream",
          "name": "stdout",
          "text": [
            "Training until validation scores don't improve for 400 rounds.\n",
            "[1000]\tvalid_0's rmse: 0.886593\tvalid_0's l2: 0.786048\n",
            "Did not meet early stopping. Best iteration is:\n",
            "[1000]\tvalid_0's rmse: 0.886593\tvalid_0's l2: 0.786048\n"
          ]
        },
        {
          "output_type": "stream",
          "name": "stderr",
          "text": [
            "\u001b[32m[I 2022-09-27 01:24:30,196]\u001b[0m Trial 24 finished with value: 0.8865933641249122 and parameters: {'max_depth': 41, 'num_leaves': 458}. Best is trial 20 with value: 0.8642693081534666.\u001b[0m\n",
            "/usr/local/lib/python3.7/dist-packages/lightgbm/engine.py:118: UserWarning: Found `num_iterations` in params. Will use it instead of argument\n",
            "  warnings.warn(\"Found `{}` in params. Will use it instead of argument\".format(alias))\n"
          ]
        },
        {
          "output_type": "stream",
          "name": "stdout",
          "text": [
            "Training until validation scores don't improve for 400 rounds.\n",
            "[1000]\tvalid_0's rmse: 0.875021\tvalid_0's l2: 0.765662\n",
            "Did not meet early stopping. Best iteration is:\n",
            "[1000]\tvalid_0's rmse: 0.875021\tvalid_0's l2: 0.765662\n"
          ]
        },
        {
          "output_type": "stream",
          "name": "stderr",
          "text": [
            "\u001b[32m[I 2022-09-27 01:24:54,749]\u001b[0m Trial 25 finished with value: 0.8750210700006902 and parameters: {'max_depth': 25, 'num_leaves': 511}. Best is trial 20 with value: 0.8642693081534666.\u001b[0m\n",
            "/usr/local/lib/python3.7/dist-packages/lightgbm/engine.py:118: UserWarning: Found `num_iterations` in params. Will use it instead of argument\n",
            "  warnings.warn(\"Found `{}` in params. Will use it instead of argument\".format(alias))\n"
          ]
        },
        {
          "output_type": "stream",
          "name": "stdout",
          "text": [
            "Training until validation scores don't improve for 400 rounds.\n",
            "[1000]\tvalid_0's rmse: 0.907987\tvalid_0's l2: 0.82444\n",
            "Did not meet early stopping. Best iteration is:\n",
            "[1000]\tvalid_0's rmse: 0.907987\tvalid_0's l2: 0.82444\n"
          ]
        },
        {
          "output_type": "stream",
          "name": "stderr",
          "text": [
            "\u001b[32m[I 2022-09-27 01:25:16,222]\u001b[0m Trial 26 finished with value: 0.9079867371917067 and parameters: {'max_depth': 22, 'num_leaves': 415}. Best is trial 20 with value: 0.8642693081534666.\u001b[0m\n",
            "/usr/local/lib/python3.7/dist-packages/lightgbm/engine.py:118: UserWarning: Found `num_iterations` in params. Will use it instead of argument\n",
            "  warnings.warn(\"Found `{}` in params. Will use it instead of argument\".format(alias))\n"
          ]
        },
        {
          "output_type": "stream",
          "name": "stdout",
          "text": [
            "Training until validation scores don't improve for 400 rounds.\n",
            "[1000]\tvalid_0's rmse: 1.11723\tvalid_0's l2: 1.24821\n",
            "Did not meet early stopping. Best iteration is:\n",
            "[1000]\tvalid_0's rmse: 1.11723\tvalid_0's l2: 1.24821\n"
          ]
        },
        {
          "output_type": "stream",
          "name": "stderr",
          "text": [
            "\u001b[32m[I 2022-09-27 01:25:30,270]\u001b[0m Trial 27 finished with value: 1.1172348412652398 and parameters: {'max_depth': 41, 'num_leaves': 174}. Best is trial 20 with value: 0.8642693081534666.\u001b[0m\n",
            "/usr/local/lib/python3.7/dist-packages/lightgbm/engine.py:118: UserWarning: Found `num_iterations` in params. Will use it instead of argument\n",
            "  warnings.warn(\"Found `{}` in params. Will use it instead of argument\".format(alias))\n"
          ]
        },
        {
          "output_type": "stream",
          "name": "stdout",
          "text": [
            "Training until validation scores don't improve for 400 rounds.\n",
            "[1000]\tvalid_0's rmse: 0.949281\tvalid_0's l2: 0.901135\n",
            "Did not meet early stopping. Best iteration is:\n",
            "[1000]\tvalid_0's rmse: 0.949281\tvalid_0's l2: 0.901135\n"
          ]
        },
        {
          "output_type": "stream",
          "name": "stderr",
          "text": [
            "\u001b[32m[I 2022-09-27 01:25:53,691]\u001b[0m Trial 28 finished with value: 0.9492812337215899 and parameters: {'max_depth': 59, 'num_leaves': 343}. Best is trial 20 with value: 0.8642693081534666.\u001b[0m\n",
            "/usr/local/lib/python3.7/dist-packages/lightgbm/engine.py:118: UserWarning: Found `num_iterations` in params. Will use it instead of argument\n",
            "  warnings.warn(\"Found `{}` in params. Will use it instead of argument\".format(alias))\n"
          ]
        },
        {
          "output_type": "stream",
          "name": "stdout",
          "text": [
            "Training until validation scores don't improve for 400 rounds.\n",
            "[1000]\tvalid_0's rmse: 0.888261\tvalid_0's l2: 0.789007\n",
            "Did not meet early stopping. Best iteration is:\n",
            "[1000]\tvalid_0's rmse: 0.888261\tvalid_0's l2: 0.789007\n"
          ]
        },
        {
          "output_type": "stream",
          "name": "stderr",
          "text": [
            "\u001b[32m[I 2022-09-27 01:26:16,933]\u001b[0m Trial 29 finished with value: 0.8882605805734224 and parameters: {'max_depth': 68, 'num_leaves': 469}. Best is trial 20 with value: 0.8642693081534666.\u001b[0m\n",
            "/usr/local/lib/python3.7/dist-packages/lightgbm/engine.py:118: UserWarning: Found `num_iterations` in params. Will use it instead of argument\n",
            "  warnings.warn(\"Found `{}` in params. Will use it instead of argument\".format(alias))\n"
          ]
        },
        {
          "output_type": "stream",
          "name": "stdout",
          "text": [
            "Training until validation scores don't improve for 400 rounds.\n",
            "[1000]\tvalid_0's rmse: 1.05633\tvalid_0's l2: 1.11583\n",
            "Did not meet early stopping. Best iteration is:\n",
            "[1000]\tvalid_0's rmse: 1.05633\tvalid_0's l2: 1.11583\n"
          ]
        },
        {
          "output_type": "stream",
          "name": "stderr",
          "text": [
            "\u001b[32m[I 2022-09-27 01:26:32,529]\u001b[0m Trial 30 finished with value: 1.0563272058660118 and parameters: {'max_depth': 45, 'num_leaves': 218}. Best is trial 20 with value: 0.8642693081534666.\u001b[0m\n",
            "/usr/local/lib/python3.7/dist-packages/lightgbm/engine.py:118: UserWarning: Found `num_iterations` in params. Will use it instead of argument\n",
            "  warnings.warn(\"Found `{}` in params. Will use it instead of argument\".format(alias))\n"
          ]
        },
        {
          "output_type": "stream",
          "name": "stdout",
          "text": [
            "Training until validation scores don't improve for 400 rounds.\n",
            "[1000]\tvalid_0's rmse: 0.886065\tvalid_0's l2: 0.78511\n",
            "Did not meet early stopping. Best iteration is:\n",
            "[1000]\tvalid_0's rmse: 0.886065\tvalid_0's l2: 0.78511\n"
          ]
        },
        {
          "output_type": "stream",
          "name": "stderr",
          "text": [
            "\u001b[32m[I 2022-09-27 01:26:56,024]\u001b[0m Trial 31 finished with value: 0.8860646015767468 and parameters: {'max_depth': 30, 'num_leaves': 479}. Best is trial 20 with value: 0.8642693081534666.\u001b[0m\n",
            "/usr/local/lib/python3.7/dist-packages/lightgbm/engine.py:118: UserWarning: Found `num_iterations` in params. Will use it instead of argument\n",
            "  warnings.warn(\"Found `{}` in params. Will use it instead of argument\".format(alias))\n"
          ]
        },
        {
          "output_type": "stream",
          "name": "stdout",
          "text": [
            "Training until validation scores don't improve for 400 rounds.\n",
            "[1000]\tvalid_0's rmse: 0.868523\tvalid_0's l2: 0.754333\n",
            "Did not meet early stopping. Best iteration is:\n",
            "[1000]\tvalid_0's rmse: 0.868523\tvalid_0's l2: 0.754333\n"
          ]
        },
        {
          "output_type": "stream",
          "name": "stderr",
          "text": [
            "\u001b[32m[I 2022-09-27 01:27:20,881]\u001b[0m Trial 32 finished with value: 0.8685234014208846 and parameters: {'max_depth': 35, 'num_leaves': 512}. Best is trial 20 with value: 0.8642693081534666.\u001b[0m\n",
            "/usr/local/lib/python3.7/dist-packages/lightgbm/engine.py:118: UserWarning: Found `num_iterations` in params. Will use it instead of argument\n",
            "  warnings.warn(\"Found `{}` in params. Will use it instead of argument\".format(alias))\n"
          ]
        },
        {
          "output_type": "stream",
          "name": "stdout",
          "text": [
            "Training until validation scores don't improve for 400 rounds.\n",
            "[1000]\tvalid_0's rmse: 0.921618\tvalid_0's l2: 0.849379\n",
            "Did not meet early stopping. Best iteration is:\n",
            "[1000]\tvalid_0's rmse: 0.921618\tvalid_0's l2: 0.849379\n"
          ]
        },
        {
          "output_type": "stream",
          "name": "stderr",
          "text": [
            "\u001b[32m[I 2022-09-27 01:27:41,437]\u001b[0m Trial 33 finished with value: 0.9216176522681061 and parameters: {'max_depth': 37, 'num_leaves': 388}. Best is trial 20 with value: 0.8642693081534666.\u001b[0m\n",
            "/usr/local/lib/python3.7/dist-packages/lightgbm/engine.py:118: UserWarning: Found `num_iterations` in params. Will use it instead of argument\n",
            "  warnings.warn(\"Found `{}` in params. Will use it instead of argument\".format(alias))\n"
          ]
        },
        {
          "output_type": "stream",
          "name": "stdout",
          "text": [
            "Training until validation scores don't improve for 400 rounds.\n",
            "[1000]\tvalid_0's rmse: 0.906287\tvalid_0's l2: 0.821355\n",
            "Did not meet early stopping. Best iteration is:\n",
            "[1000]\tvalid_0's rmse: 0.906287\tvalid_0's l2: 0.821355\n"
          ]
        },
        {
          "output_type": "stream",
          "name": "stderr",
          "text": [
            "\u001b[32m[I 2022-09-27 01:28:03,087]\u001b[0m Trial 34 finished with value: 0.9062866447855852 and parameters: {'max_depth': 49, 'num_leaves': 427}. Best is trial 20 with value: 0.8642693081534666.\u001b[0m\n",
            "/usr/local/lib/python3.7/dist-packages/lightgbm/engine.py:118: UserWarning: Found `num_iterations` in params. Will use it instead of argument\n",
            "  warnings.warn(\"Found `{}` in params. Will use it instead of argument\".format(alias))\n"
          ]
        },
        {
          "output_type": "stream",
          "name": "stdout",
          "text": [
            "Training until validation scores don't improve for 400 rounds.\n",
            "[1000]\tvalid_0's rmse: 0.881139\tvalid_0's l2: 0.776405\n",
            "Did not meet early stopping. Best iteration is:\n",
            "[1000]\tvalid_0's rmse: 0.881139\tvalid_0's l2: 0.776405\n"
          ]
        },
        {
          "output_type": "stream",
          "name": "stderr",
          "text": [
            "\u001b[32m[I 2022-09-27 01:28:30,597]\u001b[0m Trial 35 finished with value: 0.8811386507414583 and parameters: {'max_depth': 25, 'num_leaves': 482}. Best is trial 20 with value: 0.8642693081534666.\u001b[0m\n",
            "/usr/local/lib/python3.7/dist-packages/lightgbm/engine.py:118: UserWarning: Found `num_iterations` in params. Will use it instead of argument\n",
            "  warnings.warn(\"Found `{}` in params. Will use it instead of argument\".format(alias))\n"
          ]
        },
        {
          "output_type": "stream",
          "name": "stdout",
          "text": [
            "Training until validation scores don't improve for 400 rounds.\n",
            "[1000]\tvalid_0's rmse: 0.864844\tvalid_0's l2: 0.747956\n",
            "Did not meet early stopping. Best iteration is:\n",
            "[1000]\tvalid_0's rmse: 0.864844\tvalid_0's l2: 0.747956\n"
          ]
        },
        {
          "output_type": "stream",
          "name": "stderr",
          "text": [
            "\u001b[32m[I 2022-09-27 01:28:55,228]\u001b[0m Trial 36 finished with value: 0.8648442731152817 and parameters: {'max_depth': 98, 'num_leaves': 512}. Best is trial 20 with value: 0.8642693081534666.\u001b[0m\n",
            "/usr/local/lib/python3.7/dist-packages/lightgbm/engine.py:118: UserWarning: Found `num_iterations` in params. Will use it instead of argument\n",
            "  warnings.warn(\"Found `{}` in params. Will use it instead of argument\".format(alias))\n"
          ]
        },
        {
          "output_type": "stream",
          "name": "stdout",
          "text": [
            "Training until validation scores don't improve for 400 rounds.\n",
            "[1000]\tvalid_0's rmse: 0.927676\tvalid_0's l2: 0.860584\n",
            "Did not meet early stopping. Best iteration is:\n",
            "[1000]\tvalid_0's rmse: 0.927676\tvalid_0's l2: 0.860584\n"
          ]
        },
        {
          "output_type": "stream",
          "name": "stderr",
          "text": [
            "\u001b[32m[I 2022-09-27 01:29:15,708]\u001b[0m Trial 37 finished with value: 0.9276764816341715 and parameters: {'max_depth': 98, 'num_leaves': 380}. Best is trial 20 with value: 0.8642693081534666.\u001b[0m\n",
            "/usr/local/lib/python3.7/dist-packages/lightgbm/engine.py:118: UserWarning: Found `num_iterations` in params. Will use it instead of argument\n",
            "  warnings.warn(\"Found `{}` in params. Will use it instead of argument\".format(alias))\n"
          ]
        },
        {
          "output_type": "stream",
          "name": "stdout",
          "text": [
            "Training until validation scores don't improve for 400 rounds.\n",
            "[1000]\tvalid_0's rmse: 0.891789\tvalid_0's l2: 0.795288\n",
            "Did not meet early stopping. Best iteration is:\n",
            "[1000]\tvalid_0's rmse: 0.891789\tvalid_0's l2: 0.795288\n"
          ]
        },
        {
          "output_type": "stream",
          "name": "stderr",
          "text": [
            "\u001b[32m[I 2022-09-27 01:29:38,934]\u001b[0m Trial 38 finished with value: 0.8917893550103685 and parameters: {'max_depth': 115, 'num_leaves': 470}. Best is trial 20 with value: 0.8642693081534666.\u001b[0m\n",
            "/usr/local/lib/python3.7/dist-packages/lightgbm/engine.py:118: UserWarning: Found `num_iterations` in params. Will use it instead of argument\n",
            "  warnings.warn(\"Found `{}` in params. Will use it instead of argument\".format(alias))\n"
          ]
        },
        {
          "output_type": "stream",
          "name": "stdout",
          "text": [
            "Training until validation scores don't improve for 400 rounds.\n",
            "[1000]\tvalid_0's rmse: 1.35683\tvalid_0's l2: 1.841\n",
            "Did not meet early stopping. Best iteration is:\n",
            "[1000]\tvalid_0's rmse: 1.35683\tvalid_0's l2: 1.841\n"
          ]
        },
        {
          "output_type": "stream",
          "name": "stderr",
          "text": [
            "\u001b[32m[I 2022-09-27 01:29:49,662]\u001b[0m Trial 39 finished with value: 1.3568329497793028 and parameters: {'max_depth': 78, 'num_leaves': 79}. Best is trial 20 with value: 0.8642693081534666.\u001b[0m\n",
            "/usr/local/lib/python3.7/dist-packages/lightgbm/engine.py:118: UserWarning: Found `num_iterations` in params. Will use it instead of argument\n",
            "  warnings.warn(\"Found `{}` in params. Will use it instead of argument\".format(alias))\n"
          ]
        },
        {
          "output_type": "stream",
          "name": "stdout",
          "text": [
            "Training until validation scores don't improve for 400 rounds.\n",
            "[1000]\tvalid_0's rmse: 0.912665\tvalid_0's l2: 0.832957\n",
            "Did not meet early stopping. Best iteration is:\n",
            "[1000]\tvalid_0's rmse: 0.912665\tvalid_0's l2: 0.832957\n"
          ]
        },
        {
          "output_type": "stream",
          "name": "stderr",
          "text": [
            "\u001b[32m[I 2022-09-27 01:30:10,951]\u001b[0m Trial 40 finished with value: 0.9126650363677711 and parameters: {'max_depth': 96, 'num_leaves': 412}. Best is trial 20 with value: 0.8642693081534666.\u001b[0m\n",
            "/usr/local/lib/python3.7/dist-packages/lightgbm/engine.py:118: UserWarning: Found `num_iterations` in params. Will use it instead of argument\n",
            "  warnings.warn(\"Found `{}` in params. Will use it instead of argument\".format(alias))\n"
          ]
        },
        {
          "output_type": "stream",
          "name": "stdout",
          "text": [
            "Training until validation scores don't improve for 400 rounds.\n",
            "[1000]\tvalid_0's rmse: 0.870208\tvalid_0's l2: 0.757262\n",
            "Did not meet early stopping. Best iteration is:\n",
            "[1000]\tvalid_0's rmse: 0.870208\tvalid_0's l2: 0.757262\n"
          ]
        },
        {
          "output_type": "stream",
          "name": "stderr",
          "text": [
            "\u001b[32m[I 2022-09-27 01:30:35,741]\u001b[0m Trial 41 finished with value: 0.8702080770749365 and parameters: {'max_depth': 86, 'num_leaves': 511}. Best is trial 20 with value: 0.8642693081534666.\u001b[0m\n",
            "/usr/local/lib/python3.7/dist-packages/lightgbm/engine.py:118: UserWarning: Found `num_iterations` in params. Will use it instead of argument\n",
            "  warnings.warn(\"Found `{}` in params. Will use it instead of argument\".format(alias))\n"
          ]
        },
        {
          "output_type": "stream",
          "name": "stdout",
          "text": [
            "Training until validation scores don't improve for 400 rounds.\n",
            "[1000]\tvalid_0's rmse: 0.864844\tvalid_0's l2: 0.747956\n",
            "Did not meet early stopping. Best iteration is:\n",
            "[1000]\tvalid_0's rmse: 0.864844\tvalid_0's l2: 0.747956\n"
          ]
        },
        {
          "output_type": "stream",
          "name": "stderr",
          "text": [
            "\u001b[32m[I 2022-09-27 01:31:04,606]\u001b[0m Trial 42 finished with value: 0.8648442731152817 and parameters: {'max_depth': 87, 'num_leaves': 512}. Best is trial 20 with value: 0.8642693081534666.\u001b[0m\n",
            "/usr/local/lib/python3.7/dist-packages/lightgbm/engine.py:118: UserWarning: Found `num_iterations` in params. Will use it instead of argument\n",
            "  warnings.warn(\"Found `{}` in params. Will use it instead of argument\".format(alias))\n"
          ]
        },
        {
          "output_type": "stream",
          "name": "stdout",
          "text": [
            "Training until validation scores don't improve for 400 rounds.\n",
            "[1000]\tvalid_0's rmse: 0.881146\tvalid_0's l2: 0.776418\n",
            "Did not meet early stopping. Best iteration is:\n",
            "[1000]\tvalid_0's rmse: 0.881146\tvalid_0's l2: 0.776418\n"
          ]
        },
        {
          "output_type": "stream",
          "name": "stderr",
          "text": [
            "\u001b[32m[I 2022-09-27 01:31:28,077]\u001b[0m Trial 43 finished with value: 0.8811456750727218 and parameters: {'max_depth': 103, 'num_leaves': 481}. Best is trial 20 with value: 0.8642693081534666.\u001b[0m\n",
            "/usr/local/lib/python3.7/dist-packages/lightgbm/engine.py:118: UserWarning: Found `num_iterations` in params. Will use it instead of argument\n",
            "  warnings.warn(\"Found `{}` in params. Will use it instead of argument\".format(alias))\n"
          ]
        },
        {
          "output_type": "stream",
          "name": "stdout",
          "text": [
            "Training until validation scores don't improve for 400 rounds.\n",
            "[1000]\tvalid_0's rmse: 0.892454\tvalid_0's l2: 0.796474\n",
            "Did not meet early stopping. Best iteration is:\n",
            "[1000]\tvalid_0's rmse: 0.892454\tvalid_0's l2: 0.796474\n"
          ]
        },
        {
          "output_type": "stream",
          "name": "stderr",
          "text": [
            "\u001b[32m[I 2022-09-27 01:31:50,786]\u001b[0m Trial 44 finished with value: 0.8924541286895157 and parameters: {'max_depth': 92, 'num_leaves': 448}. Best is trial 20 with value: 0.8642693081534666.\u001b[0m\n",
            "/usr/local/lib/python3.7/dist-packages/lightgbm/engine.py:118: UserWarning: Found `num_iterations` in params. Will use it instead of argument\n",
            "  warnings.warn(\"Found `{}` in params. Will use it instead of argument\".format(alias))\n"
          ]
        },
        {
          "output_type": "stream",
          "name": "stdout",
          "text": [
            "Training until validation scores don't improve for 400 rounds.\n",
            "[1000]\tvalid_0's rmse: 0.879327\tvalid_0's l2: 0.773216\n",
            "Did not meet early stopping. Best iteration is:\n",
            "[1000]\tvalid_0's rmse: 0.879327\tvalid_0's l2: 0.773216\n"
          ]
        },
        {
          "output_type": "stream",
          "name": "stderr",
          "text": [
            "\u001b[32m[I 2022-09-27 01:32:14,696]\u001b[0m Trial 45 finished with value: 0.8793272012683915 and parameters: {'max_depth': 110, 'num_leaves': 486}. Best is trial 20 with value: 0.8642693081534666.\u001b[0m\n",
            "/usr/local/lib/python3.7/dist-packages/lightgbm/engine.py:118: UserWarning: Found `num_iterations` in params. Will use it instead of argument\n",
            "  warnings.warn(\"Found `{}` in params. Will use it instead of argument\".format(alias))\n"
          ]
        },
        {
          "output_type": "stream",
          "name": "stdout",
          "text": [
            "Training until validation scores don't improve for 400 rounds.\n",
            "[1000]\tvalid_0's rmse: 0.996811\tvalid_0's l2: 0.993631\n",
            "Did not meet early stopping. Best iteration is:\n",
            "[1000]\tvalid_0's rmse: 0.996811\tvalid_0's l2: 0.993631\n"
          ]
        },
        {
          "output_type": "stream",
          "name": "stderr",
          "text": [
            "\u001b[32m[I 2022-09-27 01:32:32,101]\u001b[0m Trial 46 finished with value: 0.9968106461891251 and parameters: {'max_depth': 55, 'num_leaves': 275}. Best is trial 20 with value: 0.8642693081534666.\u001b[0m\n",
            "/usr/local/lib/python3.7/dist-packages/lightgbm/engine.py:118: UserWarning: Found `num_iterations` in params. Will use it instead of argument\n",
            "  warnings.warn(\"Found `{}` in params. Will use it instead of argument\".format(alias))\n"
          ]
        },
        {
          "output_type": "stream",
          "name": "stdout",
          "text": [
            "Training until validation scores don't improve for 400 rounds.\n",
            "[1000]\tvalid_0's rmse: 0.901085\tvalid_0's l2: 0.811954\n",
            "Did not meet early stopping. Best iteration is:\n",
            "[1000]\tvalid_0's rmse: 0.901085\tvalid_0's l2: 0.811954\n"
          ]
        },
        {
          "output_type": "stream",
          "name": "stderr",
          "text": [
            "\u001b[32m[I 2022-09-27 01:32:54,215]\u001b[0m Trial 47 finished with value: 0.9010846936699732 and parameters: {'max_depth': 82, 'num_leaves': 431}. Best is trial 20 with value: 0.8642693081534666.\u001b[0m\n",
            "/usr/local/lib/python3.7/dist-packages/lightgbm/engine.py:118: UserWarning: Found `num_iterations` in params. Will use it instead of argument\n",
            "  warnings.warn(\"Found `{}` in params. Will use it instead of argument\".format(alias))\n"
          ]
        },
        {
          "output_type": "stream",
          "name": "stdout",
          "text": [
            "Training until validation scores don't improve for 400 rounds.\n",
            "[1000]\tvalid_0's rmse: 0.864844\tvalid_0's l2: 0.747956\n",
            "Did not meet early stopping. Best iteration is:\n",
            "[1000]\tvalid_0's rmse: 0.864844\tvalid_0's l2: 0.747956\n"
          ]
        },
        {
          "output_type": "stream",
          "name": "stderr",
          "text": [
            "\u001b[32m[I 2022-09-27 01:33:19,070]\u001b[0m Trial 48 finished with value: 0.8648442731152817 and parameters: {'max_depth': 106, 'num_leaves': 512}. Best is trial 20 with value: 0.8642693081534666.\u001b[0m\n",
            "/usr/local/lib/python3.7/dist-packages/lightgbm/engine.py:118: UserWarning: Found `num_iterations` in params. Will use it instead of argument\n",
            "  warnings.warn(\"Found `{}` in params. Will use it instead of argument\".format(alias))\n"
          ]
        },
        {
          "output_type": "stream",
          "name": "stdout",
          "text": [
            "Training until validation scores don't improve for 400 rounds.\n",
            "[1000]\tvalid_0's rmse: 0.878241\tvalid_0's l2: 0.771307\n",
            "Did not meet early stopping. Best iteration is:\n",
            "[1000]\tvalid_0's rmse: 0.878241\tvalid_0's l2: 0.771307\n"
          ]
        },
        {
          "output_type": "stream",
          "name": "stderr",
          "text": [
            "\u001b[32m[I 2022-09-27 01:33:46,947]\u001b[0m Trial 49 finished with value: 0.8782406762082802 and parameters: {'max_depth': 113, 'num_leaves': 487}. Best is trial 20 with value: 0.8642693081534666.\u001b[0m\n",
            "/usr/local/lib/python3.7/dist-packages/lightgbm/engine.py:118: UserWarning: Found `num_iterations` in params. Will use it instead of argument\n",
            "  warnings.warn(\"Found `{}` in params. Will use it instead of argument\".format(alias))\n"
          ]
        },
        {
          "output_type": "stream",
          "name": "stdout",
          "text": [
            "Training until validation scores don't improve for 400 rounds.\n",
            "[1000]\tvalid_0's rmse: 0.892087\tvalid_0's l2: 0.795819\n",
            "Did not meet early stopping. Best iteration is:\n",
            "[1000]\tvalid_0's rmse: 0.892087\tvalid_0's l2: 0.795819\n"
          ]
        },
        {
          "output_type": "stream",
          "name": "stderr",
          "text": [
            "\u001b[32m[I 2022-09-27 01:34:09,686]\u001b[0m Trial 50 finished with value: 0.8920867835731747 and parameters: {'max_depth': 105, 'num_leaves': 451}. Best is trial 20 with value: 0.8642693081534666.\u001b[0m\n",
            "/usr/local/lib/python3.7/dist-packages/lightgbm/engine.py:118: UserWarning: Found `num_iterations` in params. Will use it instead of argument\n",
            "  warnings.warn(\"Found `{}` in params. Will use it instead of argument\".format(alias))\n"
          ]
        },
        {
          "output_type": "stream",
          "name": "stdout",
          "text": [
            "Training until validation scores don't improve for 400 rounds.\n",
            "[1000]\tvalid_0's rmse: 0.864844\tvalid_0's l2: 0.747956\n",
            "Did not meet early stopping. Best iteration is:\n",
            "[1000]\tvalid_0's rmse: 0.864844\tvalid_0's l2: 0.747956\n"
          ]
        },
        {
          "output_type": "stream",
          "name": "stderr",
          "text": [
            "\u001b[32m[I 2022-09-27 01:34:34,631]\u001b[0m Trial 51 finished with value: 0.8648442731152817 and parameters: {'max_depth': 123, 'num_leaves': 512}. Best is trial 20 with value: 0.8642693081534666.\u001b[0m\n",
            "/usr/local/lib/python3.7/dist-packages/lightgbm/engine.py:118: UserWarning: Found `num_iterations` in params. Will use it instead of argument\n",
            "  warnings.warn(\"Found `{}` in params. Will use it instead of argument\".format(alias))\n"
          ]
        },
        {
          "output_type": "stream",
          "name": "stdout",
          "text": [
            "Training until validation scores don't improve for 400 rounds.\n",
            "[1000]\tvalid_0's rmse: 0.880183\tvalid_0's l2: 0.774722\n",
            "Did not meet early stopping. Best iteration is:\n",
            "[1000]\tvalid_0's rmse: 0.880183\tvalid_0's l2: 0.774722\n"
          ]
        },
        {
          "output_type": "stream",
          "name": "stderr",
          "text": [
            "\u001b[32m[I 2022-09-27 01:34:58,733]\u001b[0m Trial 52 finished with value: 0.8801830186604988 and parameters: {'max_depth': 119, 'num_leaves': 493}. Best is trial 20 with value: 0.8642693081534666.\u001b[0m\n",
            "/usr/local/lib/python3.7/dist-packages/lightgbm/engine.py:118: UserWarning: Found `num_iterations` in params. Will use it instead of argument\n",
            "  warnings.warn(\"Found `{}` in params. Will use it instead of argument\".format(alias))\n"
          ]
        },
        {
          "output_type": "stream",
          "name": "stdout",
          "text": [
            "Training until validation scores don't improve for 400 rounds.\n",
            "[1000]\tvalid_0's rmse: 0.888261\tvalid_0's l2: 0.789007\n",
            "Did not meet early stopping. Best iteration is:\n",
            "[1000]\tvalid_0's rmse: 0.888261\tvalid_0's l2: 0.789007\n"
          ]
        },
        {
          "output_type": "stream",
          "name": "stderr",
          "text": [
            "\u001b[32m[I 2022-09-27 01:35:22,048]\u001b[0m Trial 53 finished with value: 0.8882605805734224 and parameters: {'max_depth': 124, 'num_leaves': 469}. Best is trial 20 with value: 0.8642693081534666.\u001b[0m\n",
            "/usr/local/lib/python3.7/dist-packages/lightgbm/engine.py:118: UserWarning: Found `num_iterations` in params. Will use it instead of argument\n",
            "  warnings.warn(\"Found `{}` in params. Will use it instead of argument\".format(alias))\n"
          ]
        },
        {
          "output_type": "stream",
          "name": "stdout",
          "text": [
            "Training until validation scores don't improve for 400 rounds.\n",
            "[1000]\tvalid_0's rmse: 0.870411\tvalid_0's l2: 0.757616\n",
            "Did not meet early stopping. Best iteration is:\n",
            "[1000]\tvalid_0's rmse: 0.870411\tvalid_0's l2: 0.757616\n"
          ]
        },
        {
          "output_type": "stream",
          "name": "stderr",
          "text": [
            "\u001b[32m[I 2022-09-27 01:35:46,166]\u001b[0m Trial 54 finished with value: 0.8704113278908111 and parameters: {'max_depth': 72, 'num_leaves': 495}. Best is trial 20 with value: 0.8642693081534666.\u001b[0m\n",
            "/usr/local/lib/python3.7/dist-packages/lightgbm/engine.py:118: UserWarning: Found `num_iterations` in params. Will use it instead of argument\n",
            "  warnings.warn(\"Found `{}` in params. Will use it instead of argument\".format(alias))\n"
          ]
        },
        {
          "output_type": "stream",
          "name": "stdout",
          "text": [
            "Training until validation scores don't improve for 400 rounds.\n",
            "[1000]\tvalid_0's rmse: 0.864844\tvalid_0's l2: 0.747956\n",
            "Did not meet early stopping. Best iteration is:\n",
            "[1000]\tvalid_0's rmse: 0.864844\tvalid_0's l2: 0.747956\n"
          ]
        },
        {
          "output_type": "stream",
          "name": "stderr",
          "text": [
            "\u001b[32m[I 2022-09-27 01:36:14,987]\u001b[0m Trial 55 finished with value: 0.8648442731152817 and parameters: {'max_depth': 108, 'num_leaves': 512}. Best is trial 20 with value: 0.8642693081534666.\u001b[0m\n",
            "/usr/local/lib/python3.7/dist-packages/lightgbm/engine.py:118: UserWarning: Found `num_iterations` in params. Will use it instead of argument\n",
            "  warnings.warn(\"Found `{}` in params. Will use it instead of argument\".format(alias))\n"
          ]
        },
        {
          "output_type": "stream",
          "name": "stdout",
          "text": [
            "Training until validation scores don't improve for 400 rounds.\n",
            "[1000]\tvalid_0's rmse: 0.884599\tvalid_0's l2: 0.782515\n",
            "Did not meet early stopping. Best iteration is:\n",
            "[1000]\tvalid_0's rmse: 0.884599\tvalid_0's l2: 0.782515\n"
          ]
        },
        {
          "output_type": "stream",
          "name": "stderr",
          "text": [
            "\u001b[32m[I 2022-09-27 01:36:38,201]\u001b[0m Trial 56 finished with value: 0.8845986324139046 and parameters: {'max_depth': 108, 'num_leaves': 468}. Best is trial 20 with value: 0.8642693081534666.\u001b[0m\n",
            "/usr/local/lib/python3.7/dist-packages/lightgbm/engine.py:118: UserWarning: Found `num_iterations` in params. Will use it instead of argument\n",
            "  warnings.warn(\"Found `{}` in params. Will use it instead of argument\".format(alias))\n"
          ]
        },
        {
          "output_type": "stream",
          "name": "stdout",
          "text": [
            "Training until validation scores don't improve for 400 rounds.\n",
            "[1000]\tvalid_0's rmse: 0.899143\tvalid_0's l2: 0.808459\n",
            "Did not meet early stopping. Best iteration is:\n",
            "[1000]\tvalid_0's rmse: 0.899143\tvalid_0's l2: 0.808459\n"
          ]
        },
        {
          "output_type": "stream",
          "name": "stderr",
          "text": [
            "\u001b[32m[I 2022-09-27 01:37:00,396]\u001b[0m Trial 57 finished with value: 0.8991433829979457 and parameters: {'max_depth': 128, 'num_leaves': 444}. Best is trial 20 with value: 0.8642693081534666.\u001b[0m\n",
            "/usr/local/lib/python3.7/dist-packages/lightgbm/engine.py:118: UserWarning: Found `num_iterations` in params. Will use it instead of argument\n",
            "  warnings.warn(\"Found `{}` in params. Will use it instead of argument\".format(alias))\n"
          ]
        },
        {
          "output_type": "stream",
          "name": "stdout",
          "text": [
            "Training until validation scores don't improve for 400 rounds.\n",
            "[1000]\tvalid_0's rmse: 0.973312\tvalid_0's l2: 0.947337\n",
            "Did not meet early stopping. Best iteration is:\n",
            "[1000]\tvalid_0's rmse: 0.973312\tvalid_0's l2: 0.947337\n"
          ]
        },
        {
          "output_type": "stream",
          "name": "stderr",
          "text": [
            "\u001b[32m[I 2022-09-27 01:37:18,831]\u001b[0m Trial 58 finished with value: 0.9733124653211371 and parameters: {'max_depth': 118, 'num_leaves': 314}. Best is trial 20 with value: 0.8642693081534666.\u001b[0m\n",
            "/usr/local/lib/python3.7/dist-packages/lightgbm/engine.py:118: UserWarning: Found `num_iterations` in params. Will use it instead of argument\n",
            "  warnings.warn(\"Found `{}` in params. Will use it instead of argument\".format(alias))\n"
          ]
        },
        {
          "output_type": "stream",
          "name": "stdout",
          "text": [
            "Training until validation scores don't improve for 400 rounds.\n",
            "[1000]\tvalid_0's rmse: 0.874233\tvalid_0's l2: 0.764283\n",
            "Did not meet early stopping. Best iteration is:\n",
            "[1000]\tvalid_0's rmse: 0.874233\tvalid_0's l2: 0.764283\n"
          ]
        },
        {
          "output_type": "stream",
          "name": "stderr",
          "text": [
            "\u001b[32m[I 2022-09-27 01:37:42,721]\u001b[0m Trial 59 finished with value: 0.8742325977773453 and parameters: {'max_depth': 93, 'num_leaves': 497}. Best is trial 20 with value: 0.8642693081534666.\u001b[0m\n",
            "/usr/local/lib/python3.7/dist-packages/lightgbm/engine.py:118: UserWarning: Found `num_iterations` in params. Will use it instead of argument\n",
            "  warnings.warn(\"Found `{}` in params. Will use it instead of argument\".format(alias))\n"
          ]
        },
        {
          "output_type": "stream",
          "name": "stdout",
          "text": [
            "Training until validation scores don't improve for 400 rounds.\n",
            "[1000]\tvalid_0's rmse: 0.872472\tvalid_0's l2: 0.761207\n",
            "Did not meet early stopping. Best iteration is:\n",
            "[1000]\tvalid_0's rmse: 0.872472\tvalid_0's l2: 0.761207\n"
          ]
        },
        {
          "output_type": "stream",
          "name": "stderr",
          "text": [
            "\u001b[32m[I 2022-09-27 01:38:06,847]\u001b[0m Trial 60 finished with value: 0.8724719380438609 and parameters: {'max_depth': 100, 'num_leaves': 508}. Best is trial 20 with value: 0.8642693081534666.\u001b[0m\n",
            "/usr/local/lib/python3.7/dist-packages/lightgbm/engine.py:118: UserWarning: Found `num_iterations` in params. Will use it instead of argument\n",
            "  warnings.warn(\"Found `{}` in params. Will use it instead of argument\".format(alias))\n"
          ]
        },
        {
          "output_type": "stream",
          "name": "stdout",
          "text": [
            "Training until validation scores don't improve for 400 rounds.\n",
            "[1000]\tvalid_0's rmse: 0.880183\tvalid_0's l2: 0.774722\n",
            "Did not meet early stopping. Best iteration is:\n",
            "[1000]\tvalid_0's rmse: 0.880183\tvalid_0's l2: 0.774722\n"
          ]
        },
        {
          "output_type": "stream",
          "name": "stderr",
          "text": [
            "\u001b[32m[I 2022-09-27 01:38:31,092]\u001b[0m Trial 61 finished with value: 0.8801830186604988 and parameters: {'max_depth': 105, 'num_leaves': 493}. Best is trial 20 with value: 0.8642693081534666.\u001b[0m\n",
            "/usr/local/lib/python3.7/dist-packages/lightgbm/engine.py:118: UserWarning: Found `num_iterations` in params. Will use it instead of argument\n",
            "  warnings.warn(\"Found `{}` in params. Will use it instead of argument\".format(alias))\n"
          ]
        },
        {
          "output_type": "stream",
          "name": "stdout",
          "text": [
            "Training until validation scores don't improve for 400 rounds.\n",
            "[1000]\tvalid_0's rmse: 0.876255\tvalid_0's l2: 0.767822\n",
            "Did not meet early stopping. Best iteration is:\n",
            "[1000]\tvalid_0's rmse: 0.876255\tvalid_0's l2: 0.767822\n"
          ]
        },
        {
          "output_type": "stream",
          "name": "stderr",
          "text": [
            "\u001b[32m[I 2022-09-27 01:38:58,681]\u001b[0m Trial 62 finished with value: 0.8762547811868163 and parameters: {'max_depth': 89, 'num_leaves': 473}. Best is trial 20 with value: 0.8642693081534666.\u001b[0m\n",
            "/usr/local/lib/python3.7/dist-packages/lightgbm/engine.py:118: UserWarning: Found `num_iterations` in params. Will use it instead of argument\n",
            "  warnings.warn(\"Found `{}` in params. Will use it instead of argument\".format(alias))\n"
          ]
        },
        {
          "output_type": "stream",
          "name": "stdout",
          "text": [
            "Training until validation scores don't improve for 400 rounds.\n",
            "[1000]\tvalid_0's rmse: 0.870208\tvalid_0's l2: 0.757262\n",
            "Did not meet early stopping. Best iteration is:\n",
            "[1000]\tvalid_0's rmse: 0.870208\tvalid_0's l2: 0.757262\n"
          ]
        },
        {
          "output_type": "stream",
          "name": "stderr",
          "text": [
            "\u001b[32m[I 2022-09-27 01:39:23,689]\u001b[0m Trial 63 finished with value: 0.8702080770749365 and parameters: {'max_depth': 121, 'num_leaves': 511}. Best is trial 20 with value: 0.8642693081534666.\u001b[0m\n",
            "/usr/local/lib/python3.7/dist-packages/lightgbm/engine.py:118: UserWarning: Found `num_iterations` in params. Will use it instead of argument\n",
            "  warnings.warn(\"Found `{}` in params. Will use it instead of argument\".format(alias))\n"
          ]
        },
        {
          "output_type": "stream",
          "name": "stdout",
          "text": [
            "Training until validation scores don't improve for 400 rounds.\n",
            "[1000]\tvalid_0's rmse: 0.886312\tvalid_0's l2: 0.785549\n",
            "Did not meet early stopping. Best iteration is:\n",
            "[1000]\tvalid_0's rmse: 0.886312\tvalid_0's l2: 0.785549\n"
          ]
        },
        {
          "output_type": "stream",
          "name": "stderr",
          "text": [
            "\u001b[32m[I 2022-09-27 01:39:46,893]\u001b[0m Trial 64 finished with value: 0.8863120285045177 and parameters: {'max_depth': 111, 'num_leaves': 458}. Best is trial 20 with value: 0.8642693081534666.\u001b[0m\n",
            "/usr/local/lib/python3.7/dist-packages/lightgbm/engine.py:118: UserWarning: Found `num_iterations` in params. Will use it instead of argument\n",
            "  warnings.warn(\"Found `{}` in params. Will use it instead of argument\".format(alias))\n"
          ]
        },
        {
          "output_type": "stream",
          "name": "stdout",
          "text": [
            "Training until validation scores don't improve for 400 rounds.\n",
            "[1000]\tvalid_0's rmse: 0.876608\tvalid_0's l2: 0.768441\n",
            "Did not meet early stopping. Best iteration is:\n",
            "[1000]\tvalid_0's rmse: 0.876608\tvalid_0's l2: 0.768441\n"
          ]
        },
        {
          "output_type": "stream",
          "name": "stderr",
          "text": [
            "\u001b[32m[I 2022-09-27 01:40:10,829]\u001b[0m Trial 65 finished with value: 0.8766077846003317 and parameters: {'max_depth': 83, 'num_leaves': 492}. Best is trial 20 with value: 0.8642693081534666.\u001b[0m\n",
            "/usr/local/lib/python3.7/dist-packages/lightgbm/engine.py:118: UserWarning: Found `num_iterations` in params. Will use it instead of argument\n",
            "  warnings.warn(\"Found `{}` in params. Will use it instead of argument\".format(alias))\n"
          ]
        },
        {
          "output_type": "stream",
          "name": "stdout",
          "text": [
            "Training until validation scores don't improve for 400 rounds.\n",
            "[1000]\tvalid_0's rmse: 0.902966\tvalid_0's l2: 0.815347\n",
            "Did not meet early stopping. Best iteration is:\n",
            "[1000]\tvalid_0's rmse: 0.902966\tvalid_0's l2: 0.815347\n"
          ]
        },
        {
          "output_type": "stream",
          "name": "stderr",
          "text": [
            "\u001b[32m[I 2022-09-27 01:40:33,224]\u001b[0m Trial 66 finished with value: 0.902965655427061 and parameters: {'max_depth': 95, 'num_leaves': 440}. Best is trial 20 with value: 0.8642693081534666.\u001b[0m\n",
            "/usr/local/lib/python3.7/dist-packages/lightgbm/engine.py:118: UserWarning: Found `num_iterations` in params. Will use it instead of argument\n",
            "  warnings.warn(\"Found `{}` in params. Will use it instead of argument\".format(alias))\n"
          ]
        },
        {
          "output_type": "stream",
          "name": "stdout",
          "text": [
            "Training until validation scores don't improve for 400 rounds.\n",
            "[1000]\tvalid_0's rmse: 0.879608\tvalid_0's l2: 0.773709\n",
            "Did not meet early stopping. Best iteration is:\n",
            "[1000]\tvalid_0's rmse: 0.879608\tvalid_0's l2: 0.773709\n"
          ]
        },
        {
          "output_type": "stream",
          "name": "stderr",
          "text": [
            "\u001b[32m[I 2022-09-27 01:40:56,838]\u001b[0m Trial 67 finished with value: 0.8796075281336769 and parameters: {'max_depth': 107, 'num_leaves': 478}. Best is trial 20 with value: 0.8642693081534666.\u001b[0m\n",
            "/usr/local/lib/python3.7/dist-packages/lightgbm/engine.py:118: UserWarning: Found `num_iterations` in params. Will use it instead of argument\n",
            "  warnings.warn(\"Found `{}` in params. Will use it instead of argument\".format(alias))\n"
          ]
        },
        {
          "output_type": "stream",
          "name": "stdout",
          "text": [
            "Training until validation scores don't improve for 400 rounds.\n",
            "[1000]\tvalid_0's rmse: 1.07942\tvalid_0's l2: 1.16515\n",
            "Did not meet early stopping. Best iteration is:\n",
            "[1000]\tvalid_0's rmse: 1.07942\tvalid_0's l2: 1.16515\n"
          ]
        },
        {
          "output_type": "stream",
          "name": "stderr",
          "text": [
            "\u001b[32m[I 2022-09-27 01:41:13,959]\u001b[0m Trial 68 finished with value: 1.0794204491394668 and parameters: {'max_depth': 101, 'num_leaves': 197}. Best is trial 20 with value: 0.8642693081534666.\u001b[0m\n",
            "/usr/local/lib/python3.7/dist-packages/lightgbm/engine.py:118: UserWarning: Found `num_iterations` in params. Will use it instead of argument\n",
            "  warnings.warn(\"Found `{}` in params. Will use it instead of argument\".format(alias))\n"
          ]
        },
        {
          "output_type": "stream",
          "name": "stdout",
          "text": [
            "Training until validation scores don't improve for 400 rounds.\n",
            "[1000]\tvalid_0's rmse: 0.867675\tvalid_0's l2: 0.75286\n",
            "Did not meet early stopping. Best iteration is:\n",
            "[1000]\tvalid_0's rmse: 0.867675\tvalid_0's l2: 0.75286\n"
          ]
        },
        {
          "output_type": "stream",
          "name": "stderr",
          "text": [
            "\u001b[32m[I 2022-09-27 01:41:38,602]\u001b[0m Trial 69 finished with value: 0.8676749449152559 and parameters: {'max_depth': 115, 'num_leaves': 499}. Best is trial 20 with value: 0.8642693081534666.\u001b[0m\n",
            "/usr/local/lib/python3.7/dist-packages/lightgbm/engine.py:118: UserWarning: Found `num_iterations` in params. Will use it instead of argument\n",
            "  warnings.warn(\"Found `{}` in params. Will use it instead of argument\".format(alias))\n"
          ]
        },
        {
          "output_type": "stream",
          "name": "stdout",
          "text": [
            "Training until validation scores don't improve for 400 rounds.\n",
            "[1000]\tvalid_0's rmse: 0.887156\tvalid_0's l2: 0.787047\n",
            "Did not meet early stopping. Best iteration is:\n",
            "[1000]\tvalid_0's rmse: 0.887156\tvalid_0's l2: 0.787047\n"
          ]
        },
        {
          "output_type": "stream",
          "name": "stderr",
          "text": [
            "\u001b[32m[I 2022-09-27 01:42:01,583]\u001b[0m Trial 70 finished with value: 0.8871565000641651 and parameters: {'max_depth': 89, 'num_leaves': 461}. Best is trial 20 with value: 0.8642693081534666.\u001b[0m\n",
            "/usr/local/lib/python3.7/dist-packages/lightgbm/engine.py:118: UserWarning: Found `num_iterations` in params. Will use it instead of argument\n",
            "  warnings.warn(\"Found `{}` in params. Will use it instead of argument\".format(alias))\n"
          ]
        },
        {
          "output_type": "stream",
          "name": "stdout",
          "text": [
            "Training until validation scores don't improve for 400 rounds.\n",
            "[1000]\tvalid_0's rmse: 0.876276\tvalid_0's l2: 0.76786\n",
            "Did not meet early stopping. Best iteration is:\n",
            "[1000]\tvalid_0's rmse: 0.876276\tvalid_0's l2: 0.76786\n"
          ]
        },
        {
          "output_type": "stream",
          "name": "stderr",
          "text": [
            "\u001b[32m[I 2022-09-27 01:42:26,069]\u001b[0m Trial 71 finished with value: 0.8762761865772921 and parameters: {'max_depth': 123, 'num_leaves': 500}. Best is trial 20 with value: 0.8642693081534666.\u001b[0m\n",
            "/usr/local/lib/python3.7/dist-packages/lightgbm/engine.py:118: UserWarning: Found `num_iterations` in params. Will use it instead of argument\n",
            "  warnings.warn(\"Found `{}` in params. Will use it instead of argument\".format(alias))\n"
          ]
        },
        {
          "output_type": "stream",
          "name": "stdout",
          "text": [
            "Training until validation scores don't improve for 400 rounds.\n",
            "[1000]\tvalid_0's rmse: 0.878049\tvalid_0's l2: 0.77097\n",
            "Did not meet early stopping. Best iteration is:\n",
            "[1000]\tvalid_0's rmse: 0.878049\tvalid_0's l2: 0.77097\n"
          ]
        },
        {
          "output_type": "stream",
          "name": "stderr",
          "text": [
            "\u001b[32m[I 2022-09-27 01:42:50,782]\u001b[0m Trial 72 finished with value: 0.8780489399977811 and parameters: {'max_depth': 21, 'num_leaves': 501}. Best is trial 20 with value: 0.8642693081534666.\u001b[0m\n",
            "/usr/local/lib/python3.7/dist-packages/lightgbm/engine.py:118: UserWarning: Found `num_iterations` in params. Will use it instead of argument\n",
            "  warnings.warn(\"Found `{}` in params. Will use it instead of argument\".format(alias))\n"
          ]
        },
        {
          "output_type": "stream",
          "name": "stdout",
          "text": [
            "Training until validation scores don't improve for 400 rounds.\n",
            "[1000]\tvalid_0's rmse: 0.864844\tvalid_0's l2: 0.747956\n",
            "Did not meet early stopping. Best iteration is:\n",
            "[1000]\tvalid_0's rmse: 0.864844\tvalid_0's l2: 0.747956\n"
          ]
        },
        {
          "output_type": "stream",
          "name": "stderr",
          "text": [
            "\u001b[32m[I 2022-09-27 01:43:15,598]\u001b[0m Trial 73 finished with value: 0.8648442731152817 and parameters: {'max_depth': 114, 'num_leaves': 512}. Best is trial 20 with value: 0.8642693081534666.\u001b[0m\n",
            "/usr/local/lib/python3.7/dist-packages/lightgbm/engine.py:118: UserWarning: Found `num_iterations` in params. Will use it instead of argument\n",
            "  warnings.warn(\"Found `{}` in params. Will use it instead of argument\".format(alias))\n"
          ]
        },
        {
          "output_type": "stream",
          "name": "stdout",
          "text": [
            "Training until validation scores don't improve for 400 rounds.\n",
            "[1000]\tvalid_0's rmse: 0.876842\tvalid_0's l2: 0.768852\n",
            "Did not meet early stopping. Best iteration is:\n",
            "[1000]\tvalid_0's rmse: 0.876842\tvalid_0's l2: 0.768852\n"
          ]
        },
        {
          "output_type": "stream",
          "name": "stderr",
          "text": [
            "\u001b[32m[I 2022-09-27 01:43:40,571]\u001b[0m Trial 74 finished with value: 0.8768423417347398 and parameters: {'max_depth': 117, 'num_leaves': 509}. Best is trial 20 with value: 0.8642693081534666.\u001b[0m\n",
            "/usr/local/lib/python3.7/dist-packages/lightgbm/engine.py:118: UserWarning: Found `num_iterations` in params. Will use it instead of argument\n",
            "  warnings.warn(\"Found `{}` in params. Will use it instead of argument\".format(alias))\n"
          ]
        },
        {
          "output_type": "stream",
          "name": "stdout",
          "text": [
            "Training until validation scores don't improve for 400 rounds.\n",
            "[1000]\tvalid_0's rmse: 0.883306\tvalid_0's l2: 0.78023\n",
            "Did not meet early stopping. Best iteration is:\n",
            "[1000]\tvalid_0's rmse: 0.883306\tvalid_0's l2: 0.78023\n"
          ]
        },
        {
          "output_type": "stream",
          "name": "stderr",
          "text": [
            "\u001b[32m[I 2022-09-27 01:44:36,587]\u001b[0m Trial 75 finished with value: 0.8833063656343714 and parameters: {'max_depth': 113, 'num_leaves': 484}. Best is trial 20 with value: 0.8642693081534666.\u001b[0m\n",
            "/usr/local/lib/python3.7/dist-packages/lightgbm/engine.py:118: UserWarning: Found `num_iterations` in params. Will use it instead of argument\n",
            "  warnings.warn(\"Found `{}` in params. Will use it instead of argument\".format(alias))\n"
          ]
        },
        {
          "output_type": "stream",
          "name": "stdout",
          "text": [
            "Training until validation scores don't improve for 400 rounds.\n"
          ]
        },
        {
          "output_type": "stream",
          "name": "stderr",
          "text": [
            "\u001b[33m[W 2022-09-27 01:44:37,641]\u001b[0m Trial 76 failed because of the following error: KeyboardInterrupt()\u001b[0m\n",
            "Traceback (most recent call last):\n",
            "  File \"/usr/local/lib/python3.7/dist-packages/optuna/study/_optimize.py\", line 196, in _run_trial\n",
            "    value_or_values = func(trial)\n",
            "  File \"<ipython-input-23-45732451f09c>\", line 23, in tuner\n",
            "    early_stopping_rounds=400\n",
            "  File \"/usr/local/lib/python3.7/dist-packages/lightgbm/sklearn.py\", line 685, in fit\n",
            "    callbacks=callbacks)\n",
            "  File \"/usr/local/lib/python3.7/dist-packages/lightgbm/sklearn.py\", line 544, in fit\n",
            "    callbacks=callbacks)\n",
            "  File \"/usr/local/lib/python3.7/dist-packages/lightgbm/engine.py\", line 218, in train\n",
            "    booster.update(fobj=fobj)\n",
            "  File \"/usr/local/lib/python3.7/dist-packages/lightgbm/basic.py\", line 1802, in update\n",
            "    ctypes.byref(is_finished)))\n",
            "KeyboardInterrupt\n"
          ]
        },
        {
          "output_type": "error",
          "ename": "KeyboardInterrupt",
          "evalue": "ignored",
          "traceback": [
            "\u001b[0;31m---------------------------------------------------------------------------\u001b[0m",
            "\u001b[0;31mKeyboardInterrupt\u001b[0m                         Traceback (most recent call last)",
            "\u001b[0;32m<ipython-input-23-45732451f09c>\u001b[0m in \u001b[0;36m<module>\u001b[0;34m\u001b[0m\n\u001b[1;32m     28\u001b[0m \u001b[0;34m\u001b[0m\u001b[0m\n\u001b[1;32m     29\u001b[0m \u001b[0mstudy\u001b[0m \u001b[0;34m=\u001b[0m \u001b[0moptuna\u001b[0m\u001b[0;34m.\u001b[0m\u001b[0mcreate_study\u001b[0m\u001b[0;34m(\u001b[0m\u001b[0;34m)\u001b[0m\u001b[0;34m\u001b[0m\u001b[0;34m\u001b[0m\u001b[0m\n\u001b[0;32m---> 30\u001b[0;31m \u001b[0mstudy\u001b[0m\u001b[0;34m.\u001b[0m\u001b[0moptimize\u001b[0m\u001b[0;34m(\u001b[0m\u001b[0mtuner\u001b[0m\u001b[0;34m,\u001b[0m \u001b[0mn_trials\u001b[0m \u001b[0;34m=\u001b[0m \u001b[0;36m120\u001b[0m\u001b[0;34m)\u001b[0m\u001b[0;34m\u001b[0m\u001b[0;34m\u001b[0m\u001b[0m\n\u001b[0m",
            "\u001b[0;32m/usr/local/lib/python3.7/dist-packages/optuna/study/study.py\u001b[0m in \u001b[0;36moptimize\u001b[0;34m(self, func, n_trials, timeout, n_jobs, catch, callbacks, gc_after_trial, show_progress_bar)\u001b[0m\n\u001b[1;32m    426\u001b[0m             \u001b[0mcallbacks\u001b[0m\u001b[0;34m=\u001b[0m\u001b[0mcallbacks\u001b[0m\u001b[0;34m,\u001b[0m\u001b[0;34m\u001b[0m\u001b[0;34m\u001b[0m\u001b[0m\n\u001b[1;32m    427\u001b[0m             \u001b[0mgc_after_trial\u001b[0m\u001b[0;34m=\u001b[0m\u001b[0mgc_after_trial\u001b[0m\u001b[0;34m,\u001b[0m\u001b[0;34m\u001b[0m\u001b[0;34m\u001b[0m\u001b[0m\n\u001b[0;32m--> 428\u001b[0;31m             \u001b[0mshow_progress_bar\u001b[0m\u001b[0;34m=\u001b[0m\u001b[0mshow_progress_bar\u001b[0m\u001b[0;34m,\u001b[0m\u001b[0;34m\u001b[0m\u001b[0;34m\u001b[0m\u001b[0m\n\u001b[0m\u001b[1;32m    429\u001b[0m         )\n\u001b[1;32m    430\u001b[0m \u001b[0;34m\u001b[0m\u001b[0m\n",
            "\u001b[0;32m/usr/local/lib/python3.7/dist-packages/optuna/study/_optimize.py\u001b[0m in \u001b[0;36m_optimize\u001b[0;34m(study, func, n_trials, timeout, n_jobs, catch, callbacks, gc_after_trial, show_progress_bar)\u001b[0m\n\u001b[1;32m     74\u001b[0m                 \u001b[0mreseed_sampler_rng\u001b[0m\u001b[0;34m=\u001b[0m\u001b[0;32mFalse\u001b[0m\u001b[0;34m,\u001b[0m\u001b[0;34m\u001b[0m\u001b[0;34m\u001b[0m\u001b[0m\n\u001b[1;32m     75\u001b[0m                 \u001b[0mtime_start\u001b[0m\u001b[0;34m=\u001b[0m\u001b[0;32mNone\u001b[0m\u001b[0;34m,\u001b[0m\u001b[0;34m\u001b[0m\u001b[0;34m\u001b[0m\u001b[0m\n\u001b[0;32m---> 76\u001b[0;31m                 \u001b[0mprogress_bar\u001b[0m\u001b[0;34m=\u001b[0m\u001b[0mprogress_bar\u001b[0m\u001b[0;34m,\u001b[0m\u001b[0;34m\u001b[0m\u001b[0;34m\u001b[0m\u001b[0m\n\u001b[0m\u001b[1;32m     77\u001b[0m             )\n\u001b[1;32m     78\u001b[0m         \u001b[0;32melse\u001b[0m\u001b[0;34m:\u001b[0m\u001b[0;34m\u001b[0m\u001b[0;34m\u001b[0m\u001b[0m\n",
            "\u001b[0;32m/usr/local/lib/python3.7/dist-packages/optuna/study/_optimize.py\u001b[0m in \u001b[0;36m_optimize_sequential\u001b[0;34m(study, func, n_trials, timeout, catch, callbacks, gc_after_trial, reseed_sampler_rng, time_start, progress_bar)\u001b[0m\n\u001b[1;32m    158\u001b[0m \u001b[0;34m\u001b[0m\u001b[0m\n\u001b[1;32m    159\u001b[0m         \u001b[0;32mtry\u001b[0m\u001b[0;34m:\u001b[0m\u001b[0;34m\u001b[0m\u001b[0;34m\u001b[0m\u001b[0m\n\u001b[0;32m--> 160\u001b[0;31m             \u001b[0mfrozen_trial\u001b[0m \u001b[0;34m=\u001b[0m \u001b[0m_run_trial\u001b[0m\u001b[0;34m(\u001b[0m\u001b[0mstudy\u001b[0m\u001b[0;34m,\u001b[0m \u001b[0mfunc\u001b[0m\u001b[0;34m,\u001b[0m \u001b[0mcatch\u001b[0m\u001b[0;34m)\u001b[0m\u001b[0;34m\u001b[0m\u001b[0;34m\u001b[0m\u001b[0m\n\u001b[0m\u001b[1;32m    161\u001b[0m         \u001b[0;32mfinally\u001b[0m\u001b[0;34m:\u001b[0m\u001b[0;34m\u001b[0m\u001b[0;34m\u001b[0m\u001b[0m\n\u001b[1;32m    162\u001b[0m             \u001b[0;31m# The following line mitigates memory problems that can be occurred in some\u001b[0m\u001b[0;34m\u001b[0m\u001b[0;34m\u001b[0m\u001b[0;34m\u001b[0m\u001b[0m\n",
            "\u001b[0;32m/usr/local/lib/python3.7/dist-packages/optuna/study/_optimize.py\u001b[0m in \u001b[0;36m_run_trial\u001b[0;34m(study, func, catch)\u001b[0m\n\u001b[1;32m    232\u001b[0m         \u001b[0;32mand\u001b[0m \u001b[0;32mnot\u001b[0m \u001b[0misinstance\u001b[0m\u001b[0;34m(\u001b[0m\u001b[0mfunc_err\u001b[0m\u001b[0;34m,\u001b[0m \u001b[0mcatch\u001b[0m\u001b[0;34m)\u001b[0m\u001b[0;34m\u001b[0m\u001b[0;34m\u001b[0m\u001b[0m\n\u001b[1;32m    233\u001b[0m     ):\n\u001b[0;32m--> 234\u001b[0;31m         \u001b[0;32mraise\u001b[0m \u001b[0mfunc_err\u001b[0m\u001b[0;34m\u001b[0m\u001b[0;34m\u001b[0m\u001b[0m\n\u001b[0m\u001b[1;32m    235\u001b[0m     \u001b[0;32mreturn\u001b[0m \u001b[0mfrozen_trial\u001b[0m\u001b[0;34m\u001b[0m\u001b[0;34m\u001b[0m\u001b[0m\n\u001b[1;32m    236\u001b[0m \u001b[0;34m\u001b[0m\u001b[0m\n",
            "\u001b[0;32m/usr/local/lib/python3.7/dist-packages/optuna/study/_optimize.py\u001b[0m in \u001b[0;36m_run_trial\u001b[0;34m(study, func, catch)\u001b[0m\n\u001b[1;32m    194\u001b[0m     \u001b[0;32mwith\u001b[0m \u001b[0mget_heartbeat_thread\u001b[0m\u001b[0;34m(\u001b[0m\u001b[0mtrial\u001b[0m\u001b[0;34m.\u001b[0m\u001b[0m_trial_id\u001b[0m\u001b[0;34m,\u001b[0m \u001b[0mstudy\u001b[0m\u001b[0;34m.\u001b[0m\u001b[0m_storage\u001b[0m\u001b[0;34m)\u001b[0m\u001b[0;34m:\u001b[0m\u001b[0;34m\u001b[0m\u001b[0;34m\u001b[0m\u001b[0m\n\u001b[1;32m    195\u001b[0m         \u001b[0;32mtry\u001b[0m\u001b[0;34m:\u001b[0m\u001b[0;34m\u001b[0m\u001b[0;34m\u001b[0m\u001b[0m\n\u001b[0;32m--> 196\u001b[0;31m             \u001b[0mvalue_or_values\u001b[0m \u001b[0;34m=\u001b[0m \u001b[0mfunc\u001b[0m\u001b[0;34m(\u001b[0m\u001b[0mtrial\u001b[0m\u001b[0;34m)\u001b[0m\u001b[0;34m\u001b[0m\u001b[0;34m\u001b[0m\u001b[0m\n\u001b[0m\u001b[1;32m    197\u001b[0m         \u001b[0;32mexcept\u001b[0m \u001b[0mexceptions\u001b[0m\u001b[0;34m.\u001b[0m\u001b[0mTrialPruned\u001b[0m \u001b[0;32mas\u001b[0m \u001b[0me\u001b[0m\u001b[0;34m:\u001b[0m\u001b[0;34m\u001b[0m\u001b[0;34m\u001b[0m\u001b[0m\n\u001b[1;32m    198\u001b[0m             \u001b[0;31m# TODO(mamu): Handle multi-objective cases.\u001b[0m\u001b[0;34m\u001b[0m\u001b[0;34m\u001b[0m\u001b[0;34m\u001b[0m\u001b[0m\n",
            "\u001b[0;32m<ipython-input-23-45732451f09c>\u001b[0m in \u001b[0;36mtuner\u001b[0;34m(trial)\u001b[0m\n\u001b[1;32m     21\u001b[0m         \u001b[0meval_metric\u001b[0m\u001b[0;34m=\u001b[0m\u001b[0;34m'rmse'\u001b[0m\u001b[0;34m,\u001b[0m\u001b[0;34m\u001b[0m\u001b[0;34m\u001b[0m\u001b[0m\n\u001b[1;32m     22\u001b[0m         \u001b[0mverbose\u001b[0m\u001b[0;34m=\u001b[0m\u001b[0;36m1000\u001b[0m\u001b[0;34m,\u001b[0m\u001b[0;34m\u001b[0m\u001b[0;34m\u001b[0m\u001b[0m\n\u001b[0;32m---> 23\u001b[0;31m         \u001b[0mearly_stopping_rounds\u001b[0m\u001b[0;34m=\u001b[0m\u001b[0;36m400\u001b[0m\u001b[0;34m\u001b[0m\u001b[0;34m\u001b[0m\u001b[0m\n\u001b[0m\u001b[1;32m     24\u001b[0m     )\n\u001b[1;32m     25\u001b[0m     \u001b[0mpreds\u001b[0m \u001b[0;34m=\u001b[0m \u001b[0mmodel\u001b[0m\u001b[0;34m.\u001b[0m\u001b[0mpredict\u001b[0m\u001b[0;34m(\u001b[0m\u001b[0mX_test\u001b[0m\u001b[0;34m)\u001b[0m\u001b[0;34m\u001b[0m\u001b[0;34m\u001b[0m\u001b[0m\n",
            "\u001b[0;32m/usr/local/lib/python3.7/dist-packages/lightgbm/sklearn.py\u001b[0m in \u001b[0;36mfit\u001b[0;34m(self, X, y, sample_weight, init_score, eval_set, eval_names, eval_sample_weight, eval_init_score, eval_metric, early_stopping_rounds, verbose, feature_name, categorical_feature, callbacks)\u001b[0m\n\u001b[1;32m    683\u001b[0m                                        \u001b[0mverbose\u001b[0m\u001b[0;34m=\u001b[0m\u001b[0mverbose\u001b[0m\u001b[0;34m,\u001b[0m \u001b[0mfeature_name\u001b[0m\u001b[0;34m=\u001b[0m\u001b[0mfeature_name\u001b[0m\u001b[0;34m,\u001b[0m\u001b[0;34m\u001b[0m\u001b[0;34m\u001b[0m\u001b[0m\n\u001b[1;32m    684\u001b[0m                                        \u001b[0mcategorical_feature\u001b[0m\u001b[0;34m=\u001b[0m\u001b[0mcategorical_feature\u001b[0m\u001b[0;34m,\u001b[0m\u001b[0;34m\u001b[0m\u001b[0;34m\u001b[0m\u001b[0m\n\u001b[0;32m--> 685\u001b[0;31m                                        callbacks=callbacks)\n\u001b[0m\u001b[1;32m    686\u001b[0m         \u001b[0;32mreturn\u001b[0m \u001b[0mself\u001b[0m\u001b[0;34m\u001b[0m\u001b[0;34m\u001b[0m\u001b[0m\n\u001b[1;32m    687\u001b[0m \u001b[0;34m\u001b[0m\u001b[0m\n",
            "\u001b[0;32m/usr/local/lib/python3.7/dist-packages/lightgbm/sklearn.py\u001b[0m in \u001b[0;36mfit\u001b[0;34m(self, X, y, sample_weight, init_score, group, eval_set, eval_names, eval_sample_weight, eval_class_weight, eval_init_score, eval_group, eval_metric, early_stopping_rounds, verbose, feature_name, categorical_feature, callbacks)\u001b[0m\n\u001b[1;32m    542\u001b[0m                               \u001b[0mverbose_eval\u001b[0m\u001b[0;34m=\u001b[0m\u001b[0mverbose\u001b[0m\u001b[0;34m,\u001b[0m \u001b[0mfeature_name\u001b[0m\u001b[0;34m=\u001b[0m\u001b[0mfeature_name\u001b[0m\u001b[0;34m,\u001b[0m\u001b[0;34m\u001b[0m\u001b[0;34m\u001b[0m\u001b[0m\n\u001b[1;32m    543\u001b[0m                               \u001b[0mcategorical_feature\u001b[0m\u001b[0;34m=\u001b[0m\u001b[0mcategorical_feature\u001b[0m\u001b[0;34m,\u001b[0m\u001b[0;34m\u001b[0m\u001b[0;34m\u001b[0m\u001b[0m\n\u001b[0;32m--> 544\u001b[0;31m                               callbacks=callbacks)\n\u001b[0m\u001b[1;32m    545\u001b[0m \u001b[0;34m\u001b[0m\u001b[0m\n\u001b[1;32m    546\u001b[0m         \u001b[0;32mif\u001b[0m \u001b[0mevals_result\u001b[0m\u001b[0;34m:\u001b[0m\u001b[0;34m\u001b[0m\u001b[0;34m\u001b[0m\u001b[0m\n",
            "\u001b[0;32m/usr/local/lib/python3.7/dist-packages/lightgbm/engine.py\u001b[0m in \u001b[0;36mtrain\u001b[0;34m(params, train_set, num_boost_round, valid_sets, valid_names, fobj, feval, init_model, feature_name, categorical_feature, early_stopping_rounds, evals_result, verbose_eval, learning_rates, keep_training_booster, callbacks)\u001b[0m\n\u001b[1;32m    216\u001b[0m                                     evaluation_result_list=None))\n\u001b[1;32m    217\u001b[0m \u001b[0;34m\u001b[0m\u001b[0m\n\u001b[0;32m--> 218\u001b[0;31m         \u001b[0mbooster\u001b[0m\u001b[0;34m.\u001b[0m\u001b[0mupdate\u001b[0m\u001b[0;34m(\u001b[0m\u001b[0mfobj\u001b[0m\u001b[0;34m=\u001b[0m\u001b[0mfobj\u001b[0m\u001b[0;34m)\u001b[0m\u001b[0;34m\u001b[0m\u001b[0;34m\u001b[0m\u001b[0m\n\u001b[0m\u001b[1;32m    219\u001b[0m \u001b[0;34m\u001b[0m\u001b[0m\n\u001b[1;32m    220\u001b[0m         \u001b[0mevaluation_result_list\u001b[0m \u001b[0;34m=\u001b[0m \u001b[0;34m[\u001b[0m\u001b[0;34m]\u001b[0m\u001b[0;34m\u001b[0m\u001b[0;34m\u001b[0m\u001b[0m\n",
            "\u001b[0;32m/usr/local/lib/python3.7/dist-packages/lightgbm/basic.py\u001b[0m in \u001b[0;36mupdate\u001b[0;34m(self, train_set, fobj)\u001b[0m\n\u001b[1;32m   1800\u001b[0m             _safe_call(_LIB.LGBM_BoosterUpdateOneIter(\n\u001b[1;32m   1801\u001b[0m                 \u001b[0mself\u001b[0m\u001b[0;34m.\u001b[0m\u001b[0mhandle\u001b[0m\u001b[0;34m,\u001b[0m\u001b[0;34m\u001b[0m\u001b[0;34m\u001b[0m\u001b[0m\n\u001b[0;32m-> 1802\u001b[0;31m                 ctypes.byref(is_finished)))\n\u001b[0m\u001b[1;32m   1803\u001b[0m             \u001b[0mself\u001b[0m\u001b[0;34m.\u001b[0m\u001b[0m__is_predicted_cur_iter\u001b[0m \u001b[0;34m=\u001b[0m \u001b[0;34m[\u001b[0m\u001b[0;32mFalse\u001b[0m \u001b[0;32mfor\u001b[0m \u001b[0m_\u001b[0m \u001b[0;32min\u001b[0m \u001b[0mrange_\u001b[0m\u001b[0;34m(\u001b[0m\u001b[0mself\u001b[0m\u001b[0;34m.\u001b[0m\u001b[0m__num_dataset\u001b[0m\u001b[0;34m)\u001b[0m\u001b[0;34m]\u001b[0m\u001b[0;34m\u001b[0m\u001b[0;34m\u001b[0m\u001b[0m\n\u001b[1;32m   1804\u001b[0m             \u001b[0;32mreturn\u001b[0m \u001b[0mis_finished\u001b[0m\u001b[0;34m.\u001b[0m\u001b[0mvalue\u001b[0m \u001b[0;34m==\u001b[0m \u001b[0;36m1\u001b[0m\u001b[0;34m\u001b[0m\u001b[0;34m\u001b[0m\u001b[0m\n",
            "\u001b[0;31mKeyboardInterrupt\u001b[0m: "
          ]
        }
      ]
    },
    {
      "cell_type": "markdown",
      "source": [
        "**Informações dos parâmetros utilizados no melhor resultado do Optuna**"
      ],
      "metadata": {
        "id": "2JjPD7WefuOp"
      }
    },
    {
      "cell_type": "code",
      "source": [
        "study.best_trial"
      ],
      "metadata": {
        "id": "naLar9mdkoQN"
      },
      "execution_count": null,
      "outputs": []
    },
    {
      "cell_type": "markdown",
      "source": [
        "**Informações do erro médio quadrático do melhor resultado do Optuna**"
      ],
      "metadata": {
        "id": "orAPJ5_Ef0A8"
      }
    },
    {
      "cell_type": "code",
      "source": [
        "study.best_value"
      ],
      "metadata": {
        "id": "wN73K1fSkqe3"
      },
      "execution_count": null,
      "outputs": []
    },
    {
      "cell_type": "markdown",
      "source": [
        "**Criação de um dataframe contendo todas as informações dos testes realizados pelo Optuna**"
      ],
      "metadata": {
        "id": "wQnU_Y1lf-Qj"
      }
    },
    {
      "cell_type": "code",
      "source": [
        "studydf = study.trials_dataframe()\n",
        "studydf"
      ],
      "metadata": {
        "id": "ckzXIIkoktJ6"
      },
      "execution_count": null,
      "outputs": []
    },
    {
      "cell_type": "markdown",
      "source": [
        "**Criação de um dataframe contendo todas as informações dos testes com melhores resultados feitos pelo Optuna**"
      ],
      "metadata": {
        "id": "TTzh6qZAgEnb"
      }
    },
    {
      "cell_type": "code",
      "source": [
        "studydf.loc[studydf['value']<=0.88575]"
      ],
      "metadata": {
        "id": "A2BIj7Bekz21"
      },
      "execution_count": null,
      "outputs": []
    }
  ],
  "metadata": {
    "colab": {
      "collapsed_sections": [],
      "provenance": []
    },
    "kernelspec": {
      "display_name": "Python 3",
      "name": "python3"
    },
    "language_info": {
      "name": "python"
    }
  },
  "nbformat": 4,
  "nbformat_minor": 0
}