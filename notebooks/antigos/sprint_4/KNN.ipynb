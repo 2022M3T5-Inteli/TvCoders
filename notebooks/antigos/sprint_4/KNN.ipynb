{
  "cells": [
    {
      "cell_type": "markdown",
      "metadata": {
        "id": "WufUT1OoOeIp"
      },
      "source": [
        "# Modelando o CSV\n",
        "Modificações iniciais no dataset para adequá-lo mais ao modelo.\n"
      ]
    },
    {
      "cell_type": "markdown",
      "metadata": {
        "id": "aYB-3PkSFjeh"
      },
      "source": [
        "\n",
        "**Importação de bibliotecas do Python:**\n",
        "\n",
        "* Drive: Para acessar o Google Drive onde o CSV está localizado\n",
        "* Pandas: Para a manipulação e análise dos dados\n",
        "* Matplotlib: Para a criação de gráficos\n",
        "* Numpy: Para a manipulação de arrays\n",
        "\n",
        "\n"
      ]
    },
    {
      "cell_type": "code",
      "execution_count": null,
      "metadata": {
        "colab": {
          "base_uri": "https://localhost:8080/"
        },
        "id": "BXbyDPxaN1z2",
        "outputId": "232b550e-5ff8-4a2b-d830-530bcee27528"
      },
      "outputs": [
        {
          "name": "stdout",
          "output_type": "stream",
          "text": [
            "Drive already mounted at /content/drive; to attempt to forcibly remount, call drive.mount(\"/content/drive\", force_remount=True).\n"
          ]
        }
      ],
      "source": [
        "import pandas as pd\n",
        "import matplotlib.pyplot as plt\n",
        "import numpy as np\n",
        "\n",
        "from google.colab import drive\n",
        "drive.mount('/content/drive')\n",
        "pd.set_option('display.max_columns', None)"
      ]
    },
    {
      "cell_type": "markdown",
      "metadata": {
        "id": "5uTqTewd_Zt1"
      },
      "source": [
        "**Leitura do CSV**\n",
        "\n",
        "Do Google Drive, pegamos o csv criado para predição e removemos uma coluna não usada."
      ]
    },
    {
      "cell_type": "code",
      "execution_count": null,
      "metadata": {
        "id": "uLtFPfIjOkCN"
      },
      "outputs": [],
      "source": [
        "df_teste = pd.read_csv('drive/MyDrive/Colab Notebooks/df_dados_cliente_totais_novos.csv')\n",
        "del df_teste['Unnamed: 0']"
      ]
    },
    {
      "cell_type": "markdown",
      "metadata": {
        "id": "IGmijXJ_Hd0Z"
      },
      "source": [
        "**Hora e Minuto**\n",
        "\n",
        "Criamos uma coluna contendo a informação de hora e minuto em forma de decimal, uma vez que, o modelo lê melhor a informação de minuto se ela estiver integrada à hora."
      ]
    },
    {
      "cell_type": "code",
      "execution_count": null,
      "metadata": {
        "id": "woonpIBfOvtH"
      },
      "outputs": [],
      "source": [
        "df_teste[\"Hora e Minuto\"] = df_teste['Hora'] + + df_teste[\"Minuto\"]/60"
      ]
    },
    {
      "cell_type": "markdown",
      "metadata": {
        "id": "2LzoX8ZHIMwh"
      },
      "source": [
        "**Remoção das colunas não usadas para previsão**\n",
        "\n",
        "Removemos o programa, já que não podemos usá-lo como feature, e o gênero, hora e minuto, já que eles não tem importância para a predição do KNN e acabam só deixando o dataset mais poluído e mais lentom Mesmo removendo a coluna de Gênero, pegamos a informação de Jornalismo, que provou ser de alta importância para o modelo."
      ]
    },
    {
      "cell_type": "code",
      "execution_count": null,
      "metadata": {
        "id": "zBsrnTPnP058"
      },
      "outputs": [],
      "source": [
        "df_teste.drop(['Programa'], axis=1, inplace=True)\n",
        "df_teste.drop(['Gênero'], axis=1, inplace=True)\n",
        "df_teste.drop(['Hora'], axis=1, inplace=True)\n",
        "df_teste.drop(['Minuto'], axis=1, inplace=True)"
      ]
    },
    {
      "cell_type": "markdown",
      "metadata": {
        "id": "q3KaB3IANLAl"
      },
      "source": [
        "**Label encoding**\n",
        "\n",
        "Aplicamos o label encoding (técnica utilizada para transformar informações categóricas em informações numéricas) na coluna \"Dia da Semana\"\n"
      ]
    },
    {
      "cell_type": "code",
      "execution_count": null,
      "metadata": {
        "id": "72LIEENNrNvY"
      },
      "outputs": [],
      "source": [
        "df_teste['Dia da Semana'].mask(df_teste['Dia da Semana'] == 'Domingo', 1, inplace=True)\n",
        "df_teste['Dia da Semana'].mask(df_teste['Dia da Semana'] == 'Segunda', 2, inplace=True)\n",
        "df_teste['Dia da Semana'].mask(df_teste['Dia da Semana'] == 'Terça', 3, inplace=True)\n",
        "df_teste['Dia da Semana'].mask(df_teste['Dia da Semana'] == 'Quarta', 4, inplace=True)\n",
        "df_teste['Dia da Semana'].mask(df_teste['Dia da Semana'] == 'Quinta', 5, inplace=True)\n",
        "df_teste['Dia da Semana'].mask(df_teste['Dia da Semana'] == 'Sexta', 6, inplace=True)\n",
        "df_teste['Dia da Semana'].mask(df_teste['Dia da Semana'] == 'Sábado', 7, inplace=True)\n",
        "df_teste['Dia da Semana'] = pd.to_numeric(df_teste['Dia da Semana'], errors='coerce')"
      ]
    },
    {
      "cell_type": "code",
      "execution_count": null,
      "metadata": {
        "colab": {
          "base_uri": "https://localhost:8080/",
          "height": 540
        },
        "id": "LDd4d2Rl6Ibc",
        "outputId": "547a0097-e060-4bef-ffef-4a5c5318bb0d"
      },
      "outputs": [
        {
          "data": {
            "text/html": [
              "\n",
              "  <div id=\"df-b9855397-01d7-4b5b-aa39-7e844c35d543\">\n",
              "    <div class=\"colab-df-container\">\n",
              "      <div>\n",
              "<style scoped>\n",
              "    .dataframe tbody tr th:only-of-type {\n",
              "        vertical-align: middle;\n",
              "    }\n",
              "\n",
              "    .dataframe tbody tr th {\n",
              "        vertical-align: top;\n",
              "    }\n",
              "\n",
              "    .dataframe thead th {\n",
              "        text-align: right;\n",
              "    }\n",
              "</style>\n",
              "<table border=\"1\" class=\"dataframe\">\n",
              "  <thead>\n",
              "    <tr style=\"text-align: right;\">\n",
              "      <th></th>\n",
              "      <th>Ano</th>\n",
              "      <th>Mês</th>\n",
              "      <th>Dia</th>\n",
              "      <th>Dia da Semana</th>\n",
              "      <th>Total de Domicílios</th>\n",
              "      <th>Masculino</th>\n",
              "      <th>Feminino</th>\n",
              "      <th>AB</th>\n",
              "      <th>C1</th>\n",
              "      <th>C2</th>\n",
              "      <th>DE</th>\n",
              "      <th>4-11 anos</th>\n",
              "      <th>12-17 anos</th>\n",
              "      <th>18-24 anos</th>\n",
              "      <th>25-34 anos</th>\n",
              "      <th>35-49 anos</th>\n",
              "      <th>50-59 anos</th>\n",
              "      <th>60+ anos</th>\n",
              "      <th>Total de Indivíduos</th>\n",
              "      <th>Masculino FID</th>\n",
              "      <th>Feminino FID</th>\n",
              "      <th>AB FID</th>\n",
              "      <th>C1 FID</th>\n",
              "      <th>C2 FID</th>\n",
              "      <th>DE FID</th>\n",
              "      <th>4-11 anos FID</th>\n",
              "      <th>12-17 anos FID</th>\n",
              "      <th>18-24 anos FID</th>\n",
              "      <th>25-34 anos FID</th>\n",
              "      <th>35-49 anos FID</th>\n",
              "      <th>50-59 anos FID</th>\n",
              "      <th>60+ anos FID</th>\n",
              "      <th>Total de Domicílios SHR</th>\n",
              "      <th>Masculino SHR</th>\n",
              "      <th>Feminino SHR</th>\n",
              "      <th>AB SHR</th>\n",
              "      <th>C1 SHR</th>\n",
              "      <th>C2 SHR</th>\n",
              "      <th>DE SHR</th>\n",
              "      <th>4-11 anos SHR</th>\n",
              "      <th>12-17 anos SHR</th>\n",
              "      <th>18-24 anos SHR</th>\n",
              "      <th>25-34 anos SHR</th>\n",
              "      <th>35-49 anos SHR</th>\n",
              "      <th>50-59 anos SHR</th>\n",
              "      <th>60+ anos SHR</th>\n",
              "      <th>Feriado</th>\n",
              "      <th>Hora e Minuto</th>\n",
              "    </tr>\n",
              "  </thead>\n",
              "  <tbody>\n",
              "    <tr>\n",
              "      <th>0</th>\n",
              "      <td>2015</td>\n",
              "      <td>1</td>\n",
              "      <td>1</td>\n",
              "      <td>5</td>\n",
              "      <td>1.09</td>\n",
              "      <td>0.30</td>\n",
              "      <td>0.40</td>\n",
              "      <td>0.00</td>\n",
              "      <td>1.52</td>\n",
              "      <td>0.00</td>\n",
              "      <td>0.00</td>\n",
              "      <td>0.0</td>\n",
              "      <td>0.00</td>\n",
              "      <td>1.18</td>\n",
              "      <td>0.0</td>\n",
              "      <td>0.00</td>\n",
              "      <td>1.73</td>\n",
              "      <td>0.00</td>\n",
              "      <td>100.00</td>\n",
              "      <td>100.00</td>\n",
              "      <td>100.00</td>\n",
              "      <td>0.00</td>\n",
              "      <td>100.0</td>\n",
              "      <td>0.00</td>\n",
              "      <td>0.0</td>\n",
              "      <td>0.0</td>\n",
              "      <td>0.0</td>\n",
              "      <td>100.0</td>\n",
              "      <td>0.0</td>\n",
              "      <td>0.00</td>\n",
              "      <td>100.0</td>\n",
              "      <td>0.00</td>\n",
              "      <td>34.08</td>\n",
              "      <td>15.37</td>\n",
              "      <td>57.73</td>\n",
              "      <td>0.00</td>\n",
              "      <td>67.40</td>\n",
              "      <td>0.00</td>\n",
              "      <td>0.00</td>\n",
              "      <td>0.0</td>\n",
              "      <td>0.00</td>\n",
              "      <td>100.00</td>\n",
              "      <td>0.0</td>\n",
              "      <td>0.00</td>\n",
              "      <td>100.00</td>\n",
              "      <td>0.00</td>\n",
              "      <td>True</td>\n",
              "      <td>6.000000</td>\n",
              "    </tr>\n",
              "    <tr>\n",
              "      <th>1</th>\n",
              "      <td>2015</td>\n",
              "      <td>1</td>\n",
              "      <td>1</td>\n",
              "      <td>5</td>\n",
              "      <td>1.09</td>\n",
              "      <td>0.30</td>\n",
              "      <td>0.40</td>\n",
              "      <td>0.00</td>\n",
              "      <td>1.52</td>\n",
              "      <td>0.00</td>\n",
              "      <td>0.00</td>\n",
              "      <td>0.0</td>\n",
              "      <td>0.00</td>\n",
              "      <td>1.18</td>\n",
              "      <td>0.0</td>\n",
              "      <td>0.00</td>\n",
              "      <td>1.73</td>\n",
              "      <td>0.00</td>\n",
              "      <td>100.00</td>\n",
              "      <td>100.00</td>\n",
              "      <td>100.00</td>\n",
              "      <td>0.00</td>\n",
              "      <td>100.0</td>\n",
              "      <td>0.00</td>\n",
              "      <td>0.0</td>\n",
              "      <td>0.0</td>\n",
              "      <td>0.0</td>\n",
              "      <td>100.0</td>\n",
              "      <td>0.0</td>\n",
              "      <td>0.00</td>\n",
              "      <td>100.0</td>\n",
              "      <td>0.00</td>\n",
              "      <td>34.08</td>\n",
              "      <td>15.37</td>\n",
              "      <td>57.73</td>\n",
              "      <td>0.00</td>\n",
              "      <td>67.40</td>\n",
              "      <td>0.00</td>\n",
              "      <td>0.00</td>\n",
              "      <td>0.0</td>\n",
              "      <td>0.00</td>\n",
              "      <td>100.00</td>\n",
              "      <td>0.0</td>\n",
              "      <td>0.00</td>\n",
              "      <td>100.00</td>\n",
              "      <td>0.00</td>\n",
              "      <td>True</td>\n",
              "      <td>6.083333</td>\n",
              "    </tr>\n",
              "    <tr>\n",
              "      <th>2</th>\n",
              "      <td>2015</td>\n",
              "      <td>1</td>\n",
              "      <td>1</td>\n",
              "      <td>5</td>\n",
              "      <td>1.09</td>\n",
              "      <td>0.30</td>\n",
              "      <td>0.40</td>\n",
              "      <td>0.00</td>\n",
              "      <td>1.52</td>\n",
              "      <td>0.00</td>\n",
              "      <td>0.00</td>\n",
              "      <td>0.0</td>\n",
              "      <td>0.00</td>\n",
              "      <td>1.18</td>\n",
              "      <td>0.0</td>\n",
              "      <td>0.00</td>\n",
              "      <td>1.73</td>\n",
              "      <td>0.00</td>\n",
              "      <td>100.00</td>\n",
              "      <td>100.00</td>\n",
              "      <td>100.00</td>\n",
              "      <td>0.00</td>\n",
              "      <td>100.0</td>\n",
              "      <td>0.00</td>\n",
              "      <td>0.0</td>\n",
              "      <td>0.0</td>\n",
              "      <td>0.0</td>\n",
              "      <td>100.0</td>\n",
              "      <td>0.0</td>\n",
              "      <td>0.00</td>\n",
              "      <td>100.0</td>\n",
              "      <td>0.00</td>\n",
              "      <td>34.08</td>\n",
              "      <td>15.37</td>\n",
              "      <td>57.73</td>\n",
              "      <td>0.00</td>\n",
              "      <td>67.40</td>\n",
              "      <td>0.00</td>\n",
              "      <td>0.00</td>\n",
              "      <td>0.0</td>\n",
              "      <td>0.00</td>\n",
              "      <td>100.00</td>\n",
              "      <td>0.0</td>\n",
              "      <td>0.00</td>\n",
              "      <td>100.00</td>\n",
              "      <td>0.00</td>\n",
              "      <td>True</td>\n",
              "      <td>6.166667</td>\n",
              "    </tr>\n",
              "    <tr>\n",
              "      <th>3</th>\n",
              "      <td>2015</td>\n",
              "      <td>1</td>\n",
              "      <td>1</td>\n",
              "      <td>5</td>\n",
              "      <td>1.09</td>\n",
              "      <td>0.30</td>\n",
              "      <td>0.40</td>\n",
              "      <td>0.00</td>\n",
              "      <td>1.52</td>\n",
              "      <td>0.00</td>\n",
              "      <td>0.00</td>\n",
              "      <td>0.0</td>\n",
              "      <td>0.00</td>\n",
              "      <td>1.18</td>\n",
              "      <td>0.0</td>\n",
              "      <td>0.00</td>\n",
              "      <td>1.73</td>\n",
              "      <td>0.00</td>\n",
              "      <td>100.00</td>\n",
              "      <td>100.00</td>\n",
              "      <td>100.00</td>\n",
              "      <td>0.00</td>\n",
              "      <td>100.0</td>\n",
              "      <td>0.00</td>\n",
              "      <td>0.0</td>\n",
              "      <td>0.0</td>\n",
              "      <td>0.0</td>\n",
              "      <td>100.0</td>\n",
              "      <td>0.0</td>\n",
              "      <td>0.00</td>\n",
              "      <td>100.0</td>\n",
              "      <td>0.00</td>\n",
              "      <td>34.08</td>\n",
              "      <td>15.37</td>\n",
              "      <td>57.73</td>\n",
              "      <td>0.00</td>\n",
              "      <td>67.40</td>\n",
              "      <td>0.00</td>\n",
              "      <td>0.00</td>\n",
              "      <td>0.0</td>\n",
              "      <td>0.00</td>\n",
              "      <td>100.00</td>\n",
              "      <td>0.0</td>\n",
              "      <td>0.00</td>\n",
              "      <td>100.00</td>\n",
              "      <td>0.00</td>\n",
              "      <td>True</td>\n",
              "      <td>6.250000</td>\n",
              "    </tr>\n",
              "    <tr>\n",
              "      <th>4</th>\n",
              "      <td>2015</td>\n",
              "      <td>1</td>\n",
              "      <td>1</td>\n",
              "      <td>5</td>\n",
              "      <td>1.09</td>\n",
              "      <td>0.30</td>\n",
              "      <td>0.40</td>\n",
              "      <td>0.00</td>\n",
              "      <td>1.52</td>\n",
              "      <td>0.00</td>\n",
              "      <td>0.00</td>\n",
              "      <td>0.0</td>\n",
              "      <td>0.00</td>\n",
              "      <td>1.18</td>\n",
              "      <td>0.0</td>\n",
              "      <td>0.00</td>\n",
              "      <td>1.73</td>\n",
              "      <td>0.00</td>\n",
              "      <td>100.00</td>\n",
              "      <td>100.00</td>\n",
              "      <td>100.00</td>\n",
              "      <td>0.00</td>\n",
              "      <td>100.0</td>\n",
              "      <td>0.00</td>\n",
              "      <td>0.0</td>\n",
              "      <td>0.0</td>\n",
              "      <td>0.0</td>\n",
              "      <td>100.0</td>\n",
              "      <td>0.0</td>\n",
              "      <td>0.00</td>\n",
              "      <td>100.0</td>\n",
              "      <td>0.00</td>\n",
              "      <td>34.08</td>\n",
              "      <td>15.37</td>\n",
              "      <td>57.73</td>\n",
              "      <td>0.00</td>\n",
              "      <td>67.40</td>\n",
              "      <td>0.00</td>\n",
              "      <td>0.00</td>\n",
              "      <td>0.0</td>\n",
              "      <td>0.00</td>\n",
              "      <td>100.00</td>\n",
              "      <td>0.0</td>\n",
              "      <td>0.00</td>\n",
              "      <td>100.00</td>\n",
              "      <td>0.00</td>\n",
              "      <td>True</td>\n",
              "      <td>6.333333</td>\n",
              "    </tr>\n",
              "    <tr>\n",
              "      <th>...</th>\n",
              "      <td>...</td>\n",
              "      <td>...</td>\n",
              "      <td>...</td>\n",
              "      <td>...</td>\n",
              "      <td>...</td>\n",
              "      <td>...</td>\n",
              "      <td>...</td>\n",
              "      <td>...</td>\n",
              "      <td>...</td>\n",
              "      <td>...</td>\n",
              "      <td>...</td>\n",
              "      <td>...</td>\n",
              "      <td>...</td>\n",
              "      <td>...</td>\n",
              "      <td>...</td>\n",
              "      <td>...</td>\n",
              "      <td>...</td>\n",
              "      <td>...</td>\n",
              "      <td>...</td>\n",
              "      <td>...</td>\n",
              "      <td>...</td>\n",
              "      <td>...</td>\n",
              "      <td>...</td>\n",
              "      <td>...</td>\n",
              "      <td>...</td>\n",
              "      <td>...</td>\n",
              "      <td>...</td>\n",
              "      <td>...</td>\n",
              "      <td>...</td>\n",
              "      <td>...</td>\n",
              "      <td>...</td>\n",
              "      <td>...</td>\n",
              "      <td>...</td>\n",
              "      <td>...</td>\n",
              "      <td>...</td>\n",
              "      <td>...</td>\n",
              "      <td>...</td>\n",
              "      <td>...</td>\n",
              "      <td>...</td>\n",
              "      <td>...</td>\n",
              "      <td>...</td>\n",
              "      <td>...</td>\n",
              "      <td>...</td>\n",
              "      <td>...</td>\n",
              "      <td>...</td>\n",
              "      <td>...</td>\n",
              "      <td>...</td>\n",
              "      <td>...</td>\n",
              "    </tr>\n",
              "    <tr>\n",
              "      <th>788539</th>\n",
              "      <td>2022</td>\n",
              "      <td>7</td>\n",
              "      <td>1</td>\n",
              "      <td>6</td>\n",
              "      <td>1.67</td>\n",
              "      <td>0.17</td>\n",
              "      <td>0.92</td>\n",
              "      <td>0.30</td>\n",
              "      <td>0.41</td>\n",
              "      <td>1.03</td>\n",
              "      <td>0.53</td>\n",
              "      <td>0.0</td>\n",
              "      <td>0.96</td>\n",
              "      <td>0.25</td>\n",
              "      <td>0.0</td>\n",
              "      <td>1.41</td>\n",
              "      <td>0.00</td>\n",
              "      <td>0.71</td>\n",
              "      <td>76.00</td>\n",
              "      <td>100.00</td>\n",
              "      <td>72.93</td>\n",
              "      <td>100.00</td>\n",
              "      <td>100.0</td>\n",
              "      <td>70.95</td>\n",
              "      <td>60.0</td>\n",
              "      <td>0.0</td>\n",
              "      <td>100.0</td>\n",
              "      <td>20.0</td>\n",
              "      <td>0.0</td>\n",
              "      <td>100.00</td>\n",
              "      <td>0.0</td>\n",
              "      <td>60.00</td>\n",
              "      <td>24.30</td>\n",
              "      <td>5.70</td>\n",
              "      <td>17.88</td>\n",
              "      <td>12.09</td>\n",
              "      <td>27.88</td>\n",
              "      <td>18.67</td>\n",
              "      <td>6.49</td>\n",
              "      <td>0.0</td>\n",
              "      <td>19.77</td>\n",
              "      <td>21.12</td>\n",
              "      <td>0.0</td>\n",
              "      <td>43.45</td>\n",
              "      <td>0.00</td>\n",
              "      <td>13.73</td>\n",
              "      <td>False</td>\n",
              "      <td>5.583333</td>\n",
              "    </tr>\n",
              "    <tr>\n",
              "      <th>788540</th>\n",
              "      <td>2022</td>\n",
              "      <td>7</td>\n",
              "      <td>1</td>\n",
              "      <td>6</td>\n",
              "      <td>1.97</td>\n",
              "      <td>0.17</td>\n",
              "      <td>1.07</td>\n",
              "      <td>0.30</td>\n",
              "      <td>0.41</td>\n",
              "      <td>1.45</td>\n",
              "      <td>0.35</td>\n",
              "      <td>0.0</td>\n",
              "      <td>0.96</td>\n",
              "      <td>1.25</td>\n",
              "      <td>0.0</td>\n",
              "      <td>1.41</td>\n",
              "      <td>0.00</td>\n",
              "      <td>0.47</td>\n",
              "      <td>86.88</td>\n",
              "      <td>100.00</td>\n",
              "      <td>85.20</td>\n",
              "      <td>100.00</td>\n",
              "      <td>100.0</td>\n",
              "      <td>100.00</td>\n",
              "      <td>40.0</td>\n",
              "      <td>0.0</td>\n",
              "      <td>100.0</td>\n",
              "      <td>100.0</td>\n",
              "      <td>0.0</td>\n",
              "      <td>100.00</td>\n",
              "      <td>0.0</td>\n",
              "      <td>40.00</td>\n",
              "      <td>27.12</td>\n",
              "      <td>5.70</td>\n",
              "      <td>20.04</td>\n",
              "      <td>12.09</td>\n",
              "      <td>27.88</td>\n",
              "      <td>24.45</td>\n",
              "      <td>4.33</td>\n",
              "      <td>0.0</td>\n",
              "      <td>19.77</td>\n",
              "      <td>57.25</td>\n",
              "      <td>0.0</td>\n",
              "      <td>43.45</td>\n",
              "      <td>0.00</td>\n",
              "      <td>9.15</td>\n",
              "      <td>False</td>\n",
              "      <td>5.666667</td>\n",
              "    </tr>\n",
              "    <tr>\n",
              "      <th>788541</th>\n",
              "      <td>2022</td>\n",
              "      <td>7</td>\n",
              "      <td>1</td>\n",
              "      <td>6</td>\n",
              "      <td>2.22</td>\n",
              "      <td>0.17</td>\n",
              "      <td>1.26</td>\n",
              "      <td>0.30</td>\n",
              "      <td>0.41</td>\n",
              "      <td>1.45</td>\n",
              "      <td>0.88</td>\n",
              "      <td>0.0</td>\n",
              "      <td>0.96</td>\n",
              "      <td>1.25</td>\n",
              "      <td>0.0</td>\n",
              "      <td>1.41</td>\n",
              "      <td>0.00</td>\n",
              "      <td>1.18</td>\n",
              "      <td>100.00</td>\n",
              "      <td>100.00</td>\n",
              "      <td>100.00</td>\n",
              "      <td>100.00</td>\n",
              "      <td>100.0</td>\n",
              "      <td>100.00</td>\n",
              "      <td>100.0</td>\n",
              "      <td>0.0</td>\n",
              "      <td>100.0</td>\n",
              "      <td>100.0</td>\n",
              "      <td>0.0</td>\n",
              "      <td>100.00</td>\n",
              "      <td>0.0</td>\n",
              "      <td>100.00</td>\n",
              "      <td>29.25</td>\n",
              "      <td>5.78</td>\n",
              "      <td>21.89</td>\n",
              "      <td>9.77</td>\n",
              "      <td>27.88</td>\n",
              "      <td>24.45</td>\n",
              "      <td>10.97</td>\n",
              "      <td>0.0</td>\n",
              "      <td>19.77</td>\n",
              "      <td>57.25</td>\n",
              "      <td>0.0</td>\n",
              "      <td>34.61</td>\n",
              "      <td>0.00</td>\n",
              "      <td>22.88</td>\n",
              "      <td>False</td>\n",
              "      <td>5.750000</td>\n",
              "    </tr>\n",
              "    <tr>\n",
              "      <th>788542</th>\n",
              "      <td>2022</td>\n",
              "      <td>7</td>\n",
              "      <td>1</td>\n",
              "      <td>6</td>\n",
              "      <td>2.71</td>\n",
              "      <td>0.37</td>\n",
              "      <td>1.42</td>\n",
              "      <td>0.54</td>\n",
              "      <td>0.41</td>\n",
              "      <td>1.81</td>\n",
              "      <td>0.88</td>\n",
              "      <td>0.0</td>\n",
              "      <td>0.96</td>\n",
              "      <td>1.25</td>\n",
              "      <td>0.0</td>\n",
              "      <td>1.74</td>\n",
              "      <td>0.00</td>\n",
              "      <td>1.88</td>\n",
              "      <td>82.97</td>\n",
              "      <td>73.76</td>\n",
              "      <td>85.57</td>\n",
              "      <td>60.25</td>\n",
              "      <td>100.0</td>\n",
              "      <td>88.33</td>\n",
              "      <td>100.0</td>\n",
              "      <td>0.0</td>\n",
              "      <td>100.0</td>\n",
              "      <td>100.0</td>\n",
              "      <td>0.0</td>\n",
              "      <td>77.78</td>\n",
              "      <td>0.0</td>\n",
              "      <td>80.11</td>\n",
              "      <td>32.82</td>\n",
              "      <td>11.08</td>\n",
              "      <td>24.66</td>\n",
              "      <td>16.59</td>\n",
              "      <td>27.88</td>\n",
              "      <td>28.75</td>\n",
              "      <td>10.82</td>\n",
              "      <td>0.0</td>\n",
              "      <td>17.46</td>\n",
              "      <td>57.25</td>\n",
              "      <td>0.0</td>\n",
              "      <td>42.75</td>\n",
              "      <td>0.00</td>\n",
              "      <td>32.10</td>\n",
              "      <td>False</td>\n",
              "      <td>5.833333</td>\n",
              "    </tr>\n",
              "    <tr>\n",
              "      <th>788543</th>\n",
              "      <td>2022</td>\n",
              "      <td>7</td>\n",
              "      <td>1</td>\n",
              "      <td>6</td>\n",
              "      <td>3.60</td>\n",
              "      <td>0.51</td>\n",
              "      <td>1.89</td>\n",
              "      <td>0.90</td>\n",
              "      <td>0.41</td>\n",
              "      <td>2.50</td>\n",
              "      <td>0.88</td>\n",
              "      <td>0.0</td>\n",
              "      <td>0.96</td>\n",
              "      <td>1.25</td>\n",
              "      <td>0.0</td>\n",
              "      <td>2.24</td>\n",
              "      <td>1.06</td>\n",
              "      <td>2.34</td>\n",
              "      <td>97.60</td>\n",
              "      <td>100.00</td>\n",
              "      <td>97.02</td>\n",
              "      <td>100.00</td>\n",
              "      <td>100.0</td>\n",
              "      <td>95.68</td>\n",
              "      <td>100.0</td>\n",
              "      <td>0.0</td>\n",
              "      <td>100.0</td>\n",
              "      <td>100.0</td>\n",
              "      <td>0.0</td>\n",
              "      <td>100.00</td>\n",
              "      <td>80.0</td>\n",
              "      <td>100.00</td>\n",
              "      <td>40.52</td>\n",
              "      <td>14.78</td>\n",
              "      <td>30.94</td>\n",
              "      <td>28.47</td>\n",
              "      <td>27.88</td>\n",
              "      <td>35.79</td>\n",
              "      <td>10.37</td>\n",
              "      <td>0.0</td>\n",
              "      <td>18.94</td>\n",
              "      <td>57.25</td>\n",
              "      <td>0.0</td>\n",
              "      <td>54.96</td>\n",
              "      <td>17.01</td>\n",
              "      <td>34.53</td>\n",
              "      <td>False</td>\n",
              "      <td>5.916667</td>\n",
              "    </tr>\n",
              "  </tbody>\n",
              "</table>\n",
              "<p>788544 rows × 48 columns</p>\n",
              "</div>\n",
              "      <button class=\"colab-df-convert\" onclick=\"convertToInteractive('df-b9855397-01d7-4b5b-aa39-7e844c35d543')\"\n",
              "              title=\"Convert this dataframe to an interactive table.\"\n",
              "              style=\"display:none;\">\n",
              "        \n",
              "  <svg xmlns=\"http://www.w3.org/2000/svg\" height=\"24px\"viewBox=\"0 0 24 24\"\n",
              "       width=\"24px\">\n",
              "    <path d=\"M0 0h24v24H0V0z\" fill=\"none\"/>\n",
              "    <path d=\"M18.56 5.44l.94 2.06.94-2.06 2.06-.94-2.06-.94-.94-2.06-.94 2.06-2.06.94zm-11 1L8.5 8.5l.94-2.06 2.06-.94-2.06-.94L8.5 2.5l-.94 2.06-2.06.94zm10 10l.94 2.06.94-2.06 2.06-.94-2.06-.94-.94-2.06-.94 2.06-2.06.94z\"/><path d=\"M17.41 7.96l-1.37-1.37c-.4-.4-.92-.59-1.43-.59-.52 0-1.04.2-1.43.59L10.3 9.45l-7.72 7.72c-.78.78-.78 2.05 0 2.83L4 21.41c.39.39.9.59 1.41.59.51 0 1.02-.2 1.41-.59l7.78-7.78 2.81-2.81c.8-.78.8-2.07 0-2.86zM5.41 20L4 18.59l7.72-7.72 1.47 1.35L5.41 20z\"/>\n",
              "  </svg>\n",
              "      </button>\n",
              "      \n",
              "  <style>\n",
              "    .colab-df-container {\n",
              "      display:flex;\n",
              "      flex-wrap:wrap;\n",
              "      gap: 12px;\n",
              "    }\n",
              "\n",
              "    .colab-df-convert {\n",
              "      background-color: #E8F0FE;\n",
              "      border: none;\n",
              "      border-radius: 50%;\n",
              "      cursor: pointer;\n",
              "      display: none;\n",
              "      fill: #1967D2;\n",
              "      height: 32px;\n",
              "      padding: 0 0 0 0;\n",
              "      width: 32px;\n",
              "    }\n",
              "\n",
              "    .colab-df-convert:hover {\n",
              "      background-color: #E2EBFA;\n",
              "      box-shadow: 0px 1px 2px rgba(60, 64, 67, 0.3), 0px 1px 3px 1px rgba(60, 64, 67, 0.15);\n",
              "      fill: #174EA6;\n",
              "    }\n",
              "\n",
              "    [theme=dark] .colab-df-convert {\n",
              "      background-color: #3B4455;\n",
              "      fill: #D2E3FC;\n",
              "    }\n",
              "\n",
              "    [theme=dark] .colab-df-convert:hover {\n",
              "      background-color: #434B5C;\n",
              "      box-shadow: 0px 1px 3px 1px rgba(0, 0, 0, 0.15);\n",
              "      filter: drop-shadow(0px 1px 2px rgba(0, 0, 0, 0.3));\n",
              "      fill: #FFFFFF;\n",
              "    }\n",
              "  </style>\n",
              "\n",
              "      <script>\n",
              "        const buttonEl =\n",
              "          document.querySelector('#df-b9855397-01d7-4b5b-aa39-7e844c35d543 button.colab-df-convert');\n",
              "        buttonEl.style.display =\n",
              "          google.colab.kernel.accessAllowed ? 'block' : 'none';\n",
              "\n",
              "        async function convertToInteractive(key) {\n",
              "          const element = document.querySelector('#df-b9855397-01d7-4b5b-aa39-7e844c35d543');\n",
              "          const dataTable =\n",
              "            await google.colab.kernel.invokeFunction('convertToInteractive',\n",
              "                                                     [key], {});\n",
              "          if (!dataTable) return;\n",
              "\n",
              "          const docLinkHtml = 'Like what you see? Visit the ' +\n",
              "            '<a target=\"_blank\" href=https://colab.research.google.com/notebooks/data_table.ipynb>data table notebook</a>'\n",
              "            + ' to learn more about interactive tables.';\n",
              "          element.innerHTML = '';\n",
              "          dataTable['output_type'] = 'display_data';\n",
              "          await google.colab.output.renderOutput(dataTable, element);\n",
              "          const docLink = document.createElement('div');\n",
              "          docLink.innerHTML = docLinkHtml;\n",
              "          element.appendChild(docLink);\n",
              "        }\n",
              "      </script>\n",
              "    </div>\n",
              "  </div>\n",
              "  "
            ],
            "text/plain": [
              "         Ano  Mês  Dia  Dia da Semana  Total de Domicílios  Masculino  \\\n",
              "0       2015    1    1              5                 1.09       0.30   \n",
              "1       2015    1    1              5                 1.09       0.30   \n",
              "2       2015    1    1              5                 1.09       0.30   \n",
              "3       2015    1    1              5                 1.09       0.30   \n",
              "4       2015    1    1              5                 1.09       0.30   \n",
              "...      ...  ...  ...            ...                  ...        ...   \n",
              "788539  2022    7    1              6                 1.67       0.17   \n",
              "788540  2022    7    1              6                 1.97       0.17   \n",
              "788541  2022    7    1              6                 2.22       0.17   \n",
              "788542  2022    7    1              6                 2.71       0.37   \n",
              "788543  2022    7    1              6                 3.60       0.51   \n",
              "\n",
              "        Feminino    AB    C1    C2    DE  4-11 anos  12-17 anos  18-24 anos  \\\n",
              "0           0.40  0.00  1.52  0.00  0.00        0.0        0.00        1.18   \n",
              "1           0.40  0.00  1.52  0.00  0.00        0.0        0.00        1.18   \n",
              "2           0.40  0.00  1.52  0.00  0.00        0.0        0.00        1.18   \n",
              "3           0.40  0.00  1.52  0.00  0.00        0.0        0.00        1.18   \n",
              "4           0.40  0.00  1.52  0.00  0.00        0.0        0.00        1.18   \n",
              "...          ...   ...   ...   ...   ...        ...         ...         ...   \n",
              "788539      0.92  0.30  0.41  1.03  0.53        0.0        0.96        0.25   \n",
              "788540      1.07  0.30  0.41  1.45  0.35        0.0        0.96        1.25   \n",
              "788541      1.26  0.30  0.41  1.45  0.88        0.0        0.96        1.25   \n",
              "788542      1.42  0.54  0.41  1.81  0.88        0.0        0.96        1.25   \n",
              "788543      1.89  0.90  0.41  2.50  0.88        0.0        0.96        1.25   \n",
              "\n",
              "        25-34 anos  35-49 anos  50-59 anos  60+ anos  Total de Indivíduos  \\\n",
              "0              0.0        0.00        1.73      0.00               100.00   \n",
              "1              0.0        0.00        1.73      0.00               100.00   \n",
              "2              0.0        0.00        1.73      0.00               100.00   \n",
              "3              0.0        0.00        1.73      0.00               100.00   \n",
              "4              0.0        0.00        1.73      0.00               100.00   \n",
              "...            ...         ...         ...       ...                  ...   \n",
              "788539         0.0        1.41        0.00      0.71                76.00   \n",
              "788540         0.0        1.41        0.00      0.47                86.88   \n",
              "788541         0.0        1.41        0.00      1.18               100.00   \n",
              "788542         0.0        1.74        0.00      1.88                82.97   \n",
              "788543         0.0        2.24        1.06      2.34                97.60   \n",
              "\n",
              "        Masculino FID  Feminino FID  AB FID  C1 FID  C2 FID  DE FID  \\\n",
              "0              100.00        100.00    0.00   100.0    0.00     0.0   \n",
              "1              100.00        100.00    0.00   100.0    0.00     0.0   \n",
              "2              100.00        100.00    0.00   100.0    0.00     0.0   \n",
              "3              100.00        100.00    0.00   100.0    0.00     0.0   \n",
              "4              100.00        100.00    0.00   100.0    0.00     0.0   \n",
              "...               ...           ...     ...     ...     ...     ...   \n",
              "788539         100.00         72.93  100.00   100.0   70.95    60.0   \n",
              "788540         100.00         85.20  100.00   100.0  100.00    40.0   \n",
              "788541         100.00        100.00  100.00   100.0  100.00   100.0   \n",
              "788542          73.76         85.57   60.25   100.0   88.33   100.0   \n",
              "788543         100.00         97.02  100.00   100.0   95.68   100.0   \n",
              "\n",
              "        4-11 anos FID  12-17 anos FID  18-24 anos FID  25-34 anos FID  \\\n",
              "0                 0.0             0.0           100.0             0.0   \n",
              "1                 0.0             0.0           100.0             0.0   \n",
              "2                 0.0             0.0           100.0             0.0   \n",
              "3                 0.0             0.0           100.0             0.0   \n",
              "4                 0.0             0.0           100.0             0.0   \n",
              "...               ...             ...             ...             ...   \n",
              "788539            0.0           100.0            20.0             0.0   \n",
              "788540            0.0           100.0           100.0             0.0   \n",
              "788541            0.0           100.0           100.0             0.0   \n",
              "788542            0.0           100.0           100.0             0.0   \n",
              "788543            0.0           100.0           100.0             0.0   \n",
              "\n",
              "        35-49 anos FID  50-59 anos FID  60+ anos FID  Total de Domicílios SHR  \\\n",
              "0                 0.00           100.0          0.00                    34.08   \n",
              "1                 0.00           100.0          0.00                    34.08   \n",
              "2                 0.00           100.0          0.00                    34.08   \n",
              "3                 0.00           100.0          0.00                    34.08   \n",
              "4                 0.00           100.0          0.00                    34.08   \n",
              "...                ...             ...           ...                      ...   \n",
              "788539          100.00             0.0         60.00                    24.30   \n",
              "788540          100.00             0.0         40.00                    27.12   \n",
              "788541          100.00             0.0        100.00                    29.25   \n",
              "788542           77.78             0.0         80.11                    32.82   \n",
              "788543          100.00            80.0        100.00                    40.52   \n",
              "\n",
              "        Masculino SHR  Feminino SHR  AB SHR  C1 SHR  C2 SHR  DE SHR  \\\n",
              "0               15.37         57.73    0.00   67.40    0.00    0.00   \n",
              "1               15.37         57.73    0.00   67.40    0.00    0.00   \n",
              "2               15.37         57.73    0.00   67.40    0.00    0.00   \n",
              "3               15.37         57.73    0.00   67.40    0.00    0.00   \n",
              "4               15.37         57.73    0.00   67.40    0.00    0.00   \n",
              "...               ...           ...     ...     ...     ...     ...   \n",
              "788539           5.70         17.88   12.09   27.88   18.67    6.49   \n",
              "788540           5.70         20.04   12.09   27.88   24.45    4.33   \n",
              "788541           5.78         21.89    9.77   27.88   24.45   10.97   \n",
              "788542          11.08         24.66   16.59   27.88   28.75   10.82   \n",
              "788543          14.78         30.94   28.47   27.88   35.79   10.37   \n",
              "\n",
              "        4-11 anos SHR  12-17 anos SHR  18-24 anos SHR  25-34 anos SHR  \\\n",
              "0                 0.0            0.00          100.00             0.0   \n",
              "1                 0.0            0.00          100.00             0.0   \n",
              "2                 0.0            0.00          100.00             0.0   \n",
              "3                 0.0            0.00          100.00             0.0   \n",
              "4                 0.0            0.00          100.00             0.0   \n",
              "...               ...             ...             ...             ...   \n",
              "788539            0.0           19.77           21.12             0.0   \n",
              "788540            0.0           19.77           57.25             0.0   \n",
              "788541            0.0           19.77           57.25             0.0   \n",
              "788542            0.0           17.46           57.25             0.0   \n",
              "788543            0.0           18.94           57.25             0.0   \n",
              "\n",
              "        35-49 anos SHR  50-59 anos SHR  60+ anos SHR  Feriado  Hora e Minuto  \n",
              "0                 0.00          100.00          0.00     True       6.000000  \n",
              "1                 0.00          100.00          0.00     True       6.083333  \n",
              "2                 0.00          100.00          0.00     True       6.166667  \n",
              "3                 0.00          100.00          0.00     True       6.250000  \n",
              "4                 0.00          100.00          0.00     True       6.333333  \n",
              "...                ...             ...           ...      ...            ...  \n",
              "788539           43.45            0.00         13.73    False       5.583333  \n",
              "788540           43.45            0.00          9.15    False       5.666667  \n",
              "788541           34.61            0.00         22.88    False       5.750000  \n",
              "788542           42.75            0.00         32.10    False       5.833333  \n",
              "788543           54.96           17.01         34.53    False       5.916667  \n",
              "\n",
              "[788544 rows x 48 columns]"
            ]
          },
          "execution_count": 32,
          "metadata": {},
          "output_type": "execute_result"
        }
      ],
      "source": [
        "df_teste"
      ]
    },
    {
      "cell_type": "markdown",
      "metadata": {
        "id": "ZssE0_BhOhSO"
      },
      "source": [
        "# Criando o KNN"
      ]
    },
    {
      "cell_type": "markdown",
      "metadata": {
        "id": "tFM01yDzOUYa"
      },
      "source": [
        " **Criação de dataframes para o modelo de totais de domicílios**\n",
        "\n",
        " Criamos uma variável para guardar as informações do CSV modelado acima e criamos uma variável contendo apenas as informações que queremos prever."
      ]
    },
    {
      "cell_type": "code",
      "execution_count": null,
      "metadata": {
        "id": "wMUT5DbtOxzy"
      },
      "outputs": [],
      "source": [
        "df_both = df_teste\n",
        "#y = df_both[['Total de Domicílios','Masculino','Feminino','AB','C1','C2','DE','4-11 anos','12-17 anos','18-24 anos','25-34 anos','35-49 anos','50-59 anos','60+ anos','Total de Indivíduos','Masculino FID','Feminino FID','AB FID','C1 FID','C2 FID','DE FID','4-11 anos FID','12-17 anos FID','18-24 anos FID','25-34 anos FID','35-49 anos FID','50-59 anos FID','60+ anos FID','Total de Domicílios SHR','Masculino SHR','Feminino SHR','AB SHR','C1 SHR','C2 SHR','DE SHR','4-11 anos SHR','12-17 anos SHR','18-24 anos SHR','25-34 anos SHR','35-49 anos SHR','50-59 anos SHR','60+ anos SHR']]\n",
        "#y = df_both[['Total de Domicílios', 'Total de Domicílios SHR', 'Total de Indivíduos']]\n",
        "#y = df_both[['Total de Domicílios','Masculino','Feminino','AB','C1','C2','DE','4-11 anos','12-17 anos','18-24 anos','25-34 anos','35-49 anos','50-59 anos','60+ anos']]\n",
        "y = df_both['Total de Domicílios']"
      ]
    },
    {
      "cell_type": "markdown",
      "metadata": {
        "id": "lT8d-IufIpjf"
      },
      "source": [
        "**Remoção do output desejado**\n",
        "\n",
        "Removemos o output desejado, afinal, se queremos prever ele, não faria sentido usá-lo como feature, e por isso removemos.\n"
      ]
    },
    {
      "cell_type": "code",
      "execution_count": null,
      "metadata": {
        "id": "YwB-R0hfRVYT"
      },
      "outputs": [],
      "source": [
        "df_both.drop(['Total de Domicílios'], axis=1, inplace=True)\n",
        "df_both.drop(['Masculino'], axis=1, inplace=True)\n",
        "df_both.drop(['Feminino'], axis=1, inplace=True)\n",
        "df_both.drop(['AB'], axis=1, inplace=True)\n",
        "df_both.drop(['C1'], axis=1, inplace=True)\n",
        "df_both.drop(['C2'], axis=1, inplace=True)\n",
        "df_both.drop(['DE'], axis=1, inplace=True)\n",
        "df_both.drop(['4-11 anos'], axis=1, inplace=True)\n",
        "df_both.drop(['12-17 anos'], axis=1, inplace=True)\n",
        "df_both.drop(['18-24 anos'], axis=1, inplace=True)\n",
        "df_both.drop(['25-34 anos'], axis=1, inplace=True)\n",
        "df_both.drop(['35-49 anos'], axis=1, inplace=True)\n",
        "df_both.drop(['50-59 anos'], axis=1, inplace=True)\n",
        "df_both.drop(['60+ anos'], axis=1, inplace=True)\n",
        "df_both.drop(['Total de Indivíduos'], axis=1, inplace=True)\n",
        "df_both.drop(['Masculino FID'], axis=1, inplace=True)\n",
        "df_both.drop(['Feminino FID'], axis=1, inplace=True)\n",
        "df_both.drop(['AB FID'], axis=1, inplace=True)\n",
        "df_both.drop(['C1 FID'], axis=1, inplace=True)\n",
        "df_both.drop(['C2 FID'], axis=1, inplace=True)\n",
        "df_both.drop(['DE FID'], axis=1, inplace=True)\n",
        "df_both.drop(['4-11 anos FID'], axis=1, inplace=True)\n",
        "df_both.drop(['12-17 anos FID'], axis=1, inplace=True)\n",
        "df_both.drop(['18-24 anos FID'], axis=1, inplace=True)\n",
        "df_both.drop(['25-34 anos FID'], axis=1, inplace=True)\n",
        "df_both.drop(['35-49 anos FID'], axis=1, inplace=True)\n",
        "df_both.drop(['50-59 anos FID'], axis=1, inplace=True)\n",
        "df_both.drop(['60+ anos FID'], axis=1, inplace=True)\n",
        "df_both.drop(['Total de Domicílios SHR'], axis=1, inplace=True)\n",
        "df_both.drop(['Masculino SHR'], axis=1, inplace=True)\n",
        "df_both.drop(['Feminino SHR'], axis=1, inplace=True)\n",
        "df_both.drop(['AB SHR'], axis=1, inplace=True)\n",
        "df_both.drop(['C1 SHR'], axis=1, inplace=True)\n",
        "df_both.drop(['C2 SHR'], axis=1, inplace=True)\n",
        "df_both.drop(['DE SHR'], axis=1, inplace=True)\n",
        "df_both.drop(['4-11 anos SHR'], axis=1, inplace=True)\n",
        "df_both.drop(['12-17 anos SHR'], axis=1, inplace=True)\n",
        "df_both.drop(['18-24 anos SHR'], axis=1, inplace=True)\n",
        "df_both.drop(['25-34 anos SHR'], axis=1, inplace=True)\n",
        "df_both.drop(['35-49 anos SHR'], axis=1, inplace=True)\n",
        "df_both.drop(['50-59 anos SHR'], axis=1, inplace=True)\n",
        "df_both.drop(['60+ anos SHR'], axis=1, inplace=True)"
      ]
    },
    {
      "cell_type": "markdown",
      "metadata": {
        "id": "-0Y89Nr1KaM5"
      },
      "source": [
        "**Divisão entre dados de treinamento e dados de resultado**\n",
        "\n",
        "Usando a biblioteca \"train_test_split\" dividimos nosso dataset para treino e para teste."
      ]
    },
    {
      "cell_type": "code",
      "execution_count": null,
      "metadata": {
        "id": "xdqyLx_tTev8"
      },
      "outputs": [],
      "source": [
        "from sklearn.model_selection import train_test_split\n",
        "X_train, X_test, y_train, y_test = train_test_split(df_both, y, test_size=0.15, shuffle=True)"
      ]
    },
    {
      "cell_type": "markdown",
      "metadata": {
        "id": "sagGbnjqKh7A"
      },
      "source": [
        "**Aplicando a regressão KNN**\n",
        "\n",
        "Aqui, importamos a biblioteca do KNN, selecionamos a quantidade de vizinhos de K (n_neighbors) e inserimos os datasets de treino no modelo."
      ]
    },
    {
      "cell_type": "code",
      "execution_count": null,
      "metadata": {
        "colab": {
          "base_uri": "https://localhost:8080/"
        },
        "id": "6nWs6mUzuvBa",
        "outputId": "c888ea56-5d79-44f2-815d-167a19df13bb"
      },
      "outputs": [
        {
          "data": {
            "text/plain": [
              "KNeighborsRegressor(n_neighbors=2)"
            ]
          },
          "execution_count": 36,
          "metadata": {},
          "output_type": "execute_result"
        }
      ],
      "source": [
        "from sklearn.neighbors import KNeighborsRegressor\n",
        "clf = KNeighborsRegressor(n_neighbors=2, p=2)\n",
        "clf.fit(X_train, y_train)"
      ]
    },
    {
      "cell_type": "markdown",
      "metadata": {
        "id": "JQv6tXfJGxSm"
      },
      "source": [
        "**Teste**\n",
        "\n",
        "Criamos uma varíavel usando a parte separada para testes no modelo treinado, assim, obtendo uma variável contendo os dados preditos."
      ]
    },
    {
      "cell_type": "code",
      "execution_count": null,
      "metadata": {
        "id": "m7o8GXMFrNvb"
      },
      "outputs": [],
      "source": [
        "test_pred = clf.predict(X_test)"
      ]
    },
    {
      "cell_type": "markdown",
      "metadata": {
        "id": "xVpRoNDjK0jM"
      },
      "source": [
        "**Métricas do teste**\n",
        "\n",
        "Para vermos o quão bem sucedido o modelo foi, comparamos a predição do teste com seu valor real, e checamos:\n",
        "- R quadrado\n",
        "- Erro médio absoluto\n",
        "- Erro médio quadrático\n"
      ]
    },
    {
      "cell_type": "code",
      "execution_count": null,
      "metadata": {
        "colab": {
          "base_uri": "https://localhost:8080/"
        },
        "id": "nXglfSv8rNvc",
        "outputId": "2386e819-c386-42b0-ddf1-c9ae6c9b3ad2"
      },
      "outputs": [
        {
          "name": "stdout",
          "output_type": "stream",
          "text": [
            "0.9914203379733273\n",
            "0.46964639590132057\n",
            "0.5431202530816185\n"
          ]
        }
      ],
      "source": [
        "from sklearn.metrics import mean_absolute_error, mean_squared_error, r2_score\n",
        "print(r2_score(y_test, test_pred)) #R quadrado\n",
        "print(mean_absolute_error(y_test, test_pred)) #erro médio absoluto\n",
        "print(mean_squared_error(y_test, test_pred)) #erro médio quadrático"
      ]
    },
    {
      "cell_type": "markdown",
      "metadata": {
        "id": "vkHscz7JIFZD"
      },
      "source": [
        "**Predição do treino**\n",
        "\n",
        "Para checarmos o sucesso do treino, criamos mais uma variável contendo uma predição simulada dos dados usados para o treinamento do modelo."
      ]
    },
    {
      "cell_type": "code",
      "execution_count": null,
      "metadata": {
        "id": "AmpOk6A1rNvc"
      },
      "outputs": [],
      "source": [
        "train_pred = clf.predict(X_train)"
      ]
    },
    {
      "cell_type": "markdown",
      "metadata": {
        "id": "-D9LozU_O-KL"
      },
      "source": [
        "**Métricas do treinamento**\n",
        "\n",
        "Como feito no teste, comparamos a predição do treino com seu valor respectivo real, e obtemos:\n",
        "- R quadrado\n",
        "- Erro médio absoluto\n",
        "- Erro médio quadrático"
      ]
    },
    {
      "cell_type": "code",
      "execution_count": null,
      "metadata": {
        "colab": {
          "base_uri": "https://localhost:8080/"
        },
        "id": "34-SHWZorNvc",
        "outputId": "02808146-d873-48d3-94b4-065176632548"
      },
      "outputs": [
        {
          "name": "stdout",
          "output_type": "stream",
          "text": [
            "0.9964161511643466\n",
            "0.31198547732080883\n",
            "0.22678102182430152\n"
          ]
        }
      ],
      "source": [
        "from sklearn.metrics import mean_absolute_error, mean_squared_error, r2_score\n",
        "print(r2_score(y_train, train_pred)) #R quadrado\n",
        "print(mean_absolute_error(y_train, train_pred)) #erro médio absoluto\n",
        "print(mean_squared_error(y_train, train_pred)) #erro médio quadrático"
      ]
    },
    {
      "cell_type": "markdown",
      "metadata": {
        "id": "owfNYaLn7nk-"
      },
      "source": [
        "# Gráficos e comparações"
      ]
    },
    {
      "cell_type": "markdown",
      "metadata": {
        "id": "oVBycK8zI87K"
      },
      "source": [
        "**Gráfico de comparação**\n",
        "\n",
        "Para termos uma visualização melhor, criamos um gráfico tendo como eixo X os valores reais, e como eixo Y, os valores preditos pelo modelo, onde, quanto mais próximo o gráfico estiver de uma linha reta, mais bem sucedida foi a predição."
      ]
    },
    {
      "cell_type": "code",
      "execution_count": null,
      "metadata": {
        "colab": {
          "base_uri": "https://localhost:8080/"
        },
        "id": "PnFiSnq1ZjKK",
        "outputId": "418f85af-3839-4b5c-d4a9-c7a73d96d664"
      },
      "outputs": [
        {
          "data": {
            "text/plain": [
              "<matplotlib.collections.PathCollection at 0x7f7d28546d90>"
            ]
          },
          "execution_count": 41,
          "metadata": {},
          "output_type": "execute_result"
        },
        {
          "data": {
            "image/png": "[encoded data removed]",
            "text/plain": [
              "<Figure size 432x288 with 1 Axes>"
            ]
          },
          "metadata": {},
          "output_type": "display_data"
        }
      ],
      "source": [
        "plt.scatter(y_test,test_pred)"
      ]
    },
    {
      "cell_type": "markdown",
      "metadata": {
        "id": "pYhy5r4XKEgH"
      },
      "source": [
        "**Dataframe de comparação**\n",
        "\n",
        "Criamos um novo dataframe contendo apenas as informações da predição e a informação do valor real, assim, conseguimos ver lado a lado os valores."
      ]
    },
    {
      "cell_type": "code",
      "execution_count": null,
      "metadata": {
        "colab": {
          "base_uri": "https://localhost:8080/",
          "height": 424
        },
        "id": "n-c_-ZoXrNvc",
        "outputId": "29020aa4-7f2b-4b80-c632-a83d74e407b4"
      },
      "outputs": [
        {
          "data": {
            "text/html": [
              "\n",
              "  <div id=\"df-39f29837-490e-4f08-9b07-bac8a24e6e75\">\n",
              "    <div class=\"colab-df-container\">\n",
              "      <div>\n",
              "<style scoped>\n",
              "    .dataframe tbody tr th:only-of-type {\n",
              "        vertical-align: middle;\n",
              "    }\n",
              "\n",
              "    .dataframe tbody tr th {\n",
              "        vertical-align: top;\n",
              "    }\n",
              "\n",
              "    .dataframe thead th {\n",
              "        text-align: right;\n",
              "    }\n",
              "</style>\n",
              "<table border=\"1\" class=\"dataframe\">\n",
              "  <thead>\n",
              "    <tr style=\"text-align: right;\">\n",
              "      <th></th>\n",
              "      <th>Valor real</th>\n",
              "      <th>Predição</th>\n",
              "    </tr>\n",
              "  </thead>\n",
              "  <tbody>\n",
              "    <tr>\n",
              "      <th>487271</th>\n",
              "      <td>3.17</td>\n",
              "      <td>3.630</td>\n",
              "    </tr>\n",
              "    <tr>\n",
              "      <th>715498</th>\n",
              "      <td>8.66</td>\n",
              "      <td>8.985</td>\n",
              "    </tr>\n",
              "    <tr>\n",
              "      <th>786780</th>\n",
              "      <td>1.90</td>\n",
              "      <td>1.900</td>\n",
              "    </tr>\n",
              "    <tr>\n",
              "      <th>654735</th>\n",
              "      <td>6.33</td>\n",
              "      <td>6.230</td>\n",
              "    </tr>\n",
              "    <tr>\n",
              "      <th>336949</th>\n",
              "      <td>5.92</td>\n",
              "      <td>5.555</td>\n",
              "    </tr>\n",
              "    <tr>\n",
              "      <th>...</th>\n",
              "      <td>...</td>\n",
              "      <td>...</td>\n",
              "    </tr>\n",
              "    <tr>\n",
              "      <th>290477</th>\n",
              "      <td>10.68</td>\n",
              "      <td>10.570</td>\n",
              "    </tr>\n",
              "    <tr>\n",
              "      <th>289664</th>\n",
              "      <td>26.70</td>\n",
              "      <td>28.515</td>\n",
              "    </tr>\n",
              "    <tr>\n",
              "      <th>642315</th>\n",
              "      <td>13.62</td>\n",
              "      <td>14.130</td>\n",
              "    </tr>\n",
              "    <tr>\n",
              "      <th>282327</th>\n",
              "      <td>19.67</td>\n",
              "      <td>17.630</td>\n",
              "    </tr>\n",
              "    <tr>\n",
              "      <th>685219</th>\n",
              "      <td>5.08</td>\n",
              "      <td>5.160</td>\n",
              "    </tr>\n",
              "  </tbody>\n",
              "</table>\n",
              "<p>118282 rows × 2 columns</p>\n",
              "</div>\n",
              "      <button class=\"colab-df-convert\" onclick=\"convertToInteractive('df-39f29837-490e-4f08-9b07-bac8a24e6e75')\"\n",
              "              title=\"Convert this dataframe to an interactive table.\"\n",
              "              style=\"display:none;\">\n",
              "        \n",
              "  <svg xmlns=\"http://www.w3.org/2000/svg\" height=\"24px\"viewBox=\"0 0 24 24\"\n",
              "       width=\"24px\">\n",
              "    <path d=\"M0 0h24v24H0V0z\" fill=\"none\"/>\n",
              "    <path d=\"M18.56 5.44l.94 2.06.94-2.06 2.06-.94-2.06-.94-.94-2.06-.94 2.06-2.06.94zm-11 1L8.5 8.5l.94-2.06 2.06-.94-2.06-.94L8.5 2.5l-.94 2.06-2.06.94zm10 10l.94 2.06.94-2.06 2.06-.94-2.06-.94-.94-2.06-.94 2.06-2.06.94z\"/><path d=\"M17.41 7.96l-1.37-1.37c-.4-.4-.92-.59-1.43-.59-.52 0-1.04.2-1.43.59L10.3 9.45l-7.72 7.72c-.78.78-.78 2.05 0 2.83L4 21.41c.39.39.9.59 1.41.59.51 0 1.02-.2 1.41-.59l7.78-7.78 2.81-2.81c.8-.78.8-2.07 0-2.86zM5.41 20L4 18.59l7.72-7.72 1.47 1.35L5.41 20z\"/>\n",
              "  </svg>\n",
              "      </button>\n",
              "      \n",
              "  <style>\n",
              "    .colab-df-container {\n",
              "      display:flex;\n",
              "      flex-wrap:wrap;\n",
              "      gap: 12px;\n",
              "    }\n",
              "\n",
              "    .colab-df-convert {\n",
              "      background-color: #E8F0FE;\n",
              "      border: none;\n",
              "      border-radius: 50%;\n",
              "      cursor: pointer;\n",
              "      display: none;\n",
              "      fill: #1967D2;\n",
              "      height: 32px;\n",
              "      padding: 0 0 0 0;\n",
              "      width: 32px;\n",
              "    }\n",
              "\n",
              "    .colab-df-convert:hover {\n",
              "      background-color: #E2EBFA;\n",
              "      box-shadow: 0px 1px 2px rgba(60, 64, 67, 0.3), 0px 1px 3px 1px rgba(60, 64, 67, 0.15);\n",
              "      fill: #174EA6;\n",
              "    }\n",
              "\n",
              "    [theme=dark] .colab-df-convert {\n",
              "      background-color: #3B4455;\n",
              "      fill: #D2E3FC;\n",
              "    }\n",
              "\n",
              "    [theme=dark] .colab-df-convert:hover {\n",
              "      background-color: #434B5C;\n",
              "      box-shadow: 0px 1px 3px 1px rgba(0, 0, 0, 0.15);\n",
              "      filter: drop-shadow(0px 1px 2px rgba(0, 0, 0, 0.3));\n",
              "      fill: #FFFFFF;\n",
              "    }\n",
              "  </style>\n",
              "\n",
              "      <script>\n",
              "        const buttonEl =\n",
              "          document.querySelector('#df-39f29837-490e-4f08-9b07-bac8a24e6e75 button.colab-df-convert');\n",
              "        buttonEl.style.display =\n",
              "          google.colab.kernel.accessAllowed ? 'block' : 'none';\n",
              "\n",
              "        async function convertToInteractive(key) {\n",
              "          const element = document.querySelector('#df-39f29837-490e-4f08-9b07-bac8a24e6e75');\n",
              "          const dataTable =\n",
              "            await google.colab.kernel.invokeFunction('convertToInteractive',\n",
              "                                                     [key], {});\n",
              "          if (!dataTable) return;\n",
              "\n",
              "          const docLinkHtml = 'Like what you see? Visit the ' +\n",
              "            '<a target=\"_blank\" href=https://colab.research.google.com/notebooks/data_table.ipynb>data table notebook</a>'\n",
              "            + ' to learn more about interactive tables.';\n",
              "          element.innerHTML = '';\n",
              "          dataTable['output_type'] = 'display_data';\n",
              "          await google.colab.output.renderOutput(dataTable, element);\n",
              "          const docLink = document.createElement('div');\n",
              "          docLink.innerHTML = docLinkHtml;\n",
              "          element.appendChild(docLink);\n",
              "        }\n",
              "      </script>\n",
              "    </div>\n",
              "  </div>\n",
              "  "
            ],
            "text/plain": [
              "        Valor real  Predição\n",
              "487271        3.17     3.630\n",
              "715498        8.66     8.985\n",
              "786780        1.90     1.900\n",
              "654735        6.33     6.230\n",
              "336949        5.92     5.555\n",
              "...            ...       ...\n",
              "290477       10.68    10.570\n",
              "289664       26.70    28.515\n",
              "642315       13.62    14.130\n",
              "282327       19.67    17.630\n",
              "685219        5.08     5.160\n",
              "\n",
              "[118282 rows x 2 columns]"
            ]
          },
          "execution_count": 42,
          "metadata": {},
          "output_type": "execute_result"
        }
      ],
      "source": [
        "results = {'Valor real': y_test, 'Predição': test_pred}\n",
        "df_results = pd.DataFrame(data=results)\n",
        "df_results"
      ]
    },
    {
      "cell_type": "markdown",
      "metadata": {
        "id": "BMqq09BKfEpP"
      },
      "source": [
        "**Função de criação de gráficos de comparação**"
      ]
    },
    {
      "cell_type": "code",
      "execution_count": null,
      "metadata": {
        "id": "B8Ib6tuc8CM9"
      },
      "outputs": [],
      "source": [
        "def grafico_metricas(valores_x, valores_y, tipo_dado, nome_modelo):\n",
        "\n",
        "    import matplotlib.pyplot as plt\n",
        "    import numpy as np\n",
        "    from scipy.stats import linregress\n",
        "\n",
        "    fig, (ax1, ax2) = plt.subplots(1, 2, figsize=(25, 10))\n",
        "\n",
        "    ax1.set_title(\"Relação linear entre as séries de dados reais e preditos \\n para o conjunto de \" + tipo_dado + \\\n",
        "                  \" do modelo \" + nome_modelo, fontsize=20, weight='bold')\n",
        "    ax1.set_xlabel(\"Série de audiências reais para \" + tipo_dado, fontsize=20)\n",
        "    ax1.set_ylabel(\"Série de audiências preditas para\" + tipo_dado, fontsize=20)\n",
        "    ax1.tick_params(axis='x', labelsize=20)\n",
        "    ax1.tick_params(axis='y', labelsize=20)\n",
        "\n",
        "    slope, intercept, r_value, p_value, std_err = linregress(valores_x, valores_y)\n",
        "    xaxis_regression = np.linspace(min(valores_x), max(valores_x), num=100)\n",
        "\n",
        "    equation = (\"y = \" + \"{:.5f}\".format(slope) + \"x\" + \" + (\" + \"{:.5f}\".format(intercept) + \")\")\n",
        "\n",
        "    ax1.scatter(valores_x, valores_y, lw=3, color = \"#2D243F\", label = \"timestamps\")\n",
        "    ax1.plot(xaxis_regression, intercept + slope * xaxis_regression, ls = \"--\", color=\"#E44B4A\", lw=4, label = equation)\n",
        "\n",
        "    ax1.annotate(\"r²=\" + \"{:.2f}\".format(r_value**2), xy=(0.1, 0.79), xycoords='axes fraction', fontsize=20)\n",
        "    ax1.annotate(\"ρ=\" + \"{:.2f}\".format(p_value), xy=(0.1, 0.84), xycoords='axes fraction', fontsize=20)\n",
        "    ax1.grid()\n",
        "    ax1.legend(prop={\"size\": 15})\n",
        "\n",
        "    difference_results = valores_x - valores_y\n",
        "    \n",
        "    ax2.set_title(\"Distribuição das diferenças entre séries reais e preditas \\n para o conjunto de \" + tipo_dado + \\\n",
        "              \" do modelo \" + nome_modelo, fontsize=20, weight='bold')\n",
        "    \n",
        "    ax2.set_xlabel(\"Diferença entre audiências reais e preditas (\" + tipo_dado + \") \", fontsize=20)\n",
        "    ax2.set_ylabel(\"Distribuição das diferenças\", fontsize=20)\n",
        "    ax2.tick_params(axis='x', labelsize=20)\n",
        "    ax2.tick_params(axis='y', labelsize=20)\n",
        "\n",
        "    difference_results_std = difference_results.std()\n",
        "    difference_results_stde_mean = difference_results.sem()\n",
        "    difference_results_var = difference_results.var()\n",
        "\n",
        "    box_differences = ax2.boxplot(difference_results, medianprops=dict(color=\"#2D243F\", linewidth=5), patch_artist = True)\n",
        "    box_differences[\"boxes\"][0].set_facecolor(\"#E44B4A\")\n",
        "    ax2.annotate(\"std σ=\" + \"{:.2f}\".format(difference_results_std), xy=(0.7, 0.8), xycoords='axes fraction', fontsize=20)\n",
        "    ax2.annotate(\"SE=\" + \"{:.2f}\".format(difference_results_stde_mean), xy=(0.7, 0.75), xycoords='axes fraction', fontsize=20)\n",
        "    ax2.annotate(\"var σ²=\" + \"{:.2f}\".format(difference_results_var), xy=(0.7, 0.70), xycoords='axes fraction', fontsize=20)\n",
        "    ax2.grid()\n",
        "\n",
        "    plt.show()\n",
        "\n",
        "    return \"{:.2f}\".format(r_value**2), p_value, difference_results_std, difference_results_stde_mean, difference_results_var"
      ]
    },
    {
      "cell_type": "code",
      "execution_count": null,
      "metadata": {
        "colab": {
          "base_uri": "https://localhost:8080/"
        },
        "id": "s5bUaBnr_SoQ",
        "outputId": "59178d49-09c4-4676-c99d-936dccd2e78c"
      },
      "outputs": [
        {
          "data": {
            "image/png": "[encoded data removed]",
            "text/plain": [
              "<Figure size 1800x720 with 2 Axes>"
            ]
          },
          "metadata": {},
          "output_type": "display_data"
        }
      ],
      "source": [
        "a, b, c, d, e = grafico_metricas(y_test, test_pred, \"teste\", \"KNN\")"
      ]
    },
    {
      "cell_type": "code",
      "execution_count": null,
      "metadata": {
        "colab": {
          "base_uri": "https://localhost:8080/"
        },
        "id": "Fwn4z6Bn_TsU",
        "outputId": "467b3f22-51da-4810-b193-e3f9b8f6cf72"
      },
      "outputs": [
        {
          "data": {
            "image/png": "[encoded data removed]",
            "text/plain": [
              "<Figure size 1800x720 with 2 Axes>"
            ]
          },
          "metadata": {},
          "output_type": "display_data"
        }
      ],
      "source": [
        "f, g, h, i, j = grafico_metricas(y_train, train_pred, \"treino\", \"KNN\")"
      ]
    },
    {
      "cell_type": "markdown",
      "metadata": {
        "id": "qS2yiFJAe7MG"
      },
      "source": [
        "**Criação de dataframe com as informações de métricas do modelo no teste e no treino**"
      ]
    },
    {
      "cell_type": "code",
      "execution_count": null,
      "metadata": {
        "colab": {
          "base_uri": "https://localhost:8080/"
        },
        "id": "JQV0zzqk_Uy3",
        "outputId": "b3be0616-b406-4970-9df4-4d489a13d432"
      },
      "outputs": [
        {
          "data": {
            "text/html": [
              "\n",
              "  <div id=\"df-8fa15684-332c-4a2a-b74e-6253423163a6\">\n",
              "    <div class=\"colab-df-container\">\n",
              "      <div>\n",
              "<style scoped>\n",
              "    .dataframe tbody tr th:only-of-type {\n",
              "        vertical-align: middle;\n",
              "    }\n",
              "\n",
              "    .dataframe tbody tr th {\n",
              "        vertical-align: top;\n",
              "    }\n",
              "\n",
              "    .dataframe thead th {\n",
              "        text-align: right;\n",
              "    }\n",
              "</style>\n",
              "<table border=\"1\" class=\"dataframe\">\n",
              "  <thead>\n",
              "    <tr style=\"text-align: right;\">\n",
              "      <th></th>\n",
              "      <th>Modelo</th>\n",
              "      <th>Tipo_de_dado</th>\n",
              "      <th>r²</th>\n",
              "      <th>ρ</th>\n",
              "      <th>std σ</th>\n",
              "      <th>SE</th>\n",
              "      <th>var</th>\n",
              "    </tr>\n",
              "  </thead>\n",
              "  <tbody>\n",
              "    <tr>\n",
              "      <th>0</th>\n",
              "      <td>KNN</td>\n",
              "      <td>Teste</td>\n",
              "      <td>0.99</td>\n",
              "      <td>0.0</td>\n",
              "      <td>0.736970</td>\n",
              "      <td>0.002143</td>\n",
              "      <td>0.543125</td>\n",
              "    </tr>\n",
              "    <tr>\n",
              "      <th>1</th>\n",
              "      <td>KNN</td>\n",
              "      <td>Treino</td>\n",
              "      <td>1.00</td>\n",
              "      <td>0.0</td>\n",
              "      <td>0.476215</td>\n",
              "      <td>0.000582</td>\n",
              "      <td>0.226781</td>\n",
              "    </tr>\n",
              "  </tbody>\n",
              "</table>\n",
              "</div>\n",
              "      <button class=\"colab-df-convert\" onclick=\"convertToInteractive('df-8fa15684-332c-4a2a-b74e-6253423163a6')\"\n",
              "              title=\"Convert this dataframe to an interactive table.\"\n",
              "              style=\"display:none;\">\n",
              "        \n",
              "  <svg xmlns=\"http://www.w3.org/2000/svg\" height=\"24px\"viewBox=\"0 0 24 24\"\n",
              "       width=\"24px\">\n",
              "    <path d=\"M0 0h24v24H0V0z\" fill=\"none\"/>\n",
              "    <path d=\"M18.56 5.44l.94 2.06.94-2.06 2.06-.94-2.06-.94-.94-2.06-.94 2.06-2.06.94zm-11 1L8.5 8.5l.94-2.06 2.06-.94-2.06-.94L8.5 2.5l-.94 2.06-2.06.94zm10 10l.94 2.06.94-2.06 2.06-.94-2.06-.94-.94-2.06-.94 2.06-2.06.94z\"/><path d=\"M17.41 7.96l-1.37-1.37c-.4-.4-.92-.59-1.43-.59-.52 0-1.04.2-1.43.59L10.3 9.45l-7.72 7.72c-.78.78-.78 2.05 0 2.83L4 21.41c.39.39.9.59 1.41.59.51 0 1.02-.2 1.41-.59l7.78-7.78 2.81-2.81c.8-.78.8-2.07 0-2.86zM5.41 20L4 18.59l7.72-7.72 1.47 1.35L5.41 20z\"/>\n",
              "  </svg>\n",
              "      </button>\n",
              "      \n",
              "  <style>\n",
              "    .colab-df-container {\n",
              "      display:flex;\n",
              "      flex-wrap:wrap;\n",
              "      gap: 12px;\n",
              "    }\n",
              "\n",
              "    .colab-df-convert {\n",
              "      background-color: #E8F0FE;\n",
              "      border: none;\n",
              "      border-radius: 50%;\n",
              "      cursor: pointer;\n",
              "      display: none;\n",
              "      fill: #1967D2;\n",
              "      height: 32px;\n",
              "      padding: 0 0 0 0;\n",
              "      width: 32px;\n",
              "    }\n",
              "\n",
              "    .colab-df-convert:hover {\n",
              "      background-color: #E2EBFA;\n",
              "      box-shadow: 0px 1px 2px rgba(60, 64, 67, 0.3), 0px 1px 3px 1px rgba(60, 64, 67, 0.15);\n",
              "      fill: #174EA6;\n",
              "    }\n",
              "\n",
              "    [theme=dark] .colab-df-convert {\n",
              "      background-color: #3B4455;\n",
              "      fill: #D2E3FC;\n",
              "    }\n",
              "\n",
              "    [theme=dark] .colab-df-convert:hover {\n",
              "      background-color: #434B5C;\n",
              "      box-shadow: 0px 1px 3px 1px rgba(0, 0, 0, 0.15);\n",
              "      filter: drop-shadow(0px 1px 2px rgba(0, 0, 0, 0.3));\n",
              "      fill: #FFFFFF;\n",
              "    }\n",
              "  </style>\n",
              "\n",
              "      <script>\n",
              "        const buttonEl =\n",
              "          document.querySelector('#df-8fa15684-332c-4a2a-b74e-6253423163a6 button.colab-df-convert');\n",
              "        buttonEl.style.display =\n",
              "          google.colab.kernel.accessAllowed ? 'block' : 'none';\n",
              "\n",
              "        async function convertToInteractive(key) {\n",
              "          const element = document.querySelector('#df-8fa15684-332c-4a2a-b74e-6253423163a6');\n",
              "          const dataTable =\n",
              "            await google.colab.kernel.invokeFunction('convertToInteractive',\n",
              "                                                     [key], {});\n",
              "          if (!dataTable) return;\n",
              "\n",
              "          const docLinkHtml = 'Like what you see? Visit the ' +\n",
              "            '<a target=\"_blank\" href=https://colab.research.google.com/notebooks/data_table.ipynb>data table notebook</a>'\n",
              "            + ' to learn more about interactive tables.';\n",
              "          element.innerHTML = '';\n",
              "          dataTable['output_type'] = 'display_data';\n",
              "          await google.colab.output.renderOutput(dataTable, element);\n",
              "          const docLink = document.createElement('div');\n",
              "          docLink.innerHTML = docLinkHtml;\n",
              "          element.appendChild(docLink);\n",
              "        }\n",
              "      </script>\n",
              "    </div>\n",
              "  </div>\n",
              "  "
            ],
            "text/plain": [
              "  Modelo Tipo_de_dado    r²    ρ     std σ        SE       var\n",
              "0    KNN        Teste  0.99  0.0  0.736970  0.002143  0.543125\n",
              "1    KNN       Treino  1.00  0.0  0.476215  0.000582  0.226781"
            ]
          },
          "execution_count": 46,
          "metadata": {},
          "output_type": "execute_result"
        }
      ],
      "source": [
        "dic_results_teste = {'Modelo': 'KNN', 'Tipo_de_dado':['Teste','Treino'], 'r²':[a,f], 'ρ':[b,g] ,'std σ':[c,h],'SE':[d,i], 'var':[e,j]}\n",
        "results_teste_df = pd.DataFrame(data=dic_results_teste)\n",
        "results_teste_df"
      ]
    },
    {
      "cell_type": "code",
      "execution_count": null,
      "metadata": {
        "id": "D4ARjQW4MBW5"
      },
      "outputs": [],
      "source": []
    },
    {
      "cell_type": "markdown",
      "metadata": {
        "id": "rDf69_9UwHbh"
      },
      "source": [
        "# Hiperparametrização"
      ]
    },
    {
      "cell_type": "markdown",
      "metadata": {
        "id": "RhsvEq36JbRE"
      },
      "source": [
        "O Grid Search é uma técnica utilizada para testarmos possibilidade de parâmetros diferentes de um modelo preditivo. Seu diferencial é que ele testa todas as possibilidade possíveis, assim, descobrindo sempre qual é a melhor. Aqui utilizamos essa técnica para descobrirmos os melhores parâmetros do modelo KNN."
      ]
    },
    {
      "cell_type": "markdown",
      "metadata": {
        "id": "dyQkVPK6wNQo"
      },
      "source": [
        "**Criação de um dicionário contendo as informações para teste do Grid Search**\n",
        "\n",
        "No dicionário temos as informações de \"n_neighbors\" e \"p\", sendo elas, a quantidade de vizinhos de K que o modelo irá considerar na avaliação e a métrica utilizada para medir a distância entre valores, respectivamente."
      ]
    },
    {
      "cell_type": "code",
      "execution_count": null,
      "metadata": {
        "id": "gpwJ1SpFwMed"
      },
      "outputs": [],
      "source": [
        "grid_params = { 'n_neighbors' : [2,4,6,8,10,12,14,16,18,20,22,24,26,28,30],'p' : [1,2]}"
      ]
    },
    {
      "cell_type": "markdown",
      "metadata": {
        "id": "gC8xPU9ExS4f"
      },
      "source": [
        "**Criação do Grid Search e inserção dos parâmetros**\n",
        "\n",
        "Importamos a biblioteca do Grid Search, e ao criar o modelo, inserimos o dicionário que criamos acima."
      ]
    },
    {
      "cell_type": "code",
      "execution_count": null,
      "metadata": {
        "id": "B_Y4hMFqxQQa"
      },
      "outputs": [],
      "source": [
        "from sklearn.model_selection import GridSearchCV\n",
        "gs = GridSearchCV(KNeighborsRegressor(),grid_params,scoring='r2')"
      ]
    },
    {
      "cell_type": "markdown",
      "metadata": {
        "id": "V31lmHxIxjk2"
      },
      "source": [
        "**Inserção de valores para treino**\n",
        "\n",
        "No modelo criado, inserimos os datasets de treino"
      ]
    },
    {
      "cell_type": "code",
      "execution_count": null,
      "metadata": {
        "colab": {
          "background_save": true
        },
        "id": "JYwKxzENxjsA",
        "outputId": "2c9c4d5e-6eff-4c57-93df-c03a4843e023"
      },
      "outputs": [
        {
          "data": {
            "text/plain": [
              "GridSearchCV(estimator=KNeighborsRegressor(),\n",
              "             param_grid={'n_neighbors': [2, 4, 6, 8, 10, 12, 14, 16, 18, 20, 22,\n",
              "                                         24, 26, 28, 30],\n",
              "                         'p': [1, 2]},\n",
              "             scoring='r2')"
            ]
          },
          "execution_count": 49,
          "metadata": {},
          "output_type": "execute_result"
        }
      ],
      "source": [
        "gs.fit(X_train, y_train)"
      ]
    },
    {
      "cell_type": "markdown",
      "metadata": {
        "id": "kQVesYpUxzAo"
      },
      "source": [
        "**Melhor execução**\n",
        "\n",
        "Após o treino, printamos os melhores parâmetros e a pontuação que eles obtiveram"
      ]
    },
    {
      "cell_type": "code",
      "execution_count": null,
      "metadata": {
        "colab": {
          "background_save": true
        },
        "id": "B1trueFAxomV",
        "outputId": "920a8996-8cff-4ecd-d301-ed379afe5e02"
      },
      "outputs": [
        {
          "name": "stdout",
          "output_type": "stream",
          "text": [
            "0.9878205450182657\n",
            "{'n_neighbors': 2, 'p': 1}\n"
          ]
        }
      ],
      "source": [
        "print(gs.best_score_)\n",
        "print(gs.best_params_)"
      ]
    },
    {
      "cell_type": "markdown",
      "metadata": {
        "id": "2nzJ1amFeu6b"
      },
      "source": [
        "**Predição utilizando o Grid Search**"
      ]
    },
    {
      "cell_type": "code",
      "execution_count": null,
      "metadata": {
        "colab": {
          "background_save": true
        },
        "id": "M-yixO8dzgjQ"
      },
      "outputs": [],
      "source": [
        "gs_predict = gs.predict(X_test)"
      ]
    },
    {
      "cell_type": "markdown",
      "metadata": {
        "id": "S7L5utP-eyf1"
      },
      "source": [
        "**Métricas da predição do Grid Search**"
      ]
    },
    {
      "cell_type": "code",
      "execution_count": null,
      "metadata": {
        "colab": {
          "background_save": true
        },
        "id": "xRfwBuh9emzZ",
        "outputId": "4d705c81-9c88-4e44-b92d-ed1222587a9e"
      },
      "outputs": [
        {
          "name": "stdout",
          "output_type": "stream",
          "text": [
            "0.9914203379733273\n",
            "0.46964639590132057\n",
            "0.5431202530816185\n"
          ]
        }
      ],
      "source": [
        "from sklearn.metrics import mean_absolute_error, mean_squared_error, r2_score\n",
        "print(r2_score(y_test, gs_predict)) #R quadrado\n",
        "print(mean_absolute_error(y_test, gs_predict)) #erro médio absoluto\n",
        "print(mean_squared_error(y_test, gs_predict)) #erro médio quadrático"
      ]
    }
  ],
  "metadata": {
    "colab": {
      "provenance": []
    },
    "kernelspec": {
      "display_name": "Python 3.10.7 64-bit",
      "language": "python",
      "name": "python3"
    },
    "language_info": {
      "codemirror_mode": {
        "name": "ipython",
        "version": 3
      },
      "file_extension": ".py",
      "mimetype": "text/x-python",
      "name": "python",
      "nbconvert_exporter": "python",
      "pygments_lexer": "ipython3",
      "version": "3.10.7"
    },
    "vscode": {
      "interpreter": {
        "hash": "2881cb102472c0a2cc7b98c9f5b468e81049b20ea6d80c54eb33ba6f13a3277c"
      }
    }
  },
  "nbformat": 4,
  "nbformat_minor": 0
}