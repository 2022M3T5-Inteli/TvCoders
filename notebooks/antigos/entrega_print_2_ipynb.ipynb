{
  "nbformat": 4,
  "nbformat_minor": 0,
  "metadata": {
    "colab": {
      "name": "entrega-print-2-ipynb",
      "provenance": []
    },
    "kernelspec": {
      "name": "python3",
      "display_name": "Python 3"
    },
    "language_info": {
      "name": "python"
    }
  },
  "cells": [
    {
      "cell_type": "markdown",
      "source": [
        "# TV Coders - Geração de base de dados para treinamento\n",
        "\n",
        "### Autores: Autor 1, Autor 2, Autor 3, Autor 4, Autor 5."
      ],
      "metadata": {
        "id": "Uk1dPlB78kbd"
      }
    },
    {
      "cell_type": "markdown",
      "source": [
        "### Importação das bibliotecas necessárias para a manipulação de dados"
      ],
      "metadata": {
        "id": "SXYAH-Mc9T1a"
      }
    },
    {
      "cell_type": "code",
      "source": [
        "from google.colab import drive\n",
        "import pandas as pd"
      ],
      "metadata": {
        "id": "umoZMd5C8-Zm"
      },
      "execution_count": 3,
      "outputs": []
    },
    {
      "cell_type": "markdown",
      "source": [
        "### Criação da comunicação com o Google Drive para o acesso dos dados."
      ],
      "metadata": {
        "id": "shby_RWZ9e3B"
      }
    },
    {
      "cell_type": "code",
      "source": [
        "drive.mount('/content/drive')\n",
        "pd.set_option('display.max_columns', None) # Comando para que todas as colunas sejam exibidas."
      ],
      "metadata": {
        "colab": {
          "base_uri": "https://localhost:8080/"
        },
        "id": "bj70yVRA8mMM",
        "outputId": "ffd183f3-0dfb-4a9b-ea1f-650ad46c0dbb"
      },
      "execution_count": 4,
      "outputs": [
        {
          "output_type": "stream",
          "name": "stdout",
          "text": [
            "Mounted at /content/drive\n"
          ]
        }
      ]
    },
    {
      "cell_type": "markdown",
      "source": [
        "### Leitura da base de dados disponibilizada, bem como a de suas abas. Tais dados foram carregados em diferentes dataframes. \n",
        "Seleção das abas pertinentes ao parceiro que possuem os dados referentes aos dias da úteis e aos finais de semana."
      ],
      "metadata": {
        "id": "UoKBpp2I9-f9"
      }
    },
    {
      "cell_type": "code",
      "source": [
        "dados_totais_tv_df = pd.ExcelFile(\"/content/drive/My Drive/Colab Notebooks/entrega-sprint-2/dados/dados-tv-inteli.xlsx\")\n",
        "\n",
        "dados_tv_gazeta = pd.read_excel(dados_totais_tv_df, \"TV Gazeta (GLO) - Seg a Sex\")\n",
        "dados_tv_gazeta_sab = pd.read_excel(dados_totais_tv_df, \"TV Gazeta (GLO) - Sáb\")\n",
        "dados_tv_gazeta_dom = pd.read_excel(dados_totais_tv_df, \"TV Gazeta (GLO) - Dom\")"
      ],
      "metadata": {
        "id": "UPKRJPz99Ckz",
        "colab": {
          "base_uri": "https://localhost:8080/",
          "height": 393
        },
        "outputId": "6f372d85-fc43-4e46-d2d3-cb1faff08a48"
      },
      "execution_count": 7,
      "outputs": [
        {
          "output_type": "error",
          "ename": "FileNotFoundError",
          "evalue": "ignored",
          "traceback": [
            "\u001b[0;31m---------------------------------------------------------------------------\u001b[0m",
            "\u001b[0;31mFileNotFoundError\u001b[0m                         Traceback (most recent call last)",
            "\u001b[0;32m<ipython-input-7-f63f0ab80768>\u001b[0m in \u001b[0;36m<module>\u001b[0;34m\u001b[0m\n\u001b[0;32m----> 1\u001b[0;31m \u001b[0mdados_totais_tv_df\u001b[0m \u001b[0;34m=\u001b[0m \u001b[0mpd\u001b[0m\u001b[0;34m.\u001b[0m\u001b[0mExcelFile\u001b[0m\u001b[0;34m(\u001b[0m\u001b[0;34m\"/content/drive/My Drive/Colab Notebooks/entrega-sprint-2/dados/dados-tv-inteli.xlsx\"\u001b[0m\u001b[0;34m)\u001b[0m\u001b[0;34m\u001b[0m\u001b[0;34m\u001b[0m\u001b[0m\n\u001b[0m\u001b[1;32m      2\u001b[0m \u001b[0;34m\u001b[0m\u001b[0m\n\u001b[1;32m      3\u001b[0m \u001b[0mdados_tv_gazeta\u001b[0m \u001b[0;34m=\u001b[0m \u001b[0mpd\u001b[0m\u001b[0;34m.\u001b[0m\u001b[0mread_excel\u001b[0m\u001b[0;34m(\u001b[0m\u001b[0mdados_totais_tv_df\u001b[0m\u001b[0;34m,\u001b[0m \u001b[0;34m\"TV Gazeta (GLO) - Seg a Sex\"\u001b[0m\u001b[0;34m)\u001b[0m\u001b[0;34m\u001b[0m\u001b[0;34m\u001b[0m\u001b[0m\n\u001b[1;32m      4\u001b[0m \u001b[0mdados_tv_gazeta_sab\u001b[0m \u001b[0;34m=\u001b[0m \u001b[0mpd\u001b[0m\u001b[0;34m.\u001b[0m\u001b[0mread_excel\u001b[0m\u001b[0;34m(\u001b[0m\u001b[0mdados_totais_tv_df\u001b[0m\u001b[0;34m,\u001b[0m \u001b[0;34m\"TV Gazeta (GLO) - Sáb\"\u001b[0m\u001b[0;34m)\u001b[0m\u001b[0;34m\u001b[0m\u001b[0;34m\u001b[0m\u001b[0m\n\u001b[1;32m      5\u001b[0m \u001b[0mdados_tv_gazeta_dom\u001b[0m \u001b[0;34m=\u001b[0m \u001b[0mpd\u001b[0m\u001b[0;34m.\u001b[0m\u001b[0mread_excel\u001b[0m\u001b[0;34m(\u001b[0m\u001b[0mdados_totais_tv_df\u001b[0m\u001b[0;34m,\u001b[0m \u001b[0;34m\"TV Gazeta (GLO) - Dom\"\u001b[0m\u001b[0;34m)\u001b[0m\u001b[0;34m\u001b[0m\u001b[0;34m\u001b[0m\u001b[0m\n",
            "\u001b[0;32m/usr/local/lib/python3.7/dist-packages/pandas/io/excel/_base.py\u001b[0m in \u001b[0;36m__init__\u001b[0;34m(self, path_or_buffer, engine, storage_options)\u001b[0m\n\u001b[1;32m   1190\u001b[0m             \u001b[0;32melse\u001b[0m\u001b[0;34m:\u001b[0m\u001b[0;34m\u001b[0m\u001b[0;34m\u001b[0m\u001b[0m\n\u001b[1;32m   1191\u001b[0m                 ext = inspect_excel_format(\n\u001b[0;32m-> 1192\u001b[0;31m                     \u001b[0mcontent_or_path\u001b[0m\u001b[0;34m=\u001b[0m\u001b[0mpath_or_buffer\u001b[0m\u001b[0;34m,\u001b[0m \u001b[0mstorage_options\u001b[0m\u001b[0;34m=\u001b[0m\u001b[0mstorage_options\u001b[0m\u001b[0;34m\u001b[0m\u001b[0;34m\u001b[0m\u001b[0m\n\u001b[0m\u001b[1;32m   1193\u001b[0m                 )\n\u001b[1;32m   1194\u001b[0m                 \u001b[0;32mif\u001b[0m \u001b[0mext\u001b[0m \u001b[0;32mis\u001b[0m \u001b[0;32mNone\u001b[0m\u001b[0;34m:\u001b[0m\u001b[0;34m\u001b[0m\u001b[0;34m\u001b[0m\u001b[0m\n",
            "\u001b[0;32m/usr/local/lib/python3.7/dist-packages/pandas/io/excel/_base.py\u001b[0m in \u001b[0;36minspect_excel_format\u001b[0;34m(content_or_path, storage_options)\u001b[0m\n\u001b[1;32m   1069\u001b[0m \u001b[0;34m\u001b[0m\u001b[0m\n\u001b[1;32m   1070\u001b[0m     with get_handle(\n\u001b[0;32m-> 1071\u001b[0;31m         \u001b[0mcontent_or_path\u001b[0m\u001b[0;34m,\u001b[0m \u001b[0;34m\"rb\"\u001b[0m\u001b[0;34m,\u001b[0m \u001b[0mstorage_options\u001b[0m\u001b[0;34m=\u001b[0m\u001b[0mstorage_options\u001b[0m\u001b[0;34m,\u001b[0m \u001b[0mis_text\u001b[0m\u001b[0;34m=\u001b[0m\u001b[0;32mFalse\u001b[0m\u001b[0;34m\u001b[0m\u001b[0;34m\u001b[0m\u001b[0m\n\u001b[0m\u001b[1;32m   1072\u001b[0m     ) as handle:\n\u001b[1;32m   1073\u001b[0m         \u001b[0mstream\u001b[0m \u001b[0;34m=\u001b[0m \u001b[0mhandle\u001b[0m\u001b[0;34m.\u001b[0m\u001b[0mhandle\u001b[0m\u001b[0;34m\u001b[0m\u001b[0;34m\u001b[0m\u001b[0m\n",
            "\u001b[0;32m/usr/local/lib/python3.7/dist-packages/pandas/io/common.py\u001b[0m in \u001b[0;36mget_handle\u001b[0;34m(path_or_buf, mode, encoding, compression, memory_map, is_text, errors, storage_options)\u001b[0m\n\u001b[1;32m    709\u001b[0m         \u001b[0;32melse\u001b[0m\u001b[0;34m:\u001b[0m\u001b[0;34m\u001b[0m\u001b[0;34m\u001b[0m\u001b[0m\n\u001b[1;32m    710\u001b[0m             \u001b[0;31m# Binary mode\u001b[0m\u001b[0;34m\u001b[0m\u001b[0;34m\u001b[0m\u001b[0;34m\u001b[0m\u001b[0m\n\u001b[0;32m--> 711\u001b[0;31m             \u001b[0mhandle\u001b[0m \u001b[0;34m=\u001b[0m \u001b[0mopen\u001b[0m\u001b[0;34m(\u001b[0m\u001b[0mhandle\u001b[0m\u001b[0;34m,\u001b[0m \u001b[0mioargs\u001b[0m\u001b[0;34m.\u001b[0m\u001b[0mmode\u001b[0m\u001b[0;34m)\u001b[0m\u001b[0;34m\u001b[0m\u001b[0;34m\u001b[0m\u001b[0m\n\u001b[0m\u001b[1;32m    712\u001b[0m         \u001b[0mhandles\u001b[0m\u001b[0;34m.\u001b[0m\u001b[0mappend\u001b[0m\u001b[0;34m(\u001b[0m\u001b[0mhandle\u001b[0m\u001b[0;34m)\u001b[0m\u001b[0;34m\u001b[0m\u001b[0;34m\u001b[0m\u001b[0m\n\u001b[1;32m    713\u001b[0m \u001b[0;34m\u001b[0m\u001b[0m\n",
            "\u001b[0;31mFileNotFoundError\u001b[0m: [Errno 2] No such file or directory: '/content/drive/My Drive/Colab Notebooks/entrega-sprint-2/dados/dados-tv-inteli.xlsx'"
          ]
        }
      ]
    },
    {
      "cell_type": "markdown",
      "source": [
        "### Exibição dos dados dos dataframes criados"
      ],
      "metadata": {
        "id": "pdfMu_yoHJN5"
      }
    },
    {
      "cell_type": "code",
      "source": [
        "dados_tv_gazeta.info()"
      ],
      "metadata": {
        "id": "a5SHpvgmFWiJ"
      },
      "execution_count": null,
      "outputs": []
    },
    {
      "cell_type": "code",
      "source": [
        "dados_tv_gazeta_sab.info()"
      ],
      "metadata": {
        "id": "d_DG3U6CIMhs"
      },
      "execution_count": null,
      "outputs": []
    },
    {
      "cell_type": "code",
      "source": [
        "dados_tv_gazeta_dom.info()"
      ],
      "metadata": {
        "id": "C7984Po-IMqH"
      },
      "execution_count": null,
      "outputs": []
    },
    {
      "cell_type": "markdown",
      "source": [
        "### Seleção das colunas de interesse de cada dataframe\n",
        "Seleção das colunas de Data, Dia da Semana, Horário e todas as colunas referentes à métrica rat%."
      ],
      "metadata": {
        "id": "HU8yQj_BIldf"
      }
    },
    {
      "cell_type": "code",
      "source": [
        "dados_totais = {'Data': dados_tv_gazeta['Data'], 'Dia da Semana': dados_tv_gazeta['Dia da Semana'], 'Horario': dados_tv_gazeta['Hora Início'], 'Total de Domicílios': dados_tv_gazeta['Total Domicílios | Rat%'], 'Masculino': dados_tv_gazeta['Masculino | Rat%'], 'Feminino': dados_tv_gazeta['Feminino | Rat%'], 'AB': dados_tv_gazeta['AB | Rat%'], 'C1': dados_tv_gazeta['C1 | Rat%'], 'C2': dados_tv_gazeta['C2 | Rat%'], 'DE': dados_tv_gazeta['DE | Rat%'], '4-11 anos': dados_tv_gazeta['4-11 anos | Rat%'], '12-17 anos': dados_tv_gazeta['12-17 anos | Rat%'], '18-24 anos': dados_tv_gazeta['18-24 anos | Rat%'], '25-34 anos': dados_tv_gazeta['25-34 anos | Rat%'], '35-49 anos': dados_tv_gazeta['35-49 anos | Rat%'], '50-59 anos': dados_tv_gazeta['50-59 anos | Rat%'], '60+ anos': dados_tv_gazeta['60+ anos | Rat%']}\n",
        "df_dados_totais = pd.DataFrame(data=dados_totais)\n",
        "\n",
        "dados_totais_sab = {'Data': dados_tv_gazeta_sab['Data'], 'Dia da Semana': dados_tv_gazeta_sab['Dia da Semana'], 'Horario': dados_tv_gazeta_sab['Hora Início'], 'Total de Domicílios': dados_tv_gazeta_sab['Total Domicílios | Rat%'], 'Masculino': dados_tv_gazeta_sab['Masculino | Rat%'], 'Feminino': dados_tv_gazeta_sab['Feminino | Rat%'], 'AB': dados_tv_gazeta_sab['AB | Rat%'], 'C1': dados_tv_gazeta_sab['C1 | Rat%'], 'C2': dados_tv_gazeta_sab['C2 | Rat%'], 'DE': dados_tv_gazeta_sab['DE | Rat%'], '4-11 anos': dados_tv_gazeta_sab['4-11 anos | Rat%'], '12-17 anos': dados_tv_gazeta_sab['12-17 anos | Rat%'], '18-24 anos': dados_tv_gazeta_sab['18-24 anos | Rat%'], '25-34 anos': dados_tv_gazeta_sab['25-34 anos | Rat%'], '35-49 anos': dados_tv_gazeta_sab['35-49 anos | Rat%'], '50-59 anos': dados_tv_gazeta_sab['50-59 anos | Rat%'], '60+ anos': dados_tv_gazeta_sab['60+ anos | Rat%']}\n",
        "df_dados_totais_sab = pd.DataFrame(data=dados_totais_sab)\n",
        "\n",
        "dados_totais_dom = {'Data': dados_tv_gazeta_dom['Data'], 'Dia da Semana': dados_tv_gazeta_dom['Dia da Semana'], 'Horario': dados_tv_gazeta_dom['Hora Início'], 'Total de Domicílios': dados_tv_gazeta_dom['Total Domicílios | Rat%'], 'Masculino': dados_tv_gazeta_dom['Masculino | Rat%'], 'Feminino': dados_tv_gazeta_dom['Feminino | Rat%'], 'AB': dados_tv_gazeta_dom['AB | Rat%'], 'C1': dados_tv_gazeta_dom['C1 | Rat%'], 'C2': dados_tv_gazeta_dom['C2 | Rat%'], 'DE': dados_tv_gazeta_dom['DE | Rat%'], '4-11 anos': dados_tv_gazeta_dom['4-11 anos | Rat%'], '12-17 anos': dados_tv_gazeta_dom['12-17 anos | Rat%'], '18-24 anos': dados_tv_gazeta_dom['18-24 anos | Rat%'], '25-34 anos': dados_tv_gazeta_dom['25-34 anos | Rat%'], '35-49 anos': dados_tv_gazeta_dom['35-49 anos | Rat%'], '50-59 anos': dados_tv_gazeta_dom['50-59 anos | Rat%'], '60+ anos': dados_tv_gazeta_dom['60+ anos | Rat%']}\n",
        "df_dados_totais_dom = pd.DataFrame(data=dados_totais_dom)\n",
        "\n",
        "df_dados_totais_sab.head()"
      ],
      "metadata": {
        "id": "jB2hgbGAF4GK"
      },
      "execution_count": null,
      "outputs": []
    },
    {
      "cell_type": "markdown",
      "source": [
        "### Fusão dos dataframes com as colunas de interesse para a geração do dataframe com as colunas que contém os dados de interesse da Rede de TV 0.\n",
        "Junção dos dados de dias úteis, sábados e domingos em um único dataframe. Ordenação das datas para que ficassem cronologicamente certas."
      ],
      "metadata": {
        "id": "UlZj3ng7I-Fx"
      }
    },
    {
      "cell_type": "code",
      "source": [
        "df_dados_totais_mesclados = df_dados_totais.merge(df_dados_totais_sab.merge(df_dados_totais_dom, how='outer'), how='outer').sort_values('Data').reset_index()\n",
        "df_dados_totais_mesclados = df_dados_totais_mesclados.drop(\"index\", axis=1)\n",
        "df_dados_totais_mesclados.head(3)"
      ],
      "metadata": {
        "id": "fhDcNcPDFeIG"
      },
      "execution_count": null,
      "outputs": []
    },
    {
      "cell_type": "markdown",
      "source": [
        "### Leitura da base de dados complementar disponibilizada contendo a programação."
      ],
      "metadata": {
        "id": "SZWMmRUBO1Iq"
      }
    },
    {
      "cell_type": "code",
      "source": [
        "df_dados_modelo = pd.read_excel(\"/content/drive/My Drive/Colab Notebooks/entrega-sprint-2/dados/grade_Diária_06_2020_a_06_2022.xlsx\", \n",
        "                                sheet_name=\"Grade_Diária_06_2020_a_06_2022\")"
      ],
      "metadata": {
        "id": "91JGJYStJZvJ"
      },
      "execution_count": null,
      "outputs": []
    },
    {
      "cell_type": "code",
      "source": [
        "df_dados_modelo.info()"
      ],
      "metadata": {
        "id": "qvesfeadOCi1"
      },
      "execution_count": null,
      "outputs": []
    },
    {
      "cell_type": "markdown",
      "source": [
        "### Separação do horário de início e de término de um período de 5 minutos\n",
        "Não é necessário manter o horário de término de um intervalo, uma vez que ele já é informado no horário de ínicio da próxima linha. A célula é separada pelo hífen."
      ],
      "metadata": {
        "id": "ahiy3iQAs3tV"
      }
    },
    {
      "cell_type": "code",
      "source": [
        "df_dados_modelo[\"Faixa Horária\"].str.split(\"-\", expand=True)[0]"
      ],
      "metadata": {
        "id": "xinjSHW0Pnv_"
      },
      "execution_count": null,
      "outputs": []
    },
    {
      "cell_type": "markdown",
      "source": [
        "### Separação do nome do programa e a sua categoria em duas colunas\n",
        "No objetivo de obter uma melhor visualização. As colunas foram divididas através da barra."
      ],
      "metadata": {
        "id": "4KwYmLG9t2qG"
      }
    },
    {
      "cell_type": "code",
      "source": [
        "df_dados_modelo[\"TV Gazeta (GLO)\"].str.split(\"/\", expand=True)[0]"
      ],
      "metadata": {
        "id": "cRqMeMRjVldd"
      },
      "execution_count": null,
      "outputs": []
    },
    {
      "cell_type": "code",
      "source": [
        "dict_dados_modelo_processado = {\"Data\":df_dados_modelo[\"Data\"], \n",
        "                              \"Horário\":df_dados_modelo[\"Faixa Horária\"].str.split(\"-\", expand=True)[0],\n",
        "                              \"TV Gazeta (GLO) Programa\":df_dados_modelo[\"TV Gazeta (GLO)\"].str.split(\"/\", expand=True)[0], \n",
        "                              \"TV Gazeta (GLO) Gênero\": df_dados_modelo[\"TV Gazeta (GLO)\"].str.split(\"/\", expand=True)[1]}"
      ],
      "metadata": {
        "id": "tXFvf1ZjVo5O"
      },
      "execution_count": null,
      "outputs": []
    },
    {
      "cell_type": "code",
      "source": [
        "df_dados_modelo_processado = pd.DataFrame(dict_dados_modelo_processado)"
      ],
      "metadata": {
        "id": "d6mL6pnpVpnk"
      },
      "execution_count": null,
      "outputs": []
    },
    {
      "cell_type": "code",
      "source": [
        "df_dados_modelo_processado.head(50)"
      ],
      "metadata": {
        "id": "tmAXi55xVzzl"
      },
      "execution_count": null,
      "outputs": []
    },
    {
      "cell_type": "markdown",
      "source": [
        "### Inserção das colunas referentes a programação desejadas no dataframe que será utilizado"
      ],
      "metadata": {
        "id": "gc69Ubn7vMja"
      }
    },
    {
      "cell_type": "code",
      "source": [
        "df_dados_totais_mesclados.insert(loc=3, column='TV Gazeta (GLO) Programa', \n",
        "                       value=df_dados_modelo_processado[\"TV Gazeta (GLO) Programa\"])\n",
        "\n",
        "df_dados_totais_mesclados.insert(loc=4, column='TV Gazeta (GLO) Gênero', \n",
        "                       value=df_dados_modelo_processado[\"TV Gazeta (GLO) Gênero\"])"
      ],
      "metadata": {
        "id": "cSKAb5QTV0dc"
      },
      "execution_count": null,
      "outputs": []
    },
    {
      "cell_type": "code",
      "source": [
        "df_dados_totais_mesclados.head()"
      ],
      "metadata": {
        "id": "sozAGVt1WG_T"
      },
      "execution_count": null,
      "outputs": []
    },
    {
      "cell_type": "markdown",
      "source": [
        "### Checagem do dataframe criado para a eventual identificação de valores nulos"
      ],
      "metadata": {
        "id": "QWaDFB98RmUT"
      }
    },
    {
      "cell_type": "code",
      "source": [
        "df_dados_totais_mesclados.isnull().values.any()\n"
      ],
      "metadata": {
        "id": "R8OIPAK_WMeq"
      },
      "execution_count": null,
      "outputs": []
    },
    {
      "cell_type": "code",
      "source": [
        "import seaborn as sns\n",
        "\n",
        "#measurements = np.random.normal(loc = 20, scale = 5, size = 150)\n",
        "\n",
        "ax = sns.displot(df_dados_totais_mesclados[\"Total de Domicílios\"])\n",
        "\n"
      ],
      "metadata": {
        "id": "AKEh43nXRveA"
      },
      "execution_count": null,
      "outputs": []
    },
    {
      "cell_type": "code",
      "source": [
        "import warnings\n",
        "import matplotlib.pyplot as plt \n",
        "\n",
        "\n",
        "from scipy.stats import shapiro\n",
        "\n",
        "\n",
        "\n",
        "warnings.filterwarnings('ignore')\n",
        "plt.rcParams[\"figure.figsize\"] = [50, 25]\n"
      ],
      "metadata": {
        "id": "U7JkJuPiKO59"
      },
      "execution_count": null,
      "outputs": []
    },
    {
      "cell_type": "code",
      "source": [
        "i = 1\n",
        "for coluna in df_dados_totais_mesclados.columns[5:]:\n",
        "  \n",
        "  plt.title(coluna)\n",
        "  ax = plt.subplot(3,5,i)\n",
        "  sns.distplot(df_dados_totais_mesclados[coluna])\n",
        "  stat,p= shapiro(df_dados_totais_mesclados[coluna])\n",
        "\n",
        "  print(p)\n",
        "  i += 1\n",
        "\n",
        "plt.show()"
      ],
      "metadata": {
        "id": "dq5VQpvLLDZ1"
      },
      "execution_count": null,
      "outputs": []
    },
    {
      "cell_type": "code",
      "source": [
        "from scipy.stats import shapiro\n",
        "\n",
        "stat,p= shapiro(data)"
      ],
      "metadata": {
        "id": "C1t4mdALL492"
      },
      "execution_count": null,
      "outputs": []
    }
  ]
}